{
 "cells": [
  {
   "cell_type": "code",
   "execution_count": 1,
   "metadata": {},
   "outputs": [],
   "source": [
    "import numpy as np \n",
    "import pandas as pd \n",
    "import seaborn as sns\n",
    "import matplotlib.pyplot as plt\n",
    "import datetime as dt\n",
    "sns.set()\n",
    "%matplotlib inline"
   ]
  },
  {
   "cell_type": "code",
   "execution_count": 2,
   "metadata": {},
   "outputs": [
    {
     "data": {
      "text/html": [
       "<div>\n",
       "<style scoped>\n",
       "    .dataframe tbody tr th:only-of-type {\n",
       "        vertical-align: middle;\n",
       "    }\n",
       "\n",
       "    .dataframe tbody tr th {\n",
       "        vertical-align: top;\n",
       "    }\n",
       "\n",
       "    .dataframe thead th {\n",
       "        text-align: right;\n",
       "    }\n",
       "</style>\n",
       "<table border=\"1\" class=\"dataframe\">\n",
       "  <thead>\n",
       "    <tr style=\"text-align: right;\">\n",
       "      <th></th>\n",
       "      <th>Destination Display Name</th>\n",
       "      <th>Destination Geometry</th>\n",
       "      <th>Date</th>\n",
       "      <th>Travel time (seconds)</th>\n",
       "      <th>DriverID</th>\n",
       "      <th>Time</th>\n",
       "      <th>Unsafe</th>\n",
       "    </tr>\n",
       "  </thead>\n",
       "  <tbody>\n",
       "    <tr>\n",
       "      <th>0</th>\n",
       "      <td>4800 Balderama, Makati</td>\n",
       "      <td>[121,005416381948; 14,5501868058048]</td>\n",
       "      <td>31/07/2016</td>\n",
       "      <td>1224</td>\n",
       "      <td>5820</td>\n",
       "      <td>00:00:38</td>\n",
       "      <td>safe</td>\n",
       "    </tr>\n",
       "    <tr>\n",
       "      <th>1</th>\n",
       "      <td>0 1st Street, Quezon City</td>\n",
       "      <td>[121,034062093452; 14,6142310276554]</td>\n",
       "      <td>31/07/2016</td>\n",
       "      <td>1385</td>\n",
       "      <td>5511</td>\n",
       "      <td>00:00:52</td>\n",
       "      <td>safe</td>\n",
       "    </tr>\n",
       "    <tr>\n",
       "      <th>2</th>\n",
       "      <td>0 Hydra, Makati</td>\n",
       "      <td>[121,031114652068; 14,5616123563658]</td>\n",
       "      <td>31/07/2016</td>\n",
       "      <td>2257</td>\n",
       "      <td>5405</td>\n",
       "      <td>00:01:46</td>\n",
       "      <td>safe</td>\n",
       "    </tr>\n",
       "    <tr>\n",
       "      <th>3</th>\n",
       "      <td>Roxas Boulevard, Pasay</td>\n",
       "      <td>[120,989193110978; 14,5378405260156]</td>\n",
       "      <td>31/07/2016</td>\n",
       "      <td>1242</td>\n",
       "      <td>5262</td>\n",
       "      <td>00:02:26</td>\n",
       "      <td>safe</td>\n",
       "    </tr>\n",
       "    <tr>\n",
       "      <th>4</th>\n",
       "      <td>100 Jupiter, Mandaluyong</td>\n",
       "      <td>[121,019737475982; 14,5822100699773]</td>\n",
       "      <td>31/07/2016</td>\n",
       "      <td>1787</td>\n",
       "      <td>5511</td>\n",
       "      <td>00:02:36</td>\n",
       "      <td>safe</td>\n",
       "    </tr>\n",
       "  </tbody>\n",
       "</table>\n",
       "</div>"
      ],
      "text/plain": [
       "    Destination Display Name                  Destination Geometry  \\\n",
       "0     4800 Balderama, Makati  [121,005416381948; 14,5501868058048]   \n",
       "1  0 1st Street, Quezon City  [121,034062093452; 14,6142310276554]   \n",
       "2            0 Hydra, Makati  [121,031114652068; 14,5616123563658]   \n",
       "3     Roxas Boulevard, Pasay  [120,989193110978; 14,5378405260156]   \n",
       "4   100 Jupiter, Mandaluyong  [121,019737475982; 14,5822100699773]   \n",
       "\n",
       "         Date  Travel time (seconds)  DriverID      Time Unsafe  \n",
       "0  31/07/2016                   1224      5820  00:00:38   safe  \n",
       "1  31/07/2016                   1385      5511  00:00:52   safe  \n",
       "2  31/07/2016                   2257      5405  00:01:46   safe  \n",
       "3  31/07/2016                   1242      5262  00:02:26   safe  \n",
       "4  31/07/2016                   1787      5511  00:02:36   safe  "
      ]
     },
     "execution_count": 2,
     "metadata": {},
     "output_type": "execute_result"
    }
   ],
   "source": [
    "df1 = pd.read_csv('Eskwecabs Data 2016 TRULY_FIXED.csv', delimiter = ';', decimal = ',')\n",
    "df1.head()"
   ]
  },
  {
   "cell_type": "code",
   "execution_count": 3,
   "metadata": {},
   "outputs": [
    {
     "data": {
      "text/plain": [
       "(200000, 7)"
      ]
     },
     "metadata": {},
     "output_type": "display_data"
    },
    {
     "name": "stdout",
     "output_type": "stream",
     "text": [
      "<class 'pandas.core.frame.DataFrame'>\n",
      "RangeIndex: 200000 entries, 0 to 199999\n",
      "Data columns (total 7 columns):\n",
      "Destination Display Name    200000 non-null object\n",
      "Destination Geometry        200000 non-null object\n",
      "Date                        200000 non-null object\n",
      "Travel time (seconds)       200000 non-null int64\n",
      "DriverID                    200000 non-null int64\n",
      "Time                        200000 non-null object\n",
      "Unsafe                      200000 non-null object\n",
      "dtypes: int64(2), object(5)\n",
      "memory usage: 10.7+ MB\n"
     ]
    },
    {
     "data": {
      "text/plain": [
       "None"
      ]
     },
     "metadata": {},
     "output_type": "display_data"
    },
    {
     "data": {
      "text/html": [
       "<div>\n",
       "<style scoped>\n",
       "    .dataframe tbody tr th:only-of-type {\n",
       "        vertical-align: middle;\n",
       "    }\n",
       "\n",
       "    .dataframe tbody tr th {\n",
       "        vertical-align: top;\n",
       "    }\n",
       "\n",
       "    .dataframe thead th {\n",
       "        text-align: right;\n",
       "    }\n",
       "</style>\n",
       "<table border=\"1\" class=\"dataframe\">\n",
       "  <thead>\n",
       "    <tr style=\"text-align: right;\">\n",
       "      <th></th>\n",
       "      <th>Travel time (seconds)</th>\n",
       "      <th>DriverID</th>\n",
       "    </tr>\n",
       "  </thead>\n",
       "  <tbody>\n",
       "    <tr>\n",
       "      <th>count</th>\n",
       "      <td>200000.000000</td>\n",
       "      <td>200000.000000</td>\n",
       "    </tr>\n",
       "    <tr>\n",
       "      <th>mean</th>\n",
       "      <td>2514.353160</td>\n",
       "      <td>5442.147900</td>\n",
       "    </tr>\n",
       "    <tr>\n",
       "      <th>std</th>\n",
       "      <td>1109.687048</td>\n",
       "      <td>283.040984</td>\n",
       "    </tr>\n",
       "    <tr>\n",
       "      <th>min</th>\n",
       "      <td>38.000000</td>\n",
       "      <td>5005.000000</td>\n",
       "    </tr>\n",
       "    <tr>\n",
       "      <th>25%</th>\n",
       "      <td>1713.000000</td>\n",
       "      <td>5220.000000</td>\n",
       "    </tr>\n",
       "    <tr>\n",
       "      <th>50%</th>\n",
       "      <td>2452.000000</td>\n",
       "      <td>5404.000000</td>\n",
       "    </tr>\n",
       "    <tr>\n",
       "      <th>75%</th>\n",
       "      <td>3275.000000</td>\n",
       "      <td>5671.000000</td>\n",
       "    </tr>\n",
       "    <tr>\n",
       "      <th>max</th>\n",
       "      <td>7296.000000</td>\n",
       "      <td>5984.000000</td>\n",
       "    </tr>\n",
       "  </tbody>\n",
       "</table>\n",
       "</div>"
      ],
      "text/plain": [
       "       Travel time (seconds)       DriverID\n",
       "count          200000.000000  200000.000000\n",
       "mean             2514.353160    5442.147900\n",
       "std              1109.687048     283.040984\n",
       "min                38.000000    5005.000000\n",
       "25%              1713.000000    5220.000000\n",
       "50%              2452.000000    5404.000000\n",
       "75%              3275.000000    5671.000000\n",
       "max              7296.000000    5984.000000"
      ]
     },
     "metadata": {},
     "output_type": "display_data"
    }
   ],
   "source": [
    "display(df1.shape)\n",
    "display(df1.info())\n",
    "display(df1.describe())"
   ]
  },
  {
   "cell_type": "code",
   "execution_count": 4,
   "metadata": {},
   "outputs": [
    {
     "data": {
      "text/plain": [
       "Destination Display Name    0\n",
       "Destination Geometry        0\n",
       "Date                        0\n",
       "Travel time (seconds)       0\n",
       "DriverID                    0\n",
       "Time                        0\n",
       "Unsafe                      0\n",
       "dtype: int64"
      ]
     },
     "execution_count": 4,
     "metadata": {},
     "output_type": "execute_result"
    }
   ],
   "source": [
    "df1.isnull().sum()"
   ]
  },
  {
   "cell_type": "code",
   "execution_count": 5,
   "metadata": {},
   "outputs": [
    {
     "data": {
      "text/plain": [
       "0"
      ]
     },
     "execution_count": 5,
     "metadata": {},
     "output_type": "execute_result"
    }
   ],
   "source": [
    "df1.duplicated().sum()"
   ]
  },
  {
   "cell_type": "code",
   "execution_count": 6,
   "metadata": {},
   "outputs": [
    {
     "data": {
      "text/plain": [
       "safe        172736\n",
       "not safe     16947\n",
       "unsafe       10317\n",
       "Name: Unsafe, dtype: int64"
      ]
     },
     "execution_count": 6,
     "metadata": {},
     "output_type": "execute_result"
    }
   ],
   "source": [
    "df1['Unsafe'].value_counts()"
   ]
  },
  {
   "cell_type": "code",
   "execution_count": 7,
   "metadata": {},
   "outputs": [
    {
     "data": {
      "text/plain": [
       "safe      172736\n",
       "unsafe     27264\n",
       "Name: Unsafe, dtype: int64"
      ]
     },
     "execution_count": 7,
     "metadata": {},
     "output_type": "execute_result"
    }
   ],
   "source": [
    "df1['Unsafe'] = df1['Unsafe'].replace(to_replace='not safe', value='unsafe', regex=True)\n",
    "df1['Unsafe'].value_counts()"
   ]
  },
  {
   "cell_type": "code",
   "execution_count": 8,
   "metadata": {},
   "outputs": [
    {
     "data": {
      "image/png": "[encoded data removed]",
      "text/plain": [
       "<Figure size 1008x504 with 1 Axes>"
      ]
     },
     "metadata": {
      "needs_background": "light"
     },
     "output_type": "display_data"
    }
   ],
   "source": [
    "plt.figure(figsize = (14, 7))\n",
    "df1_tt = df1[['Travel time (seconds)', 'Unsafe']]\n",
    "test1 = sns.boxplot(x = 'Unsafe', y = 'Travel time (seconds)', data = df1_tt)\n",
    "test1.set_ylim(0,8000)\n",
    "plt.title('Box plots for Travel Time (in seconds) by Safety Indicator', fontsize = 15)\n",
    "plt.xlabel('Safety Indicator')\n",
    "plt.ylabel('Travel time (in seconds)')\n",
    "plt.show()"
   ]
  },
  {
   "cell_type": "code",
   "execution_count": 9,
   "metadata": {},
   "outputs": [
    {
     "data": {
      "text/html": [
       "<div>\n",
       "<style scoped>\n",
       "    .dataframe tbody tr th:only-of-type {\n",
       "        vertical-align: middle;\n",
       "    }\n",
       "\n",
       "    .dataframe tbody tr th {\n",
       "        vertical-align: top;\n",
       "    }\n",
       "\n",
       "    .dataframe thead th {\n",
       "        text-align: right;\n",
       "    }\n",
       "</style>\n",
       "<table border=\"1\" class=\"dataframe\">\n",
       "  <thead>\n",
       "    <tr style=\"text-align: right;\">\n",
       "      <th></th>\n",
       "      <th>Destination Display Name</th>\n",
       "      <th>Destination Geometry</th>\n",
       "      <th>Date</th>\n",
       "      <th>Travel time (seconds)</th>\n",
       "      <th>DriverID</th>\n",
       "      <th>Time</th>\n",
       "      <th>Unsafe</th>\n",
       "      <th>City Destination</th>\n",
       "    </tr>\n",
       "  </thead>\n",
       "  <tbody>\n",
       "    <tr>\n",
       "      <th>0</th>\n",
       "      <td>[4800 Balderama,  Makati]</td>\n",
       "      <td>[121,005416381948; 14,5501868058048]</td>\n",
       "      <td>31/07/2016</td>\n",
       "      <td>1224</td>\n",
       "      <td>5820</td>\n",
       "      <td>00:00:38</td>\n",
       "      <td>safe</td>\n",
       "      <td>Makati</td>\n",
       "    </tr>\n",
       "    <tr>\n",
       "      <th>1</th>\n",
       "      <td>[0 1st Street,  Quezon City]</td>\n",
       "      <td>[121,034062093452; 14,6142310276554]</td>\n",
       "      <td>31/07/2016</td>\n",
       "      <td>1385</td>\n",
       "      <td>5511</td>\n",
       "      <td>00:00:52</td>\n",
       "      <td>safe</td>\n",
       "      <td>Quezon City</td>\n",
       "    </tr>\n",
       "    <tr>\n",
       "      <th>2</th>\n",
       "      <td>[0 Hydra,  Makati]</td>\n",
       "      <td>[121,031114652068; 14,5616123563658]</td>\n",
       "      <td>31/07/2016</td>\n",
       "      <td>2257</td>\n",
       "      <td>5405</td>\n",
       "      <td>00:01:46</td>\n",
       "      <td>safe</td>\n",
       "      <td>Makati</td>\n",
       "    </tr>\n",
       "    <tr>\n",
       "      <th>3</th>\n",
       "      <td>[Roxas Boulevard,  Pasay]</td>\n",
       "      <td>[120,989193110978; 14,5378405260156]</td>\n",
       "      <td>31/07/2016</td>\n",
       "      <td>1242</td>\n",
       "      <td>5262</td>\n",
       "      <td>00:02:26</td>\n",
       "      <td>safe</td>\n",
       "      <td>Pasay</td>\n",
       "    </tr>\n",
       "    <tr>\n",
       "      <th>4</th>\n",
       "      <td>[100 Jupiter,  Mandaluyong]</td>\n",
       "      <td>[121,019737475982; 14,5822100699773]</td>\n",
       "      <td>31/07/2016</td>\n",
       "      <td>1787</td>\n",
       "      <td>5511</td>\n",
       "      <td>00:02:36</td>\n",
       "      <td>safe</td>\n",
       "      <td>Mandaluyong</td>\n",
       "    </tr>\n",
       "  </tbody>\n",
       "</table>\n",
       "</div>"
      ],
      "text/plain": [
       "       Destination Display Name                  Destination Geometry  \\\n",
       "0     [4800 Balderama,  Makati]  [121,005416381948; 14,5501868058048]   \n",
       "1  [0 1st Street,  Quezon City]  [121,034062093452; 14,6142310276554]   \n",
       "2            [0 Hydra,  Makati]  [121,031114652068; 14,5616123563658]   \n",
       "3     [Roxas Boulevard,  Pasay]  [120,989193110978; 14,5378405260156]   \n",
       "4   [100 Jupiter,  Mandaluyong]  [121,019737475982; 14,5822100699773]   \n",
       "\n",
       "         Date  Travel time (seconds)  DriverID      Time Unsafe  \\\n",
       "0  31/07/2016                   1224      5820  00:00:38   safe   \n",
       "1  31/07/2016                   1385      5511  00:00:52   safe   \n",
       "2  31/07/2016                   2257      5405  00:01:46   safe   \n",
       "3  31/07/2016                   1242      5262  00:02:26   safe   \n",
       "4  31/07/2016                   1787      5511  00:02:36   safe   \n",
       "\n",
       "  City Destination  \n",
       "0           Makati  \n",
       "1      Quezon City  \n",
       "2           Makati  \n",
       "3            Pasay  \n",
       "4      Mandaluyong  "
      ]
     },
     "execution_count": 9,
     "metadata": {},
     "output_type": "execute_result"
    }
   ],
   "source": [
    "df1_city = df1.copy()\n",
    "df1_city['Destination Display Name'] = df1_city['Destination Display Name'].apply(lambda x: x.split(','))\n",
    "df1_city['City Destination'] = df1_city['Destination Display Name'].apply(lambda x:x[-1])\n",
    "df1_city.head()"
   ]
  },
  {
   "cell_type": "code",
   "execution_count": 10,
   "metadata": {},
   "outputs": [
    {
     "data": {
      "text/plain": [
       " Manila                 52292\n",
       " Quezon City            37701\n",
       " Makati                 25644\n",
       " Pasay                  15593\n",
       " Pasig                  12078\n",
       " Taguig                 10975\n",
       " Mandaluyong            10705\n",
       " Paranaque              10397\n",
       " San Juan                8882\n",
       " Lungsod Quezon          6217\n",
       " Marikina                4787\n",
       " Maynila                 4264\n",
       " Lungsod ng San Juan      465\n",
       "Name: City Destination, dtype: int64"
      ]
     },
     "execution_count": 10,
     "metadata": {},
     "output_type": "execute_result"
    }
   ],
   "source": [
    "df1_city['City Destination'].value_counts()"
   ]
  },
  {
   "cell_type": "code",
   "execution_count": 11,
   "metadata": {},
   "outputs": [
    {
     "data": {
      "text/plain": [
       " Manila         56556\n",
       " Quezon City    43918\n",
       " Makati         25644\n",
       " Pasay          15593\n",
       " Pasig          12078\n",
       " Taguig         10975\n",
       " Mandaluyong    10705\n",
       " Paranaque      10397\n",
       " San Juan        9347\n",
       " Marikina        4787\n",
       "Name: City Destination, dtype: int64"
      ]
     },
     "execution_count": 11,
     "metadata": {},
     "output_type": "execute_result"
    }
   ],
   "source": [
    "df1_city['City Destination'] = df1_city['City Destination'].replace(to_replace = 'Maynila', value = 'Manila', regex=True)\n",
    "df1_city['City Destination'] = df1_city['City Destination'].replace(to_replace = 'Lungsod ng San Juan', value = 'San Juan', regex=True)\n",
    "df1_city['City Destination'] = df1_city['City Destination'].replace(to_replace = 'Lungsod Quezon', value = 'Quezon City', regex=True)\n",
    "df1_city['City Destination'].value_counts()"
   ]
  },
  {
   "cell_type": "code",
   "execution_count": 12,
   "metadata": {},
   "outputs": [
    {
     "data": {
      "text/plain": [
       "<Figure size 1008x504 with 0 Axes>"
      ]
     },
     "metadata": {},
     "output_type": "display_data"
    },
    {
     "data": {
      "image/png": "[encoded data removed]",
      "text/plain": [
       "<Figure size 432x288 with 1 Axes>"
      ]
     },
     "metadata": {
      "needs_background": "light"
     },
     "output_type": "display_data"
    }
   ],
   "source": [
    "plt.figure(figsize = (14, 7))\n",
    "test1 = df1_city.groupby(['City Destination', 'Unsafe'])['City Destination'].count().unstack('Unsafe').fillna(0)\n",
    "test1['total'] = test1['safe'] + test1['unsafe']\n",
    "test1_sort = test1.sort_values(by = 'total', ascending = True)\n",
    "test1_sort.plot.barh(y = ['safe', 'unsafe'], stacked = True)\n",
    "plt.legend(title = 'Ride Safety')\n",
    "plt.title('Ride Safety Classification by City Destination')\n",
    "plt.xlabel('Number of Rides')\n",
    "plt.show()"
   ]
  },
  {
   "cell_type": "code",
   "execution_count": 13,
   "metadata": {},
   "outputs": [
    {
     "data": {
      "image/png": "[encoded data removed]",
      "text/plain": [
       "<Figure size 1008x504 with 1 Axes>"
      ]
     },
     "metadata": {
      "needs_background": "light"
     },
     "output_type": "display_data"
    }
   ],
   "source": [
    "plt.figure(figsize = (14, 7))\n",
    "test1['Unsafe Ratio'] = test1['unsafe'] / (test1['safe'] + test1['unsafe']) \n",
    "test11 = test1['Unsafe Ratio'].sort_values(ascending = False).plot.bar()\n",
    "plt.title('Unsafe Ratio by City Destination', fontsize = 18)\n",
    "plt.xlabel('City Destination', fontsize = 14)\n",
    "plt.xticks(rotation = 0)\n",
    "plt.ylabel('Unsafe Ratio')\n",
    "test11.set_ylim(0,0.16)\n",
    "plt.show()"
   ]
  },
  {
   "cell_type": "code",
   "execution_count": 14,
   "metadata": {},
   "outputs": [
    {
     "data": {
      "text/html": [
       "<div>\n",
       "<style scoped>\n",
       "    .dataframe tbody tr th:only-of-type {\n",
       "        vertical-align: middle;\n",
       "    }\n",
       "\n",
       "    .dataframe tbody tr th {\n",
       "        vertical-align: top;\n",
       "    }\n",
       "\n",
       "    .dataframe thead th {\n",
       "        text-align: right;\n",
       "    }\n",
       "</style>\n",
       "<table border=\"1\" class=\"dataframe\">\n",
       "  <thead>\n",
       "    <tr style=\"text-align: right;\">\n",
       "      <th></th>\n",
       "      <th>Destination Display Name</th>\n",
       "      <th>Destination Geometry</th>\n",
       "      <th>Date</th>\n",
       "      <th>Travel time (seconds)</th>\n",
       "      <th>DriverID</th>\n",
       "      <th>Time</th>\n",
       "      <th>Unsafe</th>\n",
       "      <th>Hour Period</th>\n",
       "    </tr>\n",
       "  </thead>\n",
       "  <tbody>\n",
       "    <tr>\n",
       "      <th>0</th>\n",
       "      <td>4800 Balderama, Makati</td>\n",
       "      <td>[121,005416381948; 14,5501868058048]</td>\n",
       "      <td>31/07/2016</td>\n",
       "      <td>1224</td>\n",
       "      <td>5820</td>\n",
       "      <td>[00, 00, 38]</td>\n",
       "      <td>safe</td>\n",
       "      <td>0</td>\n",
       "    </tr>\n",
       "    <tr>\n",
       "      <th>1</th>\n",
       "      <td>0 1st Street, Quezon City</td>\n",
       "      <td>[121,034062093452; 14,6142310276554]</td>\n",
       "      <td>31/07/2016</td>\n",
       "      <td>1385</td>\n",
       "      <td>5511</td>\n",
       "      <td>[00, 00, 52]</td>\n",
       "      <td>safe</td>\n",
       "      <td>0</td>\n",
       "    </tr>\n",
       "    <tr>\n",
       "      <th>2</th>\n",
       "      <td>0 Hydra, Makati</td>\n",
       "      <td>[121,031114652068; 14,5616123563658]</td>\n",
       "      <td>31/07/2016</td>\n",
       "      <td>2257</td>\n",
       "      <td>5405</td>\n",
       "      <td>[00, 01, 46]</td>\n",
       "      <td>safe</td>\n",
       "      <td>0</td>\n",
       "    </tr>\n",
       "    <tr>\n",
       "      <th>3</th>\n",
       "      <td>Roxas Boulevard, Pasay</td>\n",
       "      <td>[120,989193110978; 14,5378405260156]</td>\n",
       "      <td>31/07/2016</td>\n",
       "      <td>1242</td>\n",
       "      <td>5262</td>\n",
       "      <td>[00, 02, 26]</td>\n",
       "      <td>safe</td>\n",
       "      <td>0</td>\n",
       "    </tr>\n",
       "    <tr>\n",
       "      <th>4</th>\n",
       "      <td>100 Jupiter, Mandaluyong</td>\n",
       "      <td>[121,019737475982; 14,5822100699773]</td>\n",
       "      <td>31/07/2016</td>\n",
       "      <td>1787</td>\n",
       "      <td>5511</td>\n",
       "      <td>[00, 02, 36]</td>\n",
       "      <td>safe</td>\n",
       "      <td>0</td>\n",
       "    </tr>\n",
       "  </tbody>\n",
       "</table>\n",
       "</div>"
      ],
      "text/plain": [
       "    Destination Display Name                  Destination Geometry  \\\n",
       "0     4800 Balderama, Makati  [121,005416381948; 14,5501868058048]   \n",
       "1  0 1st Street, Quezon City  [121,034062093452; 14,6142310276554]   \n",
       "2            0 Hydra, Makati  [121,031114652068; 14,5616123563658]   \n",
       "3     Roxas Boulevard, Pasay  [120,989193110978; 14,5378405260156]   \n",
       "4   100 Jupiter, Mandaluyong  [121,019737475982; 14,5822100699773]   \n",
       "\n",
       "         Date  Travel time (seconds)  DriverID          Time Unsafe  \\\n",
       "0  31/07/2016                   1224      5820  [00, 00, 38]   safe   \n",
       "1  31/07/2016                   1385      5511  [00, 00, 52]   safe   \n",
       "2  31/07/2016                   2257      5405  [00, 01, 46]   safe   \n",
       "3  31/07/2016                   1242      5262  [00, 02, 26]   safe   \n",
       "4  31/07/2016                   1787      5511  [00, 02, 36]   safe   \n",
       "\n",
       "   Hour Period  \n",
       "0            0  \n",
       "1            0  \n",
       "2            0  \n",
       "3            0  \n",
       "4            0  "
      ]
     },
     "execution_count": 14,
     "metadata": {},
     "output_type": "execute_result"
    }
   ],
   "source": [
    "df1_time = df1.copy()\n",
    "df1_time['Time'] = df1_time['Time'].apply(lambda x: x.split(':'))\n",
    "df1_time['Hour Period'] = df1_city['Time'].apply(lambda x:x[0:2]).astype(str).astype(int)\n",
    "df1_time.head()"
   ]
  },
  {
   "cell_type": "code",
   "execution_count": 15,
   "metadata": {},
   "outputs": [
    {
     "data": {
      "text/plain": [
       "<Figure size 1008x504 with 0 Axes>"
      ]
     },
     "metadata": {},
     "output_type": "display_data"
    },
    {
     "data": {
      "image/png": "[encoded data removed]",
      "text/plain": [
       "<Figure size 432x288 with 1 Axes>"
      ]
     },
     "metadata": {
      "needs_background": "light"
     },
     "output_type": "display_data"
    }
   ],
   "source": [
    "plt.figure(figsize = (14, 7))\n",
    "test2 = df1_time.groupby(['Hour Period', 'Unsafe'])['Hour Period'].count().unstack('Unsafe').fillna(0)\n",
    "hourlist = list(np.arange(12, 24)) + list(np.arange(0, 12))\n",
    "test2.loc[hourlist].plot.bar(stacked = True)\n",
    "plt.legend(title = 'Ride Safety')\n",
    "plt.title('Ride Safety Classification by Hour Period')\n",
    "plt.xlabel('Hour Period')\n",
    "plt.ylabel('Number of Rides')\n",
    "plt.xticks(rotation = 0)\n",
    "plt.show()"
   ]
  },
  {
   "cell_type": "code",
   "execution_count": 16,
   "metadata": {},
   "outputs": [
    {
     "data": {
      "image/png": "[encoded data removed]",
      "text/plain": [
       "<Figure size 1008x504 with 1 Axes>"
      ]
     },
     "metadata": {
      "needs_background": "light"
     },
     "output_type": "display_data"
    }
   ],
   "source": [
    "plt.figure(figsize = (14, 7))\n",
    "test2['Unsafe Ratio'] = test2['unsafe'] / (test2['safe'] + test2['unsafe']) \n",
    "test2\n",
    "test2['Unsafe Ratio'].loc[hourlist].plot.bar()\n",
    "plt.title('Unsafe Ratio by Hour Period', fontsize = 18)\n",
    "plt.xlabel('Hour Period', fontsize = 14)\n",
    "plt.xticks(rotation = 0)\n",
    "plt.ylabel('Unsafe Ratio')\n",
    "plt.show()"
   ]
  },
  {
   "cell_type": "code",
   "execution_count": 17,
   "metadata": {},
   "outputs": [
    {
     "data": {
      "text/html": [
       "<div>\n",
       "<style scoped>\n",
       "    .dataframe tbody tr th:only-of-type {\n",
       "        vertical-align: middle;\n",
       "    }\n",
       "\n",
       "    .dataframe tbody tr th {\n",
       "        vertical-align: top;\n",
       "    }\n",
       "\n",
       "    .dataframe thead th {\n",
       "        text-align: right;\n",
       "    }\n",
       "</style>\n",
       "<table border=\"1\" class=\"dataframe\">\n",
       "  <thead>\n",
       "    <tr style=\"text-align: right;\">\n",
       "      <th></th>\n",
       "      <th>Destination Display Name</th>\n",
       "      <th>Destination Geometry</th>\n",
       "      <th>Date</th>\n",
       "      <th>Travel time (seconds)</th>\n",
       "      <th>DriverID</th>\n",
       "      <th>Time</th>\n",
       "      <th>Unsafe</th>\n",
       "      <th>Year</th>\n",
       "      <th>Month</th>\n",
       "      <th>Day</th>\n",
       "    </tr>\n",
       "  </thead>\n",
       "  <tbody>\n",
       "    <tr>\n",
       "      <th>0</th>\n",
       "      <td>4800 Balderama, Makati</td>\n",
       "      <td>[121,005416381948; 14,5501868058048]</td>\n",
       "      <td>[31, 07, 2016]</td>\n",
       "      <td>1224</td>\n",
       "      <td>5820</td>\n",
       "      <td>00:00:38</td>\n",
       "      <td>safe</td>\n",
       "      <td>2016</td>\n",
       "      <td>7</td>\n",
       "      <td>31</td>\n",
       "    </tr>\n",
       "    <tr>\n",
       "      <th>1</th>\n",
       "      <td>0 1st Street, Quezon City</td>\n",
       "      <td>[121,034062093452; 14,6142310276554]</td>\n",
       "      <td>[31, 07, 2016]</td>\n",
       "      <td>1385</td>\n",
       "      <td>5511</td>\n",
       "      <td>00:00:52</td>\n",
       "      <td>safe</td>\n",
       "      <td>2016</td>\n",
       "      <td>7</td>\n",
       "      <td>31</td>\n",
       "    </tr>\n",
       "    <tr>\n",
       "      <th>2</th>\n",
       "      <td>0 Hydra, Makati</td>\n",
       "      <td>[121,031114652068; 14,5616123563658]</td>\n",
       "      <td>[31, 07, 2016]</td>\n",
       "      <td>2257</td>\n",
       "      <td>5405</td>\n",
       "      <td>00:01:46</td>\n",
       "      <td>safe</td>\n",
       "      <td>2016</td>\n",
       "      <td>7</td>\n",
       "      <td>31</td>\n",
       "    </tr>\n",
       "    <tr>\n",
       "      <th>3</th>\n",
       "      <td>Roxas Boulevard, Pasay</td>\n",
       "      <td>[120,989193110978; 14,5378405260156]</td>\n",
       "      <td>[31, 07, 2016]</td>\n",
       "      <td>1242</td>\n",
       "      <td>5262</td>\n",
       "      <td>00:02:26</td>\n",
       "      <td>safe</td>\n",
       "      <td>2016</td>\n",
       "      <td>7</td>\n",
       "      <td>31</td>\n",
       "    </tr>\n",
       "    <tr>\n",
       "      <th>4</th>\n",
       "      <td>100 Jupiter, Mandaluyong</td>\n",
       "      <td>[121,019737475982; 14,5822100699773]</td>\n",
       "      <td>[31, 07, 2016]</td>\n",
       "      <td>1787</td>\n",
       "      <td>5511</td>\n",
       "      <td>00:02:36</td>\n",
       "      <td>safe</td>\n",
       "      <td>2016</td>\n",
       "      <td>7</td>\n",
       "      <td>31</td>\n",
       "    </tr>\n",
       "  </tbody>\n",
       "</table>\n",
       "</div>"
      ],
      "text/plain": [
       "    Destination Display Name                  Destination Geometry  \\\n",
       "0     4800 Balderama, Makati  [121,005416381948; 14,5501868058048]   \n",
       "1  0 1st Street, Quezon City  [121,034062093452; 14,6142310276554]   \n",
       "2            0 Hydra, Makati  [121,031114652068; 14,5616123563658]   \n",
       "3     Roxas Boulevard, Pasay  [120,989193110978; 14,5378405260156]   \n",
       "4   100 Jupiter, Mandaluyong  [121,019737475982; 14,5822100699773]   \n",
       "\n",
       "             Date  Travel time (seconds)  DriverID      Time Unsafe  Year  \\\n",
       "0  [31, 07, 2016]                   1224      5820  00:00:38   safe  2016   \n",
       "1  [31, 07, 2016]                   1385      5511  00:00:52   safe  2016   \n",
       "2  [31, 07, 2016]                   2257      5405  00:01:46   safe  2016   \n",
       "3  [31, 07, 2016]                   1242      5262  00:02:26   safe  2016   \n",
       "4  [31, 07, 2016]                   1787      5511  00:02:36   safe  2016   \n",
       "\n",
       "   Month  Day  \n",
       "0      7   31  \n",
       "1      7   31  \n",
       "2      7   31  \n",
       "3      7   31  \n",
       "4      7   31  "
      ]
     },
     "execution_count": 17,
     "metadata": {},
     "output_type": "execute_result"
    }
   ],
   "source": [
    "df1_day = df1.copy()\n",
    "df1_day['Date'] = df1_day['Date'].apply(lambda x: x.split('/'))\n",
    "df1_day['Year'] = df1_day['Date'].apply(lambda x: x[2])\n",
    "df1_day['Year'] = df1_day['Year'].astype(str).astype('int64')\n",
    "df1_day['Month'] = df1_day['Date'].apply(lambda x: x[1])\n",
    "df1_day['Month'] = df1_day['Month'].astype(str).astype('int64')\n",
    "df1_day['Day'] = df1_day['Date'].apply(lambda x: x[0])\n",
    "df1_day['Day'] = df1_day['Day'].astype(str).astype('int64')\n",
    "df1_day.head()"
   ]
  },
  {
   "cell_type": "code",
   "execution_count": 18,
   "metadata": {},
   "outputs": [
    {
     "data": {
      "text/html": [
       "<div>\n",
       "<style scoped>\n",
       "    .dataframe tbody tr th:only-of-type {\n",
       "        vertical-align: middle;\n",
       "    }\n",
       "\n",
       "    .dataframe tbody tr th {\n",
       "        vertical-align: top;\n",
       "    }\n",
       "\n",
       "    .dataframe thead th {\n",
       "        text-align: right;\n",
       "    }\n",
       "</style>\n",
       "<table border=\"1\" class=\"dataframe\">\n",
       "  <thead>\n",
       "    <tr style=\"text-align: right;\">\n",
       "      <th></th>\n",
       "      <th>Day</th>\n",
       "      <th>Day of Week</th>\n",
       "    </tr>\n",
       "  </thead>\n",
       "  <tbody>\n",
       "    <tr>\n",
       "      <th>0</th>\n",
       "      <td>6</td>\n",
       "      <td>Sunday</td>\n",
       "    </tr>\n",
       "    <tr>\n",
       "      <th>1</th>\n",
       "      <td>6</td>\n",
       "      <td>Sunday</td>\n",
       "    </tr>\n",
       "    <tr>\n",
       "      <th>2</th>\n",
       "      <td>6</td>\n",
       "      <td>Sunday</td>\n",
       "    </tr>\n",
       "    <tr>\n",
       "      <th>3</th>\n",
       "      <td>6</td>\n",
       "      <td>Sunday</td>\n",
       "    </tr>\n",
       "    <tr>\n",
       "      <th>4</th>\n",
       "      <td>6</td>\n",
       "      <td>Sunday</td>\n",
       "    </tr>\n",
       "  </tbody>\n",
       "</table>\n",
       "</div>"
      ],
      "text/plain": [
       "   Day Day of Week\n",
       "0    6      Sunday\n",
       "1    6      Sunday\n",
       "2    6      Sunday\n",
       "3    6      Sunday\n",
       "4    6      Sunday"
      ]
     },
     "execution_count": 18,
     "metadata": {},
     "output_type": "execute_result"
    }
   ],
   "source": [
    "df1_day2 = df1_day[['Year', 'Month', 'Day']]\n",
    "df1_day2 = pd.to_datetime(df1_day2)\n",
    "df1_day2.dt.dayofweek\n",
    "df1_day2 = pd.DataFrame(df1_day2.dt.dayofweek)\n",
    "df1_day2.columns = ['Day']\n",
    "weekdays = {0: 'Monday', 1: 'Tuesday', 2: 'Wednesday', 3: 'Thursday', 4: 'Friday', 5: 'Saturday', 6: 'Sunday'}\n",
    "df1_day2['Day of Week'] = df1_day2['Day'].map(weekdays)\n",
    "df1_day2.head()"
   ]
  },
  {
   "cell_type": "code",
   "execution_count": 19,
   "metadata": {},
   "outputs": [
    {
     "data": {
      "text/html": [
       "<div>\n",
       "<style scoped>\n",
       "    .dataframe tbody tr th:only-of-type {\n",
       "        vertical-align: middle;\n",
       "    }\n",
       "\n",
       "    .dataframe tbody tr th {\n",
       "        vertical-align: top;\n",
       "    }\n",
       "\n",
       "    .dataframe thead th {\n",
       "        text-align: right;\n",
       "    }\n",
       "</style>\n",
       "<table border=\"1\" class=\"dataframe\">\n",
       "  <thead>\n",
       "    <tr style=\"text-align: right;\">\n",
       "      <th></th>\n",
       "      <th>Destination Display Name</th>\n",
       "      <th>Destination Geometry</th>\n",
       "      <th>Date</th>\n",
       "      <th>Travel time (seconds)</th>\n",
       "      <th>DriverID</th>\n",
       "      <th>Time</th>\n",
       "      <th>Unsafe</th>\n",
       "      <th>Year</th>\n",
       "      <th>Month</th>\n",
       "      <th>Day</th>\n",
       "      <th>Day</th>\n",
       "      <th>Day of Week</th>\n",
       "    </tr>\n",
       "  </thead>\n",
       "  <tbody>\n",
       "    <tr>\n",
       "      <th>0</th>\n",
       "      <td>4800 Balderama, Makati</td>\n",
       "      <td>[121,005416381948; 14,5501868058048]</td>\n",
       "      <td>[31, 07, 2016]</td>\n",
       "      <td>1224</td>\n",
       "      <td>5820</td>\n",
       "      <td>00:00:38</td>\n",
       "      <td>safe</td>\n",
       "      <td>2016</td>\n",
       "      <td>7</td>\n",
       "      <td>31</td>\n",
       "      <td>6</td>\n",
       "      <td>Sunday</td>\n",
       "    </tr>\n",
       "    <tr>\n",
       "      <th>1</th>\n",
       "      <td>0 1st Street, Quezon City</td>\n",
       "      <td>[121,034062093452; 14,6142310276554]</td>\n",
       "      <td>[31, 07, 2016]</td>\n",
       "      <td>1385</td>\n",
       "      <td>5511</td>\n",
       "      <td>00:00:52</td>\n",
       "      <td>safe</td>\n",
       "      <td>2016</td>\n",
       "      <td>7</td>\n",
       "      <td>31</td>\n",
       "      <td>6</td>\n",
       "      <td>Sunday</td>\n",
       "    </tr>\n",
       "    <tr>\n",
       "      <th>2</th>\n",
       "      <td>0 Hydra, Makati</td>\n",
       "      <td>[121,031114652068; 14,5616123563658]</td>\n",
       "      <td>[31, 07, 2016]</td>\n",
       "      <td>2257</td>\n",
       "      <td>5405</td>\n",
       "      <td>00:01:46</td>\n",
       "      <td>safe</td>\n",
       "      <td>2016</td>\n",
       "      <td>7</td>\n",
       "      <td>31</td>\n",
       "      <td>6</td>\n",
       "      <td>Sunday</td>\n",
       "    </tr>\n",
       "    <tr>\n",
       "      <th>3</th>\n",
       "      <td>Roxas Boulevard, Pasay</td>\n",
       "      <td>[120,989193110978; 14,5378405260156]</td>\n",
       "      <td>[31, 07, 2016]</td>\n",
       "      <td>1242</td>\n",
       "      <td>5262</td>\n",
       "      <td>00:02:26</td>\n",
       "      <td>safe</td>\n",
       "      <td>2016</td>\n",
       "      <td>7</td>\n",
       "      <td>31</td>\n",
       "      <td>6</td>\n",
       "      <td>Sunday</td>\n",
       "    </tr>\n",
       "    <tr>\n",
       "      <th>4</th>\n",
       "      <td>100 Jupiter, Mandaluyong</td>\n",
       "      <td>[121,019737475982; 14,5822100699773]</td>\n",
       "      <td>[31, 07, 2016]</td>\n",
       "      <td>1787</td>\n",
       "      <td>5511</td>\n",
       "      <td>00:02:36</td>\n",
       "      <td>safe</td>\n",
       "      <td>2016</td>\n",
       "      <td>7</td>\n",
       "      <td>31</td>\n",
       "      <td>6</td>\n",
       "      <td>Sunday</td>\n",
       "    </tr>\n",
       "  </tbody>\n",
       "</table>\n",
       "</div>"
      ],
      "text/plain": [
       "    Destination Display Name                  Destination Geometry  \\\n",
       "0     4800 Balderama, Makati  [121,005416381948; 14,5501868058048]   \n",
       "1  0 1st Street, Quezon City  [121,034062093452; 14,6142310276554]   \n",
       "2            0 Hydra, Makati  [121,031114652068; 14,5616123563658]   \n",
       "3     Roxas Boulevard, Pasay  [120,989193110978; 14,5378405260156]   \n",
       "4   100 Jupiter, Mandaluyong  [121,019737475982; 14,5822100699773]   \n",
       "\n",
       "             Date  Travel time (seconds)  DriverID      Time Unsafe  Year  \\\n",
       "0  [31, 07, 2016]                   1224      5820  00:00:38   safe  2016   \n",
       "1  [31, 07, 2016]                   1385      5511  00:00:52   safe  2016   \n",
       "2  [31, 07, 2016]                   2257      5405  00:01:46   safe  2016   \n",
       "3  [31, 07, 2016]                   1242      5262  00:02:26   safe  2016   \n",
       "4  [31, 07, 2016]                   1787      5511  00:02:36   safe  2016   \n",
       "\n",
       "   Month  Day  Day Day of Week  \n",
       "0      7   31    6      Sunday  \n",
       "1      7   31    6      Sunday  \n",
       "2      7   31    6      Sunday  \n",
       "3      7   31    6      Sunday  \n",
       "4      7   31    6      Sunday  "
      ]
     },
     "execution_count": 19,
     "metadata": {},
     "output_type": "execute_result"
    }
   ],
   "source": [
    "df1_day3 = pd.concat([df1_day, df1_day2], axis = 1)\n",
    "df1_day3.head()"
   ]
  },
  {
   "cell_type": "code",
   "execution_count": 20,
   "metadata": {},
   "outputs": [
    {
     "data": {
      "text/plain": [
       "<Figure size 1008x504 with 0 Axes>"
      ]
     },
     "metadata": {},
     "output_type": "display_data"
    },
    {
     "data": {
      "image/png": "[encoded data removed]",
      "text/plain": [
       "<Figure size 432x288 with 1 Axes>"
      ]
     },
     "metadata": {
      "needs_background": "light"
     },
     "output_type": "display_data"
    }
   ],
   "source": [
    "plt.figure(figsize = (14, 7))\n",
    "test3 = df1_day3.groupby(['Day of Week', 'Unsafe'])['Day of Week'].count().unstack('Unsafe').fillna(0)\n",
    "daylist = ['Monday', 'Tuesday', 'Wednesday', 'Thursday', 'Friday', 'Saturday', 'Sunday']\n",
    "test3.loc[daylist].plot.bar(stacked = True)\n",
    "plt.legend(title = 'Ride Safety')\n",
    "plt.title('Ride Safety Classification by Day of the Week')\n",
    "plt.xlabel('Day of the Week')\n",
    "plt.xticks(rotation = 45)\n",
    "plt.ylabel('Number of Rides')\n",
    "plt.show()"
   ]
  },
  {
   "cell_type": "code",
   "execution_count": 21,
   "metadata": {},
   "outputs": [
    {
     "data": {
      "image/png": "[encoded data removed]",
      "text/plain": [
       "<Figure size 1008x504 with 1 Axes>"
      ]
     },
     "metadata": {
      "needs_background": "light"
     },
     "output_type": "display_data"
    }
   ],
   "source": [
    "plt.figure(figsize = (14, 7))\n",
    "test3['Unsafe Ratio'] = test3['unsafe'] / (test3['safe'] + test3['unsafe']) \n",
    "test3\n",
    "test31 = test3['Unsafe Ratio'].loc[daylist].plot.bar()\n",
    "plt.title('Unsafe Ratio by Day of the Week', fontsize = 18)\n",
    "plt.xlabel('Day of the Week', fontsize = 14)\n",
    "plt.xticks(rotation = 0)\n",
    "plt.ylabel('Unsafe Ratio')\n",
    "test31.set_ylim(0, 0.16)\n",
    "plt.show()"
   ]
  },
  {
   "cell_type": "code",
   "execution_count": 22,
   "metadata": {},
   "outputs": [
    {
     "data": {
      "text/html": [
       "<div>\n",
       "<style scoped>\n",
       "    .dataframe tbody tr th:only-of-type {\n",
       "        vertical-align: middle;\n",
       "    }\n",
       "\n",
       "    .dataframe tbody tr th {\n",
       "        vertical-align: top;\n",
       "    }\n",
       "\n",
       "    .dataframe thead th {\n",
       "        text-align: right;\n",
       "    }\n",
       "</style>\n",
       "<table border=\"1\" class=\"dataframe\">\n",
       "  <thead>\n",
       "    <tr style=\"text-align: right;\">\n",
       "      <th></th>\n",
       "      <th>Destination Display Name</th>\n",
       "      <th>Destination Geometry</th>\n",
       "      <th>Date</th>\n",
       "      <th>Travel time (seconds)</th>\n",
       "      <th>DriverID</th>\n",
       "      <th>Time</th>\n",
       "      <th>Unsafe</th>\n",
       "      <th>Hour Period</th>\n",
       "      <th>Peak or non-peak hours</th>\n",
       "    </tr>\n",
       "  </thead>\n",
       "  <tbody>\n",
       "    <tr>\n",
       "      <th>944</th>\n",
       "      <td>Riverfront Residences, Pasig</td>\n",
       "      <td>[121,07143857522; 14,5744004113661]</td>\n",
       "      <td>31/07/2016</td>\n",
       "      <td>3954</td>\n",
       "      <td>5283</td>\n",
       "      <td>[06, 00, 00]</td>\n",
       "      <td>safe</td>\n",
       "      <td>6</td>\n",
       "      <td>peak hours</td>\n",
       "    </tr>\n",
       "    <tr>\n",
       "      <th>945</th>\n",
       "      <td>0 Col. Bonny Serrano Avenue, Quezon City</td>\n",
       "      <td>[121,047868275862; 14,610108039323]</td>\n",
       "      <td>31/07/2016</td>\n",
       "      <td>2268</td>\n",
       "      <td>5242</td>\n",
       "      <td>[06, 00, 07]</td>\n",
       "      <td>safe</td>\n",
       "      <td>6</td>\n",
       "      <td>peak hours</td>\n",
       "    </tr>\n",
       "    <tr>\n",
       "      <th>946</th>\n",
       "      <td>M. Dela Cruz Extension, Pasay</td>\n",
       "      <td>[121,00379979117; 14,5392048959091]</td>\n",
       "      <td>31/07/2016</td>\n",
       "      <td>1844</td>\n",
       "      <td>5107</td>\n",
       "      <td>[06, 00, 17]</td>\n",
       "      <td>safe</td>\n",
       "      <td>6</td>\n",
       "      <td>peak hours</td>\n",
       "    </tr>\n",
       "    <tr>\n",
       "      <th>947</th>\n",
       "      <td>F. Ver, Manila</td>\n",
       "      <td>[121,04087465986; 14,5300247791074]</td>\n",
       "      <td>31/07/2016</td>\n",
       "      <td>2330</td>\n",
       "      <td>5020</td>\n",
       "      <td>[06, 00, 18]</td>\n",
       "      <td>safe</td>\n",
       "      <td>6</td>\n",
       "      <td>peak hours</td>\n",
       "    </tr>\n",
       "    <tr>\n",
       "      <th>948</th>\n",
       "      <td>Owl, Quezon City</td>\n",
       "      <td>[121,069533506765; 14,5940813122547]</td>\n",
       "      <td>31/07/2016</td>\n",
       "      <td>3175</td>\n",
       "      <td>5107</td>\n",
       "      <td>[06, 00, 46]</td>\n",
       "      <td>safe</td>\n",
       "      <td>6</td>\n",
       "      <td>peak hours</td>\n",
       "    </tr>\n",
       "  </tbody>\n",
       "</table>\n",
       "</div>"
      ],
      "text/plain": [
       "                     Destination Display Name  \\\n",
       "944              Riverfront Residences, Pasig   \n",
       "945  0 Col. Bonny Serrano Avenue, Quezon City   \n",
       "946             M. Dela Cruz Extension, Pasay   \n",
       "947                            F. Ver, Manila   \n",
       "948                          Owl, Quezon City   \n",
       "\n",
       "                     Destination Geometry        Date  Travel time (seconds)  \\\n",
       "944   [121,07143857522; 14,5744004113661]  31/07/2016                   3954   \n",
       "945   [121,047868275862; 14,610108039323]  31/07/2016                   2268   \n",
       "946   [121,00379979117; 14,5392048959091]  31/07/2016                   1844   \n",
       "947   [121,04087465986; 14,5300247791074]  31/07/2016                   2330   \n",
       "948  [121,069533506765; 14,5940813122547]  31/07/2016                   3175   \n",
       "\n",
       "     DriverID          Time Unsafe  Hour Period Peak or non-peak hours  \n",
       "944      5283  [06, 00, 00]   safe            6             peak hours  \n",
       "945      5242  [06, 00, 07]   safe            6             peak hours  \n",
       "946      5107  [06, 00, 17]   safe            6             peak hours  \n",
       "947      5020  [06, 00, 18]   safe            6             peak hours  \n",
       "948      5107  [06, 00, 46]   safe            6             peak hours  "
      ]
     },
     "execution_count": 22,
     "metadata": {},
     "output_type": "execute_result"
    }
   ],
   "source": [
    "Demand = {0: 'non-peak hours', 1: 'non-peak hours', 2: 'non-peak hours', 3: 'non-peak hours', 4: 'non-peak hours', 5: 'non-peak hours', 6: 'peak hours', 7: 'peak hours', 8: 'peak hours', 9: 'peak hours', 10: 'peak hours', 11: 'peak hours', 12: 'peak hours', 13: 'peak hours', 14: 'peak hours', 15: 'peak hours', 16: 'peak hours', 17: 'peak hours', 18: 'non-peak hours', 19: 'non-peak hours', 20: 'non-peak hours', 21: 'non-peak hours', 22: 'non-peak hours', 23: 'non-peak hours'}\n",
    "df1_time['Peak or non-peak hours'] = df1_time['Hour Period'].map(Demand)\n",
    "df1_timep = df1_time.loc[(df1_time['Peak or non-peak hours'].isin([\"peak hours\"]))]\n",
    "df1_timep.head()"
   ]
  },
  {
   "cell_type": "code",
   "execution_count": 23,
   "metadata": {},
   "outputs": [
    {
     "data": {
      "text/html": [
       "<div>\n",
       "<style scoped>\n",
       "    .dataframe tbody tr th:only-of-type {\n",
       "        vertical-align: middle;\n",
       "    }\n",
       "\n",
       "    .dataframe tbody tr th {\n",
       "        vertical-align: top;\n",
       "    }\n",
       "\n",
       "    .dataframe thead th {\n",
       "        text-align: right;\n",
       "    }\n",
       "</style>\n",
       "<table border=\"1\" class=\"dataframe\">\n",
       "  <thead>\n",
       "    <tr style=\"text-align: right;\">\n",
       "      <th></th>\n",
       "      <th>Destination Display Name</th>\n",
       "      <th>Destination Geometry</th>\n",
       "      <th>Date</th>\n",
       "      <th>Travel time (seconds)</th>\n",
       "      <th>DriverID</th>\n",
       "      <th>Time</th>\n",
       "      <th>Unsafe</th>\n",
       "      <th>Hour Period</th>\n",
       "      <th>Peak or non-peak hours</th>\n",
       "    </tr>\n",
       "  </thead>\n",
       "  <tbody>\n",
       "    <tr>\n",
       "      <th>0</th>\n",
       "      <td>4800 Balderama, Makati</td>\n",
       "      <td>[121,005416381948; 14,5501868058048]</td>\n",
       "      <td>31/07/2016</td>\n",
       "      <td>1224</td>\n",
       "      <td>5820</td>\n",
       "      <td>[00, 00, 38]</td>\n",
       "      <td>safe</td>\n",
       "      <td>0</td>\n",
       "      <td>non-peak hours</td>\n",
       "    </tr>\n",
       "    <tr>\n",
       "      <th>1</th>\n",
       "      <td>0 1st Street, Quezon City</td>\n",
       "      <td>[121,034062093452; 14,6142310276554]</td>\n",
       "      <td>31/07/2016</td>\n",
       "      <td>1385</td>\n",
       "      <td>5511</td>\n",
       "      <td>[00, 00, 52]</td>\n",
       "      <td>safe</td>\n",
       "      <td>0</td>\n",
       "      <td>non-peak hours</td>\n",
       "    </tr>\n",
       "    <tr>\n",
       "      <th>2</th>\n",
       "      <td>0 Hydra, Makati</td>\n",
       "      <td>[121,031114652068; 14,5616123563658]</td>\n",
       "      <td>31/07/2016</td>\n",
       "      <td>2257</td>\n",
       "      <td>5405</td>\n",
       "      <td>[00, 01, 46]</td>\n",
       "      <td>safe</td>\n",
       "      <td>0</td>\n",
       "      <td>non-peak hours</td>\n",
       "    </tr>\n",
       "    <tr>\n",
       "      <th>3</th>\n",
       "      <td>Roxas Boulevard, Pasay</td>\n",
       "      <td>[120,989193110978; 14,5378405260156]</td>\n",
       "      <td>31/07/2016</td>\n",
       "      <td>1242</td>\n",
       "      <td>5262</td>\n",
       "      <td>[00, 02, 26]</td>\n",
       "      <td>safe</td>\n",
       "      <td>0</td>\n",
       "      <td>non-peak hours</td>\n",
       "    </tr>\n",
       "    <tr>\n",
       "      <th>4</th>\n",
       "      <td>100 Jupiter, Mandaluyong</td>\n",
       "      <td>[121,019737475982; 14,5822100699773]</td>\n",
       "      <td>31/07/2016</td>\n",
       "      <td>1787</td>\n",
       "      <td>5511</td>\n",
       "      <td>[00, 02, 36]</td>\n",
       "      <td>safe</td>\n",
       "      <td>0</td>\n",
       "      <td>non-peak hours</td>\n",
       "    </tr>\n",
       "  </tbody>\n",
       "</table>\n",
       "</div>"
      ],
      "text/plain": [
       "    Destination Display Name                  Destination Geometry  \\\n",
       "0     4800 Balderama, Makati  [121,005416381948; 14,5501868058048]   \n",
       "1  0 1st Street, Quezon City  [121,034062093452; 14,6142310276554]   \n",
       "2            0 Hydra, Makati  [121,031114652068; 14,5616123563658]   \n",
       "3     Roxas Boulevard, Pasay  [120,989193110978; 14,5378405260156]   \n",
       "4   100 Jupiter, Mandaluyong  [121,019737475982; 14,5822100699773]   \n",
       "\n",
       "         Date  Travel time (seconds)  DriverID          Time Unsafe  \\\n",
       "0  31/07/2016                   1224      5820  [00, 00, 38]   safe   \n",
       "1  31/07/2016                   1385      5511  [00, 00, 52]   safe   \n",
       "2  31/07/2016                   2257      5405  [00, 01, 46]   safe   \n",
       "3  31/07/2016                   1242      5262  [00, 02, 26]   safe   \n",
       "4  31/07/2016                   1787      5511  [00, 02, 36]   safe   \n",
       "\n",
       "   Hour Period Peak or non-peak hours  \n",
       "0            0         non-peak hours  \n",
       "1            0         non-peak hours  \n",
       "2            0         non-peak hours  \n",
       "3            0         non-peak hours  \n",
       "4            0         non-peak hours  "
      ]
     },
     "execution_count": 23,
     "metadata": {},
     "output_type": "execute_result"
    }
   ],
   "source": [
    "df1_timenp = df1_time.loc[(df1_time['Peak or non-peak hours'].isin([\"non-peak hours\"]))]\n",
    "df1_timenp.head()"
   ]
  },
  {
   "cell_type": "code",
   "execution_count": 24,
   "metadata": {},
   "outputs": [
    {
     "data": {
      "image/png": "[encoded data removed]",
      "text/plain": [
       "<Figure size 1008x504 with 1 Axes>"
      ]
     },
     "metadata": {
      "needs_background": "light"
     },
     "output_type": "display_data"
    }
   ],
   "source": [
    "plt.figure(figsize = (14, 7))\n",
    "test4 = sns.boxplot(x = 'Unsafe', y = 'Travel time (seconds)', data = df1_timep)\n",
    "test4.set_ylim(0,8000)\n",
    "plt.title('Box plots for Travel Time (in seconds) by Safety Indicator during peak hours', fontsize = 18)\n",
    "plt.xlabel('Safety Indicator', fontsize = 14)\n",
    "plt.ylabel('Travel time (in seconds)', fontsize = 14)\n",
    "plt.show()"
   ]
  },
  {
   "cell_type": "code",
   "execution_count": 25,
   "metadata": {},
   "outputs": [
    {
     "data": {
      "image/png": "[encoded data removed]",
      "text/plain": [
       "<Figure size 1008x504 with 1 Axes>"
      ]
     },
     "metadata": {
      "needs_background": "light"
     },
     "output_type": "display_data"
    }
   ],
   "source": [
    "plt.figure(figsize = (14, 7))\n",
    "test5 = sns.boxplot(x = 'Unsafe', y = 'Travel time (seconds)', data = df1_timenp)\n",
    "test5.set_ylim(0,8000)\n",
    "plt.title('Box plots for Travel Time (in seconds) by Safety Indicator during non-peak hours', fontsize = 15)\n",
    "plt.xlabel('Safety Indicator')\n",
    "plt.ylabel('Travel time (in seconds)')\n",
    "plt.show()"
   ]
  }
 ],
 "metadata": {
  "kernelspec": {
   "display_name": "Python 3",
   "language": "python",
   "name": "python3"
  },
  "language_info": {
   "codemirror_mode": {
    "name": "ipython",
    "version": 3
   },
   "file_extension": ".py",
   "mimetype": "text/x-python",
   "name": "python",
   "nbconvert_exporter": "python",
   "pygments_lexer": "ipython3",
   "version": "3.7.3"
  }
 },
 "nbformat": 4,
 "nbformat_minor": 2
}
