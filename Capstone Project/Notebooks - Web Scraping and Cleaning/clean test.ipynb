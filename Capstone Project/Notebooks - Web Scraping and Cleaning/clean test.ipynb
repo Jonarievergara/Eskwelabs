{
 "cells": [
  {
   "cell_type": "code",
   "execution_count": 107,
   "metadata": {},
   "outputs": [],
   "source": [
    "# TripAdvisor Reviews\n",
    "import requests\n",
    "from bs4 import BeautifulSoup\n",
    "import time\n",
    "import random\n",
    "import re\n",
    "import collections\n",
    "headers = requests.utils.default_headers()\n",
    "headers.update({\n",
    "    'User-Agent': 'Mozilla/5.0 (X11; Ubuntu; Linux x86_64; rv:52.0) Gecko/20100101 Firefox/52.0',\n",
    "})"
   ]
  },
  {
   "cell_type": "code",
   "execution_count": 108,
   "metadata": {},
   "outputs": [],
   "source": [
    "# Three Main Destination Types:\n",
    "# Sights and Landmarks\n",
    "# Nature and Parks\n",
    "# Museums\n",
    "site_category_list = ['https://www.tripadvisor.com.ph/Attractions-g293790-Activities-c47-t2,3,10,15,17,19,26,76,163,175-Ethiopia.html', # Sights and Landmarks\n",
    "                    'https://www.tripadvisor.com.ph/Attractions-g293790-Activities-c57-t57,66,67,68,70-Ethiopia.html', # Nature and Parks\n",
    "                     'https://www.tripadvisor.com.ph/Attractions-g293790-Activities-c49-t1,28,29,30,161-Ethiopia.html'] # Museums\n",
    "skipped_urls = []\n",
    "first_page_list = []\n",
    "landmarks = []\n",
    "nature_parks = []\n",
    "museums = []"
   ]
  },
  {
   "cell_type": "code",
   "execution_count": 109,
   "metadata": {},
   "outputs": [],
   "source": [
    "def getDestinations(x):\n",
    "    for i in range(len(x)):\n",
    "        page = requests.get(x[i])\n",
    "        soup = BeautifulSoup(page.content, 'html.parser')\n",
    "        sites = soup.find_all(class_ = 'attraction_element')\n",
    "        for j in sites:\n",
    "            k = j.find(class_ = 'listing_title').text\n",
    "            k = re.sub(\"^\\s+\", \"\", k)\n",
    "            k = re.sub(\"\\s+$\", \"\", k)\n",
    "            k = re.sub(\"\\s+.+$\", \"\", k)\n",
    "            if i == 0:\n",
    "                landmarks.append(k)\n",
    "            elif i == 1:\n",
    "                nature_parks.append(k)\n",
    "            elif i == 2:\n",
    "                museums.append(k)\n",
    "        time.sleep(random.uniform(5, 10))"
   ]
  },
  {
   "cell_type": "code",
   "execution_count": 110,
   "metadata": {},
   "outputs": [],
   "source": [
    "getDestinations(site_category_list)"
   ]
  },
  {
   "cell_type": "code",
   "execution_count": 111,
   "metadata": {},
   "outputs": [
    {
     "name": "stdout",
     "output_type": "stream",
     "text": [
      "84\n",
      "30\n",
      "30\n",
      "24\n"
     ]
    }
   ],
   "source": [
    "print(len(landmarks) + len(nature_parks) + len(museums))\n",
    "print(len(landmarks))\n",
    "print(len(nature_parks))\n",
    "print(len(museums))"
   ]
  },
  {
   "cell_type": "code",
   "execution_count": 135,
   "metadata": {},
   "outputs": [],
   "source": [
    "landmarks.append('Monastery of Debre Damo')"
   ]
  },
  {
   "cell_type": "code",
   "execution_count": 115,
   "metadata": {},
   "outputs": [
    {
     "name": "stdout",
     "output_type": "stream",
     "text": [
      "['Simien Mountains National Park', 'Bale Mountains', 'Omo National Park and River', 'Gheralta Rock', 'Abune Yosef', 'Nechisar National Park', 'Hippo watching on Lake Awassa', 'Nechisar National Park', 'Menagesha Suba Forest Park', 'Abidjatta-Shalla National Park', 'Mago National Park', 'Ezana Park', 'Ras Dashen', 'Entoto Natural Park', 'Chebera Churchura National Park', 'Gambella National Park', 'Chebera-Churchura National Park', 'Yerer Mountain', 'Yabelo Wildlife Sanctuary', \"Senkele Swayne's Hartebeest Sanctuary\", 'BlueSapphire Tours', 'Mesganaw', 'Gibe Sheleko National Park', 'Mount Bwahit', 'Senkele Wildlife Sanctuary', 'Bale Mountains National Park', 'Simien Mountain National Park', 'Simien Mountains National Park', 'Ras Dashen', 'Kafta Sheraro National Park']\n"
     ]
    }
   ],
   "source": [
    "print(nature_parks)"
   ]
  },
  {
   "cell_type": "code",
   "execution_count": 136,
   "metadata": {},
   "outputs": [],
   "source": [
    "import pandas as pd\n",
    "df1 = pd.read_csv('ethiopia_tripadvisor_data_1.csv')\n",
    "# df2 = pd.read_csv('ethiopia_tripadvisor_data_2.csv')"
   ]
  },
  {
   "cell_type": "code",
   "execution_count": 137,
   "metadata": {},
   "outputs": [
    {
     "data": {
      "text/plain": [
       "Landmarks       3839\n",
       "Museums         2553\n",
       "Nature/Parks    2021\n",
       "Name: Destination Type, dtype: int64"
      ]
     },
     "execution_count": 137,
     "metadata": {},
     "output_type": "execute_result"
    }
   ],
   "source": [
    "df1['Destination Type'].value_counts()"
   ]
  },
  {
   "cell_type": "code",
   "execution_count": 138,
   "metadata": {},
   "outputs": [
    {
     "data": {
      "text/html": [
       "<div>\n",
       "<style scoped>\n",
       "    .dataframe tbody tr th:only-of-type {\n",
       "        vertical-align: middle;\n",
       "    }\n",
       "\n",
       "    .dataframe tbody tr th {\n",
       "        vertical-align: top;\n",
       "    }\n",
       "\n",
       "    .dataframe thead th {\n",
       "        text-align: right;\n",
       "    }\n",
       "</style>\n",
       "<table border=\"1\" class=\"dataframe\">\n",
       "  <thead>\n",
       "    <tr style=\"text-align: right;\">\n",
       "      <th></th>\n",
       "      <th>Destination Name</th>\n",
       "      <th>Destination Type</th>\n",
       "      <th>Rating</th>\n",
       "      <th>Review Head</th>\n",
       "      <th>Review Body</th>\n",
       "      <th>Date</th>\n",
       "    </tr>\n",
       "  </thead>\n",
       "  <tbody>\n",
       "    <tr>\n",
       "      <th>4115</th>\n",
       "      <td>Monastery of Debre Damo</td>\n",
       "      <td>Landmarks</td>\n",
       "      <td>5</td>\n",
       "      <td>A Great Trip up the Mountain</td>\n",
       "      <td>This is definitely worth a day trip from Axum....</td>\n",
       "      <td>September 2016</td>\n",
       "    </tr>\n",
       "    <tr>\n",
       "      <th>4116</th>\n",
       "      <td>Monastery of Debre Damo</td>\n",
       "      <td>Landmarks</td>\n",
       "      <td>5</td>\n",
       "      <td>Scary - beautiful - intriguing</td>\n",
       "      <td>The monastery itself is old, small and beautif...</td>\n",
       "      <td>January 2016</td>\n",
       "    </tr>\n",
       "    <tr>\n",
       "      <th>4117</th>\n",
       "      <td>Monastery of Debre Damo</td>\n",
       "      <td>Landmarks</td>\n",
       "      <td>5</td>\n",
       "      <td>Amazing tour with Mulualem and Abaadi</td>\n",
       "      <td>We had read all the plaudits about the rockhew...</td>\n",
       "      <td>November 2015</td>\n",
       "    </tr>\n",
       "    <tr>\n",
       "      <th>4118</th>\n",
       "      <td>Monastery of Debre Damo</td>\n",
       "      <td>Landmarks</td>\n",
       "      <td>2</td>\n",
       "      <td>Too difficult</td>\n",
       "      <td>I was not able to get to the top of the rope, ...</td>\n",
       "      <td>October 2015</td>\n",
       "    </tr>\n",
       "    <tr>\n",
       "      <th>4119</th>\n",
       "      <td>Monastery of Debre Damo</td>\n",
       "      <td>Landmarks</td>\n",
       "      <td>5</td>\n",
       "      <td>Not to miss!</td>\n",
       "      <td>Debre Damo is real treat to visit. The about 2...</td>\n",
       "      <td>November 2015</td>\n",
       "    </tr>\n",
       "  </tbody>\n",
       "</table>\n",
       "</div>"
      ],
      "text/plain": [
       "             Destination Name Destination Type  Rating  \\\n",
       "4115  Monastery of Debre Damo        Landmarks       5   \n",
       "4116  Monastery of Debre Damo        Landmarks       5   \n",
       "4117  Monastery of Debre Damo        Landmarks       5   \n",
       "4118  Monastery of Debre Damo        Landmarks       2   \n",
       "4119  Monastery of Debre Damo        Landmarks       5   \n",
       "\n",
       "                                Review Head  \\\n",
       "4115           A Great Trip up the Mountain   \n",
       "4116         Scary - beautiful - intriguing   \n",
       "4117  Amazing tour with Mulualem and Abaadi   \n",
       "4118                          Too difficult   \n",
       "4119                           Not to miss!   \n",
       "\n",
       "                                            Review Body            Date  \n",
       "4115  This is definitely worth a day trip from Axum....  September 2016  \n",
       "4116  The monastery itself is old, small and beautif...    January 2016  \n",
       "4117  We had read all the plaudits about the rockhew...   November 2015  \n",
       "4118  I was not able to get to the top of the rope, ...    October 2015  \n",
       "4119  Debre Damo is real treat to visit. The about 2...   November 2015  "
      ]
     },
     "execution_count": 138,
     "metadata": {},
     "output_type": "execute_result"
    }
   ],
   "source": [
    "df1[df1['Destination Name'] == 'Monastery of Debre Damo'].head()"
   ]
  },
  {
   "cell_type": "code",
   "execution_count": 139,
   "metadata": {},
   "outputs": [],
   "source": [
    "df2 = df1.copy()"
   ]
  },
  {
   "cell_type": "code",
   "execution_count": 140,
   "metadata": {},
   "outputs": [
    {
     "data": {
      "text/html": [
       "<div>\n",
       "<style scoped>\n",
       "    .dataframe tbody tr th:only-of-type {\n",
       "        vertical-align: middle;\n",
       "    }\n",
       "\n",
       "    .dataframe tbody tr th {\n",
       "        vertical-align: top;\n",
       "    }\n",
       "\n",
       "    .dataframe thead th {\n",
       "        text-align: right;\n",
       "    }\n",
       "</style>\n",
       "<table border=\"1\" class=\"dataframe\">\n",
       "  <thead>\n",
       "    <tr style=\"text-align: right;\">\n",
       "      <th></th>\n",
       "      <th>Destination Name</th>\n",
       "      <th>Rating</th>\n",
       "      <th>Review Head</th>\n",
       "      <th>Review Body</th>\n",
       "      <th>Date</th>\n",
       "    </tr>\n",
       "  </thead>\n",
       "  <tbody>\n",
       "    <tr>\n",
       "      <th>0</th>\n",
       "      <td>Rock-Hewn Churches of Lalibela</td>\n",
       "      <td>5</td>\n",
       "      <td>Incredible locations don't be put off thinking...</td>\n",
       "      <td>Amazing location must visit. This site is mark...</td>\n",
       "      <td>October 2019</td>\n",
       "    </tr>\n",
       "    <tr>\n",
       "      <th>1</th>\n",
       "      <td>Rock-Hewn Churches of Lalibela</td>\n",
       "      <td>5</td>\n",
       "      <td>It is a real miracle of the world!</td>\n",
       "      <td>I do recommend to visit Lalibela churches and ...</td>\n",
       "      <td>October 2019</td>\n",
       "    </tr>\n",
       "    <tr>\n",
       "      <th>2</th>\n",
       "      <td>Rock-Hewn Churches of Lalibela</td>\n",
       "      <td>5</td>\n",
       "      <td>Incredible experience</td>\n",
       "      <td>A must visit in Ethiopia - one of the most uni...</td>\n",
       "      <td>October 2019</td>\n",
       "    </tr>\n",
       "    <tr>\n",
       "      <th>3</th>\n",
       "      <td>Rock-Hewn Churches of Lalibela</td>\n",
       "      <td>4</td>\n",
       "      <td>Amazing</td>\n",
       "      <td>These churches have to be seen to be believed....</td>\n",
       "      <td>October 2019</td>\n",
       "    </tr>\n",
       "    <tr>\n",
       "      <th>4</th>\n",
       "      <td>Rock-Hewn Churches of Lalibela</td>\n",
       "      <td>5</td>\n",
       "      <td>So much history</td>\n",
       "      <td>Thanks to our tour organiser Ephram who is bas...</td>\n",
       "      <td>October 2019</td>\n",
       "    </tr>\n",
       "  </tbody>\n",
       "</table>\n",
       "</div>"
      ],
      "text/plain": [
       "                 Destination Name  Rating  \\\n",
       "0  Rock-Hewn Churches of Lalibela       5   \n",
       "1  Rock-Hewn Churches of Lalibela       5   \n",
       "2  Rock-Hewn Churches of Lalibela       5   \n",
       "3  Rock-Hewn Churches of Lalibela       4   \n",
       "4  Rock-Hewn Churches of Lalibela       5   \n",
       "\n",
       "                                         Review Head  \\\n",
       "0  Incredible locations don't be put off thinking...   \n",
       "1                 It is a real miracle of the world!   \n",
       "2                             Incredible experience    \n",
       "3                                            Amazing   \n",
       "4                                    So much history   \n",
       "\n",
       "                                         Review Body          Date  \n",
       "0  Amazing location must visit. This site is mark...  October 2019  \n",
       "1  I do recommend to visit Lalibela churches and ...  October 2019  \n",
       "2  A must visit in Ethiopia - one of the most uni...  October 2019  \n",
       "3  These churches have to be seen to be believed....  October 2019  \n",
       "4  Thanks to our tour organiser Ephram who is bas...  October 2019  "
      ]
     },
     "execution_count": 140,
     "metadata": {},
     "output_type": "execute_result"
    }
   ],
   "source": [
    "df2 = df2.drop('Destination Type', axis = 1)\n",
    "df2.head()"
   ]
  },
  {
   "cell_type": "code",
   "execution_count": 141,
   "metadata": {},
   "outputs": [
    {
     "data": {
      "text/plain": [
       "Landmarks       3839\n",
       "Museums         2553\n",
       "Nature/Parks    2021\n",
       "Name: Destination Type, dtype: int64"
      ]
     },
     "execution_count": 141,
     "metadata": {},
     "output_type": "execute_result"
    }
   ],
   "source": [
    "def destinationType(row):\n",
    "    if row['Destination Name'] in landmarks:\n",
    "        return 'Landmarks'\n",
    "    elif row['Destination Name'] in nature_parks:\n",
    "        return 'Nature/Parks'\n",
    "    elif row['Destination Name'] in museums:\n",
    "        return 'Museums'\n",
    "    \n",
    "df2['Destination Type'] = df2.apply(destinationType, axis = 1)\n",
    "df2['Destination Type'].value_counts()"
   ]
  },
  {
   "cell_type": "code",
   "execution_count": 116,
   "metadata": {},
   "outputs": [],
   "source": [
    "# site_list2 = site_list[:]\n",
    "# for i in range(len(site_list2)):\n",
    "#     site_list2[i] = re.sub(\"^\\s+\", \"\", site_list2[i])\n",
    "#     site_list2[i] = re.sub(\"\\s+$\", \"\", site_list2[i])\n",
    "#     site_list2[i] = re.sub(\"\\s+.+$\", \"\", site_list2[i])\n",
    "# site_list2"
   ]
  },
  {
   "cell_type": "code",
   "execution_count": null,
   "metadata": {},
   "outputs": [],
   "source": [
    "# def getFirstPages(x):\n",
    "#     for i in x:\n",
    "#         page = requests.get(i)\n",
    "#         soup = BeautifulSoup(page.content, 'html.parser')\n",
    "#         sites = soup.find_all(class_ = 'attraction_element')\n",
    "#         for j in sites:\n",
    "#             if j.find(class_ = 'rs rating') != None:\n",
    "#                 first_page_list.append('https://www.tripadvisor.com.ph/' + j.find(class_ = 'listing_title').a.get('href'))\n",
    "#         if len(sites) == 0 and i not in skipped_urls:\n",
    "#             skipped_urls.append(i)\n",
    "#         if len(sites) > 0 and i in skipped_urls:\n",
    "#             skipped_urls.remove(i)\n",
    "#         print('skipped: ', skipped_urls)\n",
    "#         time.sleep(random.uniform(15, 30))\n",
    "#     if len(skipped_urls) != 0:\n",
    "#         print('restarting function...')\n",
    "#         getFirstPages(skipped_urls)"
   ]
  }
 ],
 "metadata": {
  "kernelspec": {
   "display_name": "Python 3",
   "language": "python",
   "name": "python3"
  },
  "language_info": {
   "codemirror_mode": {
    "name": "ipython",
    "version": 3
   },
   "file_extension": ".py",
   "mimetype": "text/x-python",
   "name": "python",
   "nbconvert_exporter": "python",
   "pygments_lexer": "ipython3",
   "version": "3.7.3"
  }
 },
 "nbformat": 4,
 "nbformat_minor": 2
}
