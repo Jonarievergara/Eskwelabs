{
 "cells": [
  {
   "cell_type": "code",
   "execution_count": 1,
   "metadata": {},
   "outputs": [
    {
     "data": {
      "text/html": [
       "<div>\n",
       "<style scoped>\n",
       "    .dataframe tbody tr th:only-of-type {\n",
       "        vertical-align: middle;\n",
       "    }\n",
       "\n",
       "    .dataframe tbody tr th {\n",
       "        vertical-align: top;\n",
       "    }\n",
       "\n",
       "    .dataframe thead th {\n",
       "        text-align: right;\n",
       "    }\n",
       "</style>\n",
       "<table border=\"1\" class=\"dataframe\">\n",
       "  <thead>\n",
       "    <tr style=\"text-align: right;\">\n",
       "      <th></th>\n",
       "      <th>Destination Name</th>\n",
       "      <th>Review Head</th>\n",
       "      <th>Review Body</th>\n",
       "      <th>Rating</th>\n",
       "      <th>Date</th>\n",
       "    </tr>\n",
       "  </thead>\n",
       "  <tbody>\n",
       "    <tr>\n",
       "      <th>0</th>\n",
       "      <td>Giraffe Centre</td>\n",
       "      <td>Giraffes and Baby Elephants!</td>\n",
       "      <td>If you find yourself with a day in Nairobi bef...</td>\n",
       "      <td>5</td>\n",
       "      <td>June 2017</td>\n",
       "    </tr>\n",
       "    <tr>\n",
       "      <th>1</th>\n",
       "      <td>Giraffe Centre</td>\n",
       "      <td>Places to visit in Karen - Giraffe Centre</td>\n",
       "      <td>A fun place to visit - you not only get to fee...</td>\n",
       "      <td>4</td>\n",
       "      <td>December 2016</td>\n",
       "    </tr>\n",
       "    <tr>\n",
       "      <th>2</th>\n",
       "      <td>Giraffe Centre</td>\n",
       "      <td>Close to the giraffes</td>\n",
       "      <td>You get to come very close to the giraffes. Yo...</td>\n",
       "      <td>3</td>\n",
       "      <td>June 2017</td>\n",
       "    </tr>\n",
       "    <tr>\n",
       "      <th>3</th>\n",
       "      <td>Giraffe Centre</td>\n",
       "      <td>Giraffe kiss!</td>\n",
       "      <td>If you like giraffes you'll love this place. E...</td>\n",
       "      <td>5</td>\n",
       "      <td>June 2017</td>\n",
       "    </tr>\n",
       "    <tr>\n",
       "      <th>4</th>\n",
       "      <td>Giraffe Centre</td>\n",
       "      <td>A wonderful moment in time.</td>\n",
       "      <td>We always visit this attraction each and every...</td>\n",
       "      <td>5</td>\n",
       "      <td>June 2017</td>\n",
       "    </tr>\n",
       "  </tbody>\n",
       "</table>\n",
       "</div>"
      ],
      "text/plain": [
       "  Destination Name                                Review Head  \\\n",
       "0   Giraffe Centre               Giraffes and Baby Elephants!   \n",
       "1   Giraffe Centre  Places to visit in Karen - Giraffe Centre   \n",
       "2   Giraffe Centre                      Close to the giraffes   \n",
       "3   Giraffe Centre                              Giraffe kiss!   \n",
       "4   Giraffe Centre                A wonderful moment in time.   \n",
       "\n",
       "                                         Review Body  Rating           Date  \n",
       "0  If you find yourself with a day in Nairobi bef...       5      June 2017  \n",
       "1  A fun place to visit - you not only get to fee...       4  December 2016  \n",
       "2  You get to come very close to the giraffes. Yo...       3      June 2017  \n",
       "3  If you like giraffes you'll love this place. E...       5      June 2017  \n",
       "4  We always visit this attraction each and every...       5      June 2017  "
      ]
     },
     "execution_count": 1,
     "metadata": {},
     "output_type": "execute_result"
    }
   ],
   "source": [
    "import pandas as pd\n",
    "df1 = pd.read_csv('kenyadata3177.csv')\n",
    "df1.head()"
   ]
  },
  {
   "cell_type": "code",
   "execution_count": 2,
   "metadata": {},
   "outputs": [
    {
     "name": "stdout",
     "output_type": "stream",
     "text": [
      "Destination Name    0\n",
      "Review Head         0\n",
      "Review Body         0\n",
      "Rating              0\n",
      "Date                0\n",
      "dtype: int64\n",
      "258\n"
     ]
    }
   ],
   "source": [
    "print(df1.isnull().sum())\n",
    "print(df1.duplicated().sum())"
   ]
  },
  {
   "cell_type": "code",
   "execution_count": 3,
   "metadata": {},
   "outputs": [
    {
     "data": {
      "text/plain": [
       "0"
      ]
     },
     "execution_count": 3,
     "metadata": {},
     "output_type": "execute_result"
    }
   ],
   "source": [
    "df2 = df1.drop_duplicates()\n",
    "df2.duplicated().sum()"
   ]
  },
  {
   "cell_type": "code",
   "execution_count": 4,
   "metadata": {},
   "outputs": [
    {
     "data": {
      "text/plain": [
       "August 2018       571\n",
       "July 2018         568\n",
       "August 2016       531\n",
       "December 2016     503\n",
       "September 2016    472\n",
       "                 ... \n",
       "October 2010        8\n",
       "September 2010      6\n",
       "July 2010           3\n",
       "August 2010         2\n",
       "February 2010       1\n",
       "Name: Date, Length: 113, dtype: int64"
      ]
     },
     "execution_count": 4,
     "metadata": {},
     "output_type": "execute_result"
    }
   ],
   "source": [
    "# df2['Date'].value_counts()\n",
    "df2 = df2[df2['Date'] != 'None']\n",
    "df2['Date'].value_counts()"
   ]
  },
  {
   "cell_type": "code",
   "execution_count": 5,
   "metadata": {
    "scrolled": false
   },
   "outputs": [
    {
     "name": "stdout",
     "output_type": "stream",
     "text": [
      "1 Giraffe Centre\n",
      "2 Karen Blixen Coffee Garden and Cottages\n",
      "3 David Sheldrick Wildlife Trust\n",
      "4 Crescent Island Game Park\n",
      "5 Fort Jesus Museum\n",
      "6 Aero Club of East Africa (ACEA)\n",
      "7 Lake Nakuru\n",
      "8 Hell's Gate National Park\n",
      "9 Karen Blixen Museum\n",
      "10 Nairobi railway museum\n",
      "11 Diani Beach\n",
      "12 Nairobi National Museum\n",
      "13 Nairobi Gallery\n",
      "14 Nairobi National Park\n",
      "15 Uhuru Gardens Memorial Park\n",
      "16 Nairobi Mamba Village\n",
      "17 Mara River\n",
      "18 Tsavo East\n",
      "19 Marafa-Hells Kitchen\n",
      "20 Observation Hill\n",
      "21 Lamu Old Town\n",
      "22 African Heritage House\n",
      "23 Ol Pejeta Conservancy\n",
      "24 Lamu Museum\n",
      "25 Brown's Cheese Factory & Farm\n",
      "26 Karura Forest\n",
      "27 Olare Orok Conservancy\n",
      "28 Mount Kenya\n",
      "29 Gede Ruins\n",
      "30 GP Karting\n",
      "31 Watamu Beach\n",
      "32 Desert Museum\n",
      "33 Bomas of Kenya\n",
      "34 Local Ocean Conservation\n",
      "35 Kibera\n",
      "36 Old Town\n",
      "37 Lake Naivasha\n",
      "38 Mara Triangle\n",
      "39 Shaba National Reserve\n",
      "40 Ol Kinyei Conservancy\n",
      "41 Malindi Museum\n",
      "42 Colobus Conservation\n",
      "43 Mamba Village Centre\n",
      "44 Ngong Hills\n",
      "45 Mara Naboisho Conservancy\n",
      "46 Mzima Springs\n",
      "47 Treasures of Africa Museum\n",
      "48 Mount Longonot National Park\n",
      "49 Shree Cutch Satsang Swaminarayan Temple\n",
      "50 Banana Hill Art Gallery\n",
      "51 National Archives\n",
      "52 Narok Museum\n",
      "53 Mida Creek\n",
      "54 Samburu National Reserve\n",
      "55 Watamu National Marine Park\n",
      "56 Bio-Ken Snake Farm\n",
      "57 Kiambethu Farm\n",
      "58 Mombasa Tusks\n",
      "59 Kisumu museum\n",
      "60 Mnarani\n",
      "61 The Abasuba Community Peace Museum\n",
      "62 Jumba la Mtwana\n",
      "63 Ndoro Sculpture Garden Malindi\n",
      "64 Circle Art Gallery\n",
      "65 Lord Egerton Castle\n",
      "66 Kericho Tea Plantations\n",
      "67 Shiva Temple\n",
      "68 Spinners Web Kenya\n",
      "69 Kitale Museum\n",
      "70 Malindi\n",
      "71 Karen Village\n",
      "72 Fairview Coffee Estate\n",
      "73 Kit Mikayi\n",
      "74 Rabai Museum\n",
      "75 Selenkay Conservancy\n",
      "76 All Saints Cathedral\n",
      "77 Diani Beach Art Gallery\n",
      "78 Jamia Mosque\n",
      "79 Enashipai Maa Museum\n",
      "80 Shetani Lava Flows\n",
      "81 Mama Ngina's Drive\n",
      "82 Kariandusi Museum\n",
      "83 Roaring Rocks\n",
      "84 Kapenguria Museum\n"
     ]
    }
   ],
   "source": [
    "destination_list = list(df2['Destination Name'].unique())\n",
    "for i in range(len(destination_list)):\n",
    "    print(i + 1, destination_list[i])"
   ]
  },
  {
   "cell_type": "code",
   "execution_count": 9,
   "metadata": {},
   "outputs": [],
   "source": [
    "landmarks = ['Karen Blixen Coffee Garden and Cottages', 'Uhuru Gardens Memorial Park', 'Nairobi Mamba Village', \n",
    "             'Observation Hill', 'Lamu Old Town', 'African Heritage House', 'Brown\\'s Cheese Factory & Farm',\n",
    "             'GP Karting', 'Kibera', 'Old Town', 'Mamba Village Centre', 'Shree Cutch Satsang Swaminarayan Temple',\n",
    "             'Bio-Ken Snake Farm', 'Kiambethu Farm', 'Mombasa Tusks', 'Mnarani',\n",
    "             'Jumba la Mtwana', 'Lord Egerton Castle', 'Kericho Tea Plantations', 'Shiva Temple',\n",
    "             'Malindi', 'Fairview Coffee Estate', 'Kit Mikayi', 'All Saints Cathedral',\n",
    "             'Jamia Mosque', 'Shetani Lava Flows', 'Mama Ngina\\'s Drive', 'Roaring Rocks']\n",
    "nature_parks = ['Giraffe Centre', 'David Sheldrick Wildlife Trust', 'Crescent Island Game Park', 'Lake Nakuru',\n",
    "                'Hell\\'s Gate National Park', 'Diani Beach', 'Nairobi National Park', 'Mara River',\n",
    "                'Tsavo East', 'Marafa-Hells Kitchen', 'Ol Pejeta Conservancy', 'Karura Forest',\n",
    "                'Olare Orok Conservancy', 'Mount Kenya', 'Watamu Beach', 'Local Ocean Conservation',\n",
    "                'Lake Naivasha', 'Mara Triangle', 'Shaba National Reserve', 'Ol Kinyei Conservancy',\n",
    "                'Colobus Conservation', 'Ngong Hills', 'Mara Naboisho Conservancy', 'Mzima Springs',\n",
    "                'Mount Longonot National Park', 'Mida Creek', 'Samburu National Reserve', 'Watamu National Marine Park',\n",
    "                'Spinners Web Kenya', 'Selenkay Conservancy']\n",
    "museums = ['Fort Jesus Museum', 'Aero Club of East Africa (ACEA)', 'Karen Blixen Museum', 'Nairobi railway museum',\n",
    "           'Nairobi National Museum', 'Nairobi Gallery', 'Lamu Museum', 'Gede Ruins',\n",
    "           'Desert Museum', 'Bomas of Kenya', 'Malindi Museum', 'Treasures of Africa Museum',\n",
    "           'Banana Hill Art Gallery', 'National Archives', 'Narok Museum', 'Kisumu museum',\n",
    "           'The Abasuba Community Peace Museum', 'Ndoro Sculpture Garden Malindi', 'Circle Art Gallery', 'Kitale Museum',\n",
    "           'Karen Village', 'Rabai Museum', 'Diani Beach Art Gallery', 'Enashipai Maa Museum',\n",
    "           'Kariandusi Museum', 'Kapenguria Museum']"
   ]
  },
  {
   "cell_type": "code",
   "execution_count": 10,
   "metadata": {},
   "outputs": [
    {
     "name": "stdout",
     "output_type": "stream",
     "text": [
      "28\n",
      "30\n",
      "26\n",
      "84\n"
     ]
    }
   ],
   "source": [
    "print(len(landmarks))\n",
    "print(len(nature_parks))\n",
    "print(len(museums))\n",
    "print(len(landmarks + nature_parks + museums))"
   ]
  },
  {
   "cell_type": "code",
   "execution_count": 11,
   "metadata": {},
   "outputs": [
    {
     "data": {
      "text/html": [
       "<div>\n",
       "<style scoped>\n",
       "    .dataframe tbody tr th:only-of-type {\n",
       "        vertical-align: middle;\n",
       "    }\n",
       "\n",
       "    .dataframe tbody tr th {\n",
       "        vertical-align: top;\n",
       "    }\n",
       "\n",
       "    .dataframe thead th {\n",
       "        text-align: right;\n",
       "    }\n",
       "</style>\n",
       "<table border=\"1\" class=\"dataframe\">\n",
       "  <thead>\n",
       "    <tr style=\"text-align: right;\">\n",
       "      <th></th>\n",
       "      <th>Destination Name</th>\n",
       "      <th>Review Head</th>\n",
       "      <th>Review Body</th>\n",
       "      <th>Rating</th>\n",
       "      <th>Date</th>\n",
       "      <th>Destination Type</th>\n",
       "    </tr>\n",
       "  </thead>\n",
       "  <tbody>\n",
       "    <tr>\n",
       "      <th>0</th>\n",
       "      <td>Giraffe Centre</td>\n",
       "      <td>Giraffes and Baby Elephants!</td>\n",
       "      <td>If you find yourself with a day in Nairobi bef...</td>\n",
       "      <td>5</td>\n",
       "      <td>June 2017</td>\n",
       "      <td>Nature/Parks</td>\n",
       "    </tr>\n",
       "    <tr>\n",
       "      <th>1</th>\n",
       "      <td>Giraffe Centre</td>\n",
       "      <td>Places to visit in Karen - Giraffe Centre</td>\n",
       "      <td>A fun place to visit - you not only get to fee...</td>\n",
       "      <td>4</td>\n",
       "      <td>December 2016</td>\n",
       "      <td>Nature/Parks</td>\n",
       "    </tr>\n",
       "    <tr>\n",
       "      <th>2</th>\n",
       "      <td>Giraffe Centre</td>\n",
       "      <td>Close to the giraffes</td>\n",
       "      <td>You get to come very close to the giraffes. Yo...</td>\n",
       "      <td>3</td>\n",
       "      <td>June 2017</td>\n",
       "      <td>Nature/Parks</td>\n",
       "    </tr>\n",
       "    <tr>\n",
       "      <th>3</th>\n",
       "      <td>Giraffe Centre</td>\n",
       "      <td>Giraffe kiss!</td>\n",
       "      <td>If you like giraffes you'll love this place. E...</td>\n",
       "      <td>5</td>\n",
       "      <td>June 2017</td>\n",
       "      <td>Nature/Parks</td>\n",
       "    </tr>\n",
       "    <tr>\n",
       "      <th>4</th>\n",
       "      <td>Giraffe Centre</td>\n",
       "      <td>A wonderful moment in time.</td>\n",
       "      <td>We always visit this attraction each and every...</td>\n",
       "      <td>5</td>\n",
       "      <td>June 2017</td>\n",
       "      <td>Nature/Parks</td>\n",
       "    </tr>\n",
       "  </tbody>\n",
       "</table>\n",
       "</div>"
      ],
      "text/plain": [
       "  Destination Name                                Review Head  \\\n",
       "0   Giraffe Centre               Giraffes and Baby Elephants!   \n",
       "1   Giraffe Centre  Places to visit in Karen - Giraffe Centre   \n",
       "2   Giraffe Centre                      Close to the giraffes   \n",
       "3   Giraffe Centre                              Giraffe kiss!   \n",
       "4   Giraffe Centre                A wonderful moment in time.   \n",
       "\n",
       "                                         Review Body  Rating           Date  \\\n",
       "0  If you find yourself with a day in Nairobi bef...       5      June 2017   \n",
       "1  A fun place to visit - you not only get to fee...       4  December 2016   \n",
       "2  You get to come very close to the giraffes. Yo...       3      June 2017   \n",
       "3  If you like giraffes you'll love this place. E...       5      June 2017   \n",
       "4  We always visit this attraction each and every...       5      June 2017   \n",
       "\n",
       "  Destination Type  \n",
       "0     Nature/Parks  \n",
       "1     Nature/Parks  \n",
       "2     Nature/Parks  \n",
       "3     Nature/Parks  \n",
       "4     Nature/Parks  "
      ]
     },
     "execution_count": 11,
     "metadata": {},
     "output_type": "execute_result"
    }
   ],
   "source": [
    "def destinationType(row):\n",
    "    if row['Destination Name'] in landmarks:\n",
    "        return 'Landmarks'\n",
    "    elif row['Destination Name'] in nature_parks:\n",
    "        return 'Nature/Parks'\n",
    "    elif row['Destination Name'] in museums:\n",
    "        return 'Museums'\n",
    "    \n",
    "df2['Destination Type'] = df2.apply(destinationType, axis = 1)\n",
    "df2.head()"
   ]
  },
  {
   "cell_type": "code",
   "execution_count": 12,
   "metadata": {},
   "outputs": [
    {
     "data": {
      "text/html": [
       "<div>\n",
       "<style scoped>\n",
       "    .dataframe tbody tr th:only-of-type {\n",
       "        vertical-align: middle;\n",
       "    }\n",
       "\n",
       "    .dataframe tbody tr th {\n",
       "        vertical-align: top;\n",
       "    }\n",
       "\n",
       "    .dataframe thead th {\n",
       "        text-align: right;\n",
       "    }\n",
       "</style>\n",
       "<table border=\"1\" class=\"dataframe\">\n",
       "  <thead>\n",
       "    <tr style=\"text-align: right;\">\n",
       "      <th></th>\n",
       "      <th>Destination Name</th>\n",
       "      <th>Destination Type</th>\n",
       "      <th>Rating</th>\n",
       "      <th>Review Head</th>\n",
       "      <th>Review Body</th>\n",
       "      <th>Date</th>\n",
       "    </tr>\n",
       "  </thead>\n",
       "  <tbody>\n",
       "    <tr>\n",
       "      <th>0</th>\n",
       "      <td>Giraffe Centre</td>\n",
       "      <td>Nature/Parks</td>\n",
       "      <td>5</td>\n",
       "      <td>Giraffes and Baby Elephants!</td>\n",
       "      <td>If you find yourself with a day in Nairobi bef...</td>\n",
       "      <td>June 2017</td>\n",
       "    </tr>\n",
       "    <tr>\n",
       "      <th>1</th>\n",
       "      <td>Giraffe Centre</td>\n",
       "      <td>Nature/Parks</td>\n",
       "      <td>4</td>\n",
       "      <td>Places to visit in Karen - Giraffe Centre</td>\n",
       "      <td>A fun place to visit - you not only get to fee...</td>\n",
       "      <td>December 2016</td>\n",
       "    </tr>\n",
       "    <tr>\n",
       "      <th>2</th>\n",
       "      <td>Giraffe Centre</td>\n",
       "      <td>Nature/Parks</td>\n",
       "      <td>3</td>\n",
       "      <td>Close to the giraffes</td>\n",
       "      <td>You get to come very close to the giraffes. Yo...</td>\n",
       "      <td>June 2017</td>\n",
       "    </tr>\n",
       "    <tr>\n",
       "      <th>3</th>\n",
       "      <td>Giraffe Centre</td>\n",
       "      <td>Nature/Parks</td>\n",
       "      <td>5</td>\n",
       "      <td>Giraffe kiss!</td>\n",
       "      <td>If you like giraffes you'll love this place. E...</td>\n",
       "      <td>June 2017</td>\n",
       "    </tr>\n",
       "    <tr>\n",
       "      <th>4</th>\n",
       "      <td>Giraffe Centre</td>\n",
       "      <td>Nature/Parks</td>\n",
       "      <td>5</td>\n",
       "      <td>A wonderful moment in time.</td>\n",
       "      <td>We always visit this attraction each and every...</td>\n",
       "      <td>June 2017</td>\n",
       "    </tr>\n",
       "  </tbody>\n",
       "</table>\n",
       "</div>"
      ],
      "text/plain": [
       "  Destination Name Destination Type  Rating  \\\n",
       "0   Giraffe Centre     Nature/Parks       5   \n",
       "1   Giraffe Centre     Nature/Parks       4   \n",
       "2   Giraffe Centre     Nature/Parks       3   \n",
       "3   Giraffe Centre     Nature/Parks       5   \n",
       "4   Giraffe Centre     Nature/Parks       5   \n",
       "\n",
       "                                 Review Head  \\\n",
       "0               Giraffes and Baby Elephants!   \n",
       "1  Places to visit in Karen - Giraffe Centre   \n",
       "2                      Close to the giraffes   \n",
       "3                              Giraffe kiss!   \n",
       "4                A wonderful moment in time.   \n",
       "\n",
       "                                         Review Body           Date  \n",
       "0  If you find yourself with a day in Nairobi bef...      June 2017  \n",
       "1  A fun place to visit - you not only get to fee...  December 2016  \n",
       "2  You get to come very close to the giraffes. Yo...      June 2017  \n",
       "3  If you like giraffes you'll love this place. E...      June 2017  \n",
       "4  We always visit this attraction each and every...      June 2017  "
      ]
     },
     "execution_count": 12,
     "metadata": {},
     "output_type": "execute_result"
    }
   ],
   "source": [
    "df3 = df2[['Destination Name', 'Destination Type', 'Rating', 'Review Head', 'Review Body', 'Date']]\n",
    "df3.head()"
   ]
  },
  {
   "cell_type": "code",
   "execution_count": 13,
   "metadata": {},
   "outputs": [
    {
     "name": "stdout",
     "output_type": "stream",
     "text": [
      "<class 'pandas.core.frame.DataFrame'>\n",
      "Int64Index: 29135 entries, 0 to 29993\n",
      "Data columns (total 6 columns):\n",
      "Destination Name    29135 non-null object\n",
      "Destination Type    29135 non-null object\n",
      "Rating              29135 non-null int64\n",
      "Review Head         29135 non-null object\n",
      "Review Body         29135 non-null object\n",
      "Date                29135 non-null object\n",
      "dtypes: int64(1), object(5)\n",
      "memory usage: 1.6+ MB\n"
     ]
    }
   ],
   "source": [
    "df3.info()"
   ]
  },
  {
   "cell_type": "code",
   "execution_count": 14,
   "metadata": {},
   "outputs": [],
   "source": [
    "df3.to_csv('kenya_tripadvisor_data_1.csv', index = False)"
   ]
  },
  {
   "cell_type": "code",
   "execution_count": 19,
   "metadata": {},
   "outputs": [
    {
     "data": {
      "text/html": [
       "<div>\n",
       "<style scoped>\n",
       "    .dataframe tbody tr th:only-of-type {\n",
       "        vertical-align: middle;\n",
       "    }\n",
       "\n",
       "    .dataframe tbody tr th {\n",
       "        vertical-align: top;\n",
       "    }\n",
       "\n",
       "    .dataframe thead th {\n",
       "        text-align: right;\n",
       "    }\n",
       "</style>\n",
       "<table border=\"1\" class=\"dataframe\">\n",
       "  <thead>\n",
       "    <tr style=\"text-align: right;\">\n",
       "      <th></th>\n",
       "      <th>Destination Name</th>\n",
       "      <th>Destination Type</th>\n",
       "      <th>Rating</th>\n",
       "      <th>Review Head</th>\n",
       "      <th>Review Body</th>\n",
       "      <th>Date</th>\n",
       "    </tr>\n",
       "  </thead>\n",
       "  <tbody>\n",
       "    <tr>\n",
       "      <th>0</th>\n",
       "      <td>Giraffe Centre</td>\n",
       "      <td>Nature/Parks</td>\n",
       "      <td>5</td>\n",
       "      <td>Giraffes and Baby Elephants!</td>\n",
       "      <td>If you find yourself with a day in Nairobi bef...</td>\n",
       "      <td>June 2017</td>\n",
       "    </tr>\n",
       "    <tr>\n",
       "      <th>1</th>\n",
       "      <td>Giraffe Centre</td>\n",
       "      <td>Nature/Parks</td>\n",
       "      <td>4</td>\n",
       "      <td>Places to visit in Karen - Giraffe Centre</td>\n",
       "      <td>A fun place to visit - you not only get to fee...</td>\n",
       "      <td>December 2016</td>\n",
       "    </tr>\n",
       "    <tr>\n",
       "      <th>2</th>\n",
       "      <td>Giraffe Centre</td>\n",
       "      <td>Nature/Parks</td>\n",
       "      <td>3</td>\n",
       "      <td>Close to the giraffes</td>\n",
       "      <td>You get to come very close to the giraffes. Yo...</td>\n",
       "      <td>June 2017</td>\n",
       "    </tr>\n",
       "    <tr>\n",
       "      <th>3</th>\n",
       "      <td>Giraffe Centre</td>\n",
       "      <td>Nature/Parks</td>\n",
       "      <td>5</td>\n",
       "      <td>Giraffe kiss!</td>\n",
       "      <td>If you like giraffes you'll love this place. E...</td>\n",
       "      <td>June 2017</td>\n",
       "    </tr>\n",
       "    <tr>\n",
       "      <th>4</th>\n",
       "      <td>Giraffe Centre</td>\n",
       "      <td>Nature/Parks</td>\n",
       "      <td>5</td>\n",
       "      <td>A wonderful moment in time.</td>\n",
       "      <td>We always visit this attraction each and every...</td>\n",
       "      <td>June 2017</td>\n",
       "    </tr>\n",
       "  </tbody>\n",
       "</table>\n",
       "</div>"
      ],
      "text/plain": [
       "  Destination Name Destination Type  Rating  \\\n",
       "0   Giraffe Centre     Nature/Parks       5   \n",
       "1   Giraffe Centre     Nature/Parks       4   \n",
       "2   Giraffe Centre     Nature/Parks       3   \n",
       "3   Giraffe Centre     Nature/Parks       5   \n",
       "4   Giraffe Centre     Nature/Parks       5   \n",
       "\n",
       "                                 Review Head  \\\n",
       "0               Giraffes and Baby Elephants!   \n",
       "1  Places to visit in Karen - Giraffe Centre   \n",
       "2                      Close to the giraffes   \n",
       "3                              Giraffe kiss!   \n",
       "4                A wonderful moment in time.   \n",
       "\n",
       "                                         Review Body           Date  \n",
       "0  If you find yourself with a day in Nairobi bef...      June 2017  \n",
       "1  A fun place to visit - you not only get to fee...  December 2016  \n",
       "2  You get to come very close to the giraffes. Yo...      June 2017  \n",
       "3  If you like giraffes you'll love this place. E...      June 2017  \n",
       "4  We always visit this attraction each and every...      June 2017  "
      ]
     },
     "execution_count": 19,
     "metadata": {},
     "output_type": "execute_result"
    }
   ],
   "source": [
    "df4 = pd.read_csv('kenya_tripadvisor_data_1.csv')\n",
    "df4.head()"
   ]
  },
  {
   "cell_type": "code",
   "execution_count": 20,
   "metadata": {},
   "outputs": [
    {
     "name": "stdout",
     "output_type": "stream",
     "text": [
      "<class 'pandas.core.frame.DataFrame'>\n",
      "RangeIndex: 29135 entries, 0 to 29134\n",
      "Data columns (total 6 columns):\n",
      "Destination Name    29135 non-null object\n",
      "Destination Type    29135 non-null object\n",
      "Rating              29135 non-null int64\n",
      "Review Head         29135 non-null object\n",
      "Review Body         29135 non-null object\n",
      "Date                29135 non-null object\n",
      "dtypes: int64(1), object(5)\n",
      "memory usage: 1.3+ MB\n"
     ]
    }
   ],
   "source": [
    "df4.info()"
   ]
  },
  {
   "cell_type": "code",
   "execution_count": 21,
   "metadata": {},
   "outputs": [
    {
     "data": {
      "text/plain": [
       "David Sheldrick Wildlife Trust        5469\n",
       "Giraffe Centre                        3794\n",
       "Nairobi National Park                 2728\n",
       "Karen Blixen Museum                   1573\n",
       "Mara River                            1447\n",
       "                                      ... \n",
       "Shetani Lava Flows                       5\n",
       "The Abasuba Community Peace Museum       3\n",
       "Circle Art Gallery                       3\n",
       "Narok Museum                             3\n",
       "Treasures of Africa Museum               3\n",
       "Name: Destination Name, Length: 84, dtype: int64"
      ]
     },
     "execution_count": 21,
     "metadata": {},
     "output_type": "execute_result"
    }
   ],
   "source": [
    "df4['Destination Name'].value_counts()"
   ]
  },
  {
   "cell_type": "code",
   "execution_count": 23,
   "metadata": {},
   "outputs": [
    {
     "data": {
      "text/plain": [
       "Nature/Parks    21143\n",
       "Museums          4685\n",
       "Landmarks        3307\n",
       "Name: Destination Type, dtype: int64"
      ]
     },
     "execution_count": 23,
     "metadata": {},
     "output_type": "execute_result"
    }
   ],
   "source": [
    "df4['Destination Type'].value_counts()"
   ]
  },
  {
   "cell_type": "code",
   "execution_count": 24,
   "metadata": {},
   "outputs": [
    {
     "data": {
      "text/plain": [
       "5    17443\n",
       "4     8107\n",
       "3     2752\n",
       "2      556\n",
       "1      277\n",
       "Name: Rating, dtype: int64"
      ]
     },
     "execution_count": 24,
     "metadata": {},
     "output_type": "execute_result"
    }
   ],
   "source": [
    "df4['Rating'].value_counts()"
   ]
  },
  {
   "cell_type": "code",
   "execution_count": 27,
   "metadata": {},
   "outputs": [
    {
     "data": {
      "text/plain": [
       "August 2018       571\n",
       "July 2018         568\n",
       "August 2016       531\n",
       "December 2016     503\n",
       "September 2016    472\n",
       "                 ... \n",
       "October 2010        8\n",
       "September 2010      6\n",
       "July 2010           3\n",
       "August 2010         2\n",
       "February 2010       1\n",
       "Name: Date, Length: 113, dtype: int64"
      ]
     },
     "execution_count": 27,
     "metadata": {},
     "output_type": "execute_result"
    }
   ],
   "source": [
    "df4['Date'].value_counts()"
   ]
  }
 ],
 "metadata": {
  "kernelspec": {
   "display_name": "Python 3",
   "language": "python",
   "name": "python3"
  },
  "language_info": {
   "codemirror_mode": {
    "name": "ipython",
    "version": 3
   },
   "file_extension": ".py",
   "mimetype": "text/x-python",
   "name": "python",
   "nbconvert_exporter": "python",
   "pygments_lexer": "ipython3",
   "version": "3.6.7"
  }
 },
 "nbformat": 4,
 "nbformat_minor": 2
}
