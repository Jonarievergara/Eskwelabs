{
 "cells": [
  {
   "cell_type": "code",
   "execution_count": 1,
   "metadata": {},
   "outputs": [],
   "source": [
    "# TripAdvisor Reviews\n",
    "import requests\n",
    "from bs4 import BeautifulSoup\n",
    "import time\n",
    "import random\n",
    "import re\n",
    "headers = requests.utils.default_headers()\n",
    "headers.update({\n",
    "    'User-Agent': 'Mozilla/5.0 (X11; Ubuntu; Linux x86_64; rv:52.0) Gecko/20100101 Firefox/52.0',\n",
    "})"
   ]
  },
  {
   "cell_type": "code",
   "execution_count": 72,
   "metadata": {},
   "outputs": [],
   "source": [
    "site_category_list = ['https://www.tripadvisor.com.ph/Attractions-g293790-Activities-c47-t2,3,10,15,17,19,26,76,163,175-Ethiopia.html', # Sights and Landmarks\n",
    "                    'https://www.tripadvisor.com.ph/Attractions-g293790-Activities-c57-t57,66,67,68,70-Ethiopia.html', # Nature and Parks\n",
    "                     'https://www.tripadvisor.com.ph/Attractions-g293790-Activities-c49-t1,28,29,30,161-Ethiopia.html'] # Museums\n",
    "skipped_urls = []\n",
    "first_page_list = []\n",
    "# first_page_list = []"
   ]
  },
  {
   "cell_type": "code",
   "execution_count": 73,
   "metadata": {},
   "outputs": [],
   "source": [
    "def getFirstPages(x):\n",
    "    for i in x:\n",
    "        page = requests.get(i)\n",
    "        soup = BeautifulSoup(page.content, 'html.parser')\n",
    "        sites = soup.find_all(class_ = 'attraction_element')\n",
    "        for j in sites:\n",
    "            if j.find(class_ = 'rs rating') != None:\n",
    "                first_page_list.append('https://www.tripadvisor.com.ph/' + j.find(class_ = 'listing_title').a.get('href'))\n",
    "        if len(sites) == 0 and i not in skipped_urls:\n",
    "            skipped_urls.append(i)\n",
    "        if len(sites) > 0 and i in skipped_urls:\n",
    "            skipped_urls.remove(i)\n",
    "        print('skipped: ', skipped_urls)\n",
    "        time.sleep(random.uniform(15, 30))\n",
    "    if len(skipped_urls) != 0:\n",
    "        print('restarting function...')\n",
    "        getFirstPages(skipped_urls)"
   ]
  },
  {
   "cell_type": "code",
   "execution_count": 74,
   "metadata": {},
   "outputs": [
    {
     "name": "stdout",
     "output_type": "stream",
     "text": [
      "skipped:  []\n",
      "skipped:  []\n",
      "skipped:  []\n"
     ]
    }
   ],
   "source": [
    "getFirstPages(site_category_list)"
   ]
  },
  {
   "cell_type": "code",
   "execution_count": 82,
   "metadata": {},
   "outputs": [
    {
     "name": "stdout",
     "output_type": "stream",
     "text": [
      "Tst\n"
     ]
    }
   ],
   "source": [
    "string = 'Test'\n",
    "string2 = string[0:1] + string[2:]\n",
    "print(string2)"
   ]
  },
  {
   "cell_type": "code",
   "execution_count": 70,
   "metadata": {},
   "outputs": [
    {
     "name": "stdout",
     "output_type": "stream",
     "text": [
      "True\n",
      "['https://www.tripadvisor.com.ph//Attraction_Review-g480193-d10147730-Reviews-Church_of_St_George-Lalibela_Amhara_Region.html', 'https://www.tripadvisor.com.ph//Attraction_Review-g480193-d324957-Reviews-Rock_Hewn_Churches_of_Lalibela-Lalibela_Amhara_Region.html', 'https://www.tripadvisor.com.ph//Attraction_Review-g2214567-d5966995-Reviews-Abuna_Yemata_Guh_church-Hawzen_Tigray_Region.html', 'https://www.tripadvisor.com.ph//Attraction_Review-g480193-d5427774-Reviews-Yemrehanna_Kristos-Lalibela_Amhara_Region.html', 'https://www.tripadvisor.com.ph//Attraction_Review-g317059-d4102519-Reviews-Debre_Berhan_Selassie_Church-Gonder_Amhara_Region.html', 'https://www.tripadvisor.com.ph//Attraction_Review-g480192-d7789536-Reviews-Azwa_Mariam_Monastery-Bahir_Dar_Amhara_Region.html', 'https://www.tripadvisor.com.ph//Attraction_Review-g676757-d6620573-Reviews-Harar_Jegol_Wall-Harar_Harari_Region.html', 'https://www.tripadvisor.com.ph//Attraction_Review-g317059-d2540370-Reviews-Fasiladas_Bath_Timket-Gonder_Amhara_Region.html', 'https://www.tripadvisor.com.ph//Attraction_Review-g3667784-d324991-Reviews-The_Ruins_of_Aksum-Axum_Tigray_Region.html', 'https://www.tripadvisor.com.ph//Attraction_Review-g293791-d2483654-Reviews-Holy_Trinity_Cathedral-Addis_Ababa.html', 'https://www.tripadvisor.com.ph//Attraction_Review-g317059-d15310053-Reviews-Simien_View-Gonder_Amhara_Region.html', 'https://www.tripadvisor.com.ph//Attraction_Review-g480193-d3751188-Reviews-Asheton_Maryam_Monastery-Lalibela_Amhara_Region.html', 'https://www.tripadvisor.com.ph//Attraction_Review-g293791-d3749770-Reviews-St_George_s_Cathedral-Addis_Ababa.html', 'https://www.tripadvisor.com.ph//Attraction_Review-g3667784-d5587719-Reviews-Northern_Stelae_Field-Axum_Tigray_Region.html', 'https://www.tripadvisor.com.ph//Attraction_Review-g480193-d8414985-Reviews-Monastery_of_Na_akuto_La_ab-Lalibela_Amhara_Region.html', 'https://www.tripadvisor.com.ph//Attraction_Review-g293791-d3751164-Reviews-Entoto_Maryam_Church-Addis_Ababa.html', 'https://www.tripadvisor.com.ph//Attraction_Review-g480193-d7619296-Reviews-Tomb_of_Adam-Lalibela_Amhara_Region.html', 'https://www.tripadvisor.com.ph//Attraction_Review-g480192-d7249001-Reviews-Monastery_of_Debre_Mariam-Bahir_Dar_Amhara_Region.html', 'https://www.tripadvisor.com.ph//Attraction_Review-g3667784-d3667785-Reviews-Church_of_Our_Lady_Mary_of_Zion-Axum_Tigray_Region.html', 'https://www.tripadvisor.com.ph//Attraction_Review-g1510618-d4600996-Reviews-Konso_Cultural_Centre-Konso_Southern_Nations_Nationalities_and_People_s_Region.html', 'https://www.tripadvisor.com.ph//Attraction_Review-g3667784-d5587721-Reviews-King_Ezana_s_inscription-Axum_Tigray_Region.html', 'https://www.tripadvisor.com.ph//Attraction_Review-g293791-d2259221-Reviews-Adadi_Maryam-Addis_Ababa.html', 'https://www.tripadvisor.com.ph//Attraction_Review-g1237174-d4814274-Reviews-Dasenech_Village-Turmi_Southern_Nations_Nationalities_and_People_s_Region.html', 'https://www.tripadvisor.com.ph//Attraction_Review-g293791-d10387389-Reviews-Medhane_Alem_Cathedral-Addis_Ababa.html', 'https://www.tripadvisor.com.ph//Attraction_Review-g3667784-d5587720-Reviews-Tombs_of_Kings_Kaleb_and_Gebre_Meskal-Axum_Tigray_Region.html', 'https://www.tripadvisor.com.ph//Attraction_Review-g293791-d6413070-Reviews-The_Mausoleum_of_Menelik_II-Addis_Ababa.html', 'https://www.tripadvisor.com.ph//Attraction_Review-g3667784-d480674-Reviews-St_Mary_of_Zion-Axum_Tigray_Region.html', 'https://www.tripadvisor.com.ph//Attraction_Review-g293791-d19283853-Reviews-Unity_Park-Addis_Ababa.html', 'https://www.tripadvisor.com.ph//Attraction_Review-g480193-d11996009-Reviews-Bilbala_St_George_Rock_Hewn_Church-Lalibela_Amhara_Region.html', 'https://www.tripadvisor.com.ph//Attraction_Review-g1401789-d6475015-Reviews-Monastery_of_Debre_Damo-Adigrat_Tigray_Region.html', 'https://www.tripadvisor.com.ph//Attraction_Review-g970349-d4008361-Reviews-Bale_Mountains-Goba_Oromiya_Region.html', 'https://www.tripadvisor.com.ph//Attraction_Review-g2193232-d324964-Reviews-Simien_Mountains_National_Park-Amhara_Region.html', 'https://www.tripadvisor.com.ph//Attraction_Review-g1237159-d593874-Reviews-Omo_National_Park_and_River-Jinka_Southern_Nations_Nationalities_and_People_s_Reg.html', 'https://www.tripadvisor.com.ph//Attraction_Review-g1392610-d1788766-Reviews-Gheralta_Rock-Mek_ele_Tigray_Region.html', 'https://www.tripadvisor.com.ph//Attraction_Review-g480193-d3748945-Reviews-Abune_Yosef-Lalibela_Amhara_Region.html', 'https://www.tripadvisor.com.ph//Attraction_Review-g776853-d4215366-Reviews-Nechisar_National_Park-Arba_Minch_Southern_Nations_Nationalities_and_People_s_Reg.html', 'https://www.tripadvisor.com.ph//Attraction_Review-g1071626-d4145779-Reviews-Hippo_watching_on_Lake_Awassa-Awasa_Southern_Nations_Nationalities_and_People_s_.html', 'https://www.tripadvisor.com.ph//Attraction_Review-g776853-d8011634-Reviews-Nechisar_National_Park-Arba_Minch_Southern_Nations_Nationalities_and_People_s_Reg.html', 'https://www.tripadvisor.com.ph//Attraction_Review-g293791-d9826203-Reviews-Menagesha_Suba_Forest_Park-Addis_Ababa.html', 'https://www.tripadvisor.com.ph//Attraction_Review-g1071626-d9780913-Reviews-Abidjatta_Shalla_National_Park-Awasa_Southern_Nations_Nationalities_and_People_s.html', 'https://www.tripadvisor.com.ph//Attraction_Review-g2193263-d480738-Reviews-Mago_National_Park-Southern_Nations_Nationalities_and_People_s_Region.html', 'https://www.tripadvisor.com.ph//Attraction_Review-g3667784-d12654582-Reviews-Ezana_Park-Axum_Tigray_Region.html', 'https://www.tripadvisor.com.ph//Attraction_Review-g293791-d10290657-Reviews-Ras_Dashen-Addis_Ababa.html', 'https://www.tripadvisor.com.ph//Attraction_Review-g293791-d15086967-Reviews-Entoto_Natural_Park-Addis_Ababa.html', 'https://www.tripadvisor.com.ph//Attraction_Review-g14037336-d11717616-Reviews-Chebera_Churchura_National_Park-Tiya_Southern_Nations_Nationalities_and_People.html', 'https://www.tripadvisor.com.ph//Attraction_Review-g1071625-d12371384-Reviews-Gambella_National_Park-Gambela_Gambela_Region.html', 'https://www.tripadvisor.com.ph//Attraction_Review-g1510664-d11624575-Reviews-Yerer_Mountain-Bishoftu_Oromiya_Region.html', 'https://www.tripadvisor.com.ph//Attraction_Review-g2509915-d8532114-Reviews-Yabelo_Wildlife_Sanctuary-Yabelo_Oromiya_Region.html', 'https://www.tripadvisor.com.ph//Attraction_Review-g9706773-d10177035-Reviews-Senkele_Swayne_s_Hartebeest_Sanctuary-Melkasa_Oromiya_Region.html', 'https://www.tripadvisor.com.ph//Attraction_Review-g293791-d17749723-Reviews-BlueSapphire_Tours-Addis_Ababa.html', 'https://www.tripadvisor.com.ph//Attraction_Review-g1015732-d15579807-Reviews-Mesganaw-Debark_Amhara_Region.html', 'https://www.tripadvisor.com.ph//Attraction_Review-g8844180-d14982330-Reviews-Gibe_Sheleko_National_Park-Welkite_Southern_Nations_Nationalities_and_People_s_.html', 'https://www.tripadvisor.com.ph//Attraction_Review-g2193232-d16831207-Reviews-Mount_Bwahit-Amhara_Region.html', 'https://www.tripadvisor.com.ph//Attraction_Review-g293791-d11714650-Reviews-Chebera_Churchura_National_Park-Addis_Ababa.html', 'https://www.tripadvisor.com.ph//Attraction_Review-g2193246-d5569954-Reviews-Senkele_Wildlife_Sanctuary-Oromiya_Region.html', 'https://www.tripadvisor.com.ph//Attraction_Review-g293791-d13421901-Reviews-Bale_Mountains_National_Park-Addis_Ababa.html', 'https://www.tripadvisor.com.ph//Attraction_Review-g293791-d2357654-Reviews-Red_Terror_Martyrs_Memorial_Museum-Addis_Ababa.html', 'https://www.tripadvisor.com.ph//Attraction_Review-g293791-d2206771-Reviews-Ethnological_Museum-Addis_Ababa.html', 'https://www.tripadvisor.com.ph//Attraction_Review-g293791-d480664-Reviews-National_Museum_of_Ethiopia-Addis_Ababa.html', 'https://www.tripadvisor.com.ph//Attraction_Review-g1237159-d2539760-Reviews-South_Omo_Research_Centre_Museum-Jinka_Southern_Nations_Nationalities_and_People.html', 'https://www.tripadvisor.com.ph//Attraction_Review-g676757-d3822726-Reviews-Casa_Museo_di_Rimbaud-Harar_Harari_Region.html', 'https://www.tripadvisor.com.ph//Attraction_Review-g480193-d5232734-Reviews-The_Fine_Art_Gallery-Lalibela_Amhara_Region.html', 'https://www.tripadvisor.com.ph//Attraction_Review-g480192-d8459917-Reviews-Church_of_Debre_Sina_Maryam-Bahir_Dar_Amhara_Region.html', 'https://www.tripadvisor.com.ph//Attraction_Review-g293791-d13332665-Reviews-Addis_Ababa_Museum-Addis_Ababa.html', 'https://www.tripadvisor.com.ph//Attraction_Review-g676757-d3874172-Reviews-Harar_Museum-Harar_Harari_Region.html', 'https://www.tripadvisor.com.ph//Attraction_Review-g293791-d3838087-Reviews-Asni_Gallery-Addis_Ababa.html', 'https://www.tripadvisor.com.ph//Attraction_Review-g1392610-d7374092-Reviews-Emperor_Yohannes_IV_Palace-Mek_ele_Tigray_Region.html', 'https://www.tripadvisor.com.ph//Attraction_Review-g480192-d15619928-Reviews-Lions_Art_Gallery-Bahir_Dar_Amhara_Region.html', 'https://www.tripadvisor.com.ph//Attraction_Review-g293791-d17369925-Reviews-Zoma_Museum-Addis_Ababa.html', 'https://www.tripadvisor.com.ph//Attraction_Review-g7620142-d8863633-Reviews-Wukro_Museum-Wukro_Tigray_Region.html', 'https://www.tripadvisor.com.ph//Attraction_Review-g293791-d3198057-Reviews-Lela_Gallery-Addis_Ababa.html', 'https://www.tripadvisor.com.ph//Attraction_Review-g293791-d4590897-Reviews-Museum_of_Modern_Art_Goethe_Institut_Ethiopia-Addis_Ababa.html', 'https://www.tripadvisor.com.ph//Attraction_Review-g293791-d13381752-Reviews-Lalibela_Gemstones_and_Jewellery-Addis_Ababa.html', 'https://www.tripadvisor.com.ph//Attraction_Review-g480192-d17712592-Reviews-Wakanda_Art_Gallery-Bahir_Dar_Amhara_Region.html', 'https://www.tripadvisor.com.ph//Attraction_Review-g3667784-d11965885-Reviews-Archeological_Museum-Axum_Tigray_Region.html', 'https://www.tripadvisor.com.ph//Attraction_Review-g293791-d5482273-Reviews-National_Theatre_Art_Gallery-Addis_Ababa.html', 'https://www.tripadvisor.com.ph//Attraction_Review-g293791-d13423019-Reviews-Addis_Fine_Art_Gallery-Addis_Ababa.html', 'https://www.tripadvisor.com.ph//Attraction_Review-g293791-d8757358-Reviews-Berhan_Ethiopa_Cultural_Center_Plc-Addis_Ababa.html']\n"
     ]
    }
   ],
   "source": [
    "import collections\n",
    "print(collections.Counter(first_page_list) == collections.Counter(list(set(first_page_list))))\n",
    "print(len(first_page_list))"
   ]
  },
  {
   "cell_type": "code",
   "execution_count": 78,
   "metadata": {},
   "outputs": [
    {
     "name": "stdout",
     "output_type": "stream",
     "text": [
      "78\n"
     ]
    }
   ],
   "source": [
    "print(len(first_page_list))"
   ]
  },
  {
   "cell_type": "code",
   "execution_count": 20,
   "metadata": {},
   "outputs": [],
   "source": [
    "rev_place_list = []\n",
    "rev_head_list = []\n",
    "rev_body_list = []\n",
    "rev_rating_list = []\n",
    "rev_date_list = []\n",
    "page_nos = []\n",
    "skipped_urls = []\n",
    "url_list1 = []"
   ]
  },
  {
   "cell_type": "code",
   "execution_count": 21,
   "metadata": {},
   "outputs": [],
   "source": [
    "url_list1 = ['https://www.tripadvisor.com.ph/Attraction_Review-g480193-d324957-Reviews-or710-Rock_Hewn_Churches_of_Lalibela-Lalibela_Amhara_Region.html',\n",
    "            'https://www.tripadvisor.com.ph/Attraction_Review-g480193-d324957-Reviews-or720-Rock_Hewn_Churches_of_Lalibela-Lalibela_Amhara_Region.html']"
   ]
  },
  {
   "cell_type": "code",
   "execution_count": 22,
   "metadata": {},
   "outputs": [],
   "source": [
    "# New\n",
    "def getPlace(x, y):\n",
    "    for i in y.find_all(class_ = 'noQuotes'):\n",
    "        rev_place_list.append(x.find(id = 'HEADING').string)\n",
    "        \n",
    "def getHead(x):\n",
    "    for i in x.find_all(class_ = 'noQuotes'):\n",
    "        rev_head_list.append(i.string)\n",
    "\n",
    "def getBody(x):\n",
    "    z = x.find_all(class_ = 'entry')\n",
    "    for i in z:\n",
    "        if i.find(class_ = 'taLnk ulBlueLinks') != None:\n",
    "            rev_body_list.append(i.text[:-4])\n",
    "        else:\n",
    "            rev_body_list.append(i.text)\n",
    "\n",
    "def getRating(x):\n",
    "    rev_revs = x.find_all(class_='ui_column is-9')\n",
    "    for i in range(len(rev_revs)):\n",
    "        if rev_revs[i].find(class_ = 'ui_bubble_rating bubble_50') != None:\n",
    "            rev_rating_list.append(5)\n",
    "        elif rev_revs[i].find(class_ = 'ui_bubble_rating bubble_40') != None:\n",
    "            rev_rating_list.append(4)\n",
    "        elif rev_revs[i].find(class_ = 'ui_bubble_rating bubble_30') != None:\n",
    "            rev_rating_list.append(3)\n",
    "        elif rev_revs[i].find(class_ = 'ui_bubble_rating bubble_20') != None:\n",
    "            rev_rating_list.append(2)\n",
    "        elif rev_revs[i].find(class_ = 'ui_bubble_rating bubble_10') != None:\n",
    "            rev_rating_list.append(1)\n",
    "\n",
    "def getDate(x):\n",
    "    for i in x.find_all(class_ = 'prw_rup prw_reviews_stay_date_hsx'):\n",
    "        if i.find(class_ = 'stay_date_label') == None:\n",
    "            rev_date_list.append('None')\n",
    "        else:\n",
    "            rev_date_list.append(str(i.span.next_sibling).strip())\n",
    "\n",
    "def delay(x, y):\n",
    "    time.sleep(random.uniform(x, y))\n",
    "    return None\n",
    "\n",
    "def getData(urls):\n",
    "    start_revs = 0\n",
    "    end_revs = 0\n",
    "    for i in urls:\n",
    "        start_revs = len(rev_head_list)\n",
    "        print('start: ', len(rev_head_list))\n",
    "        page = requests.get(i, headers = headers)\n",
    "        soup = BeautifulSoup(page.content, 'html.parser')\n",
    "        rev = soup.find(id = 'REVIEWS')\n",
    "        getPlace(soup, rev)\n",
    "        getHead(rev)\n",
    "        getBody(rev)\n",
    "        getRating(rev)\n",
    "        getDate(rev)\n",
    "        delay(15, 30)\n",
    "        end_revs = len(rev_head_list)\n",
    "        print('end: ', len(rev_head_list))\n",
    "        if end_revs == start_revs and i not in skipped_urls:\n",
    "            skipped_urls.append(i)\n",
    "        if end_revs > start_revs and i in skipped_urls:\n",
    "            skipped_urls.remove(i)\n",
    "        print(skipped_urls)\n",
    "    if len(skipped_urls) != 0:\n",
    "        print('restarting function...')\n",
    "        getData(skipped_urls)"
   ]
  },
  {
   "cell_type": "code",
   "execution_count": 23,
   "metadata": {},
   "outputs": [
    {
     "name": "stdout",
     "output_type": "stream",
     "text": [
      "start:  0\n",
      "end:  10\n",
      "[]\n",
      "start:  10\n",
      "end:  20\n",
      "[]\n"
     ]
    }
   ],
   "source": [
    "getData(url_list1)"
   ]
  },
  {
   "cell_type": "code",
   "execution_count": 24,
   "metadata": {},
   "outputs": [
    {
     "name": "stdout",
     "output_type": "stream",
     "text": [
      "['Rock-Hewn Churches of Lalibela', 'Rock-Hewn Churches of Lalibela', 'Rock-Hewn Churches of Lalibela', 'Rock-Hewn Churches of Lalibela', 'Rock-Hewn Churches of Lalibela', 'Rock-Hewn Churches of Lalibela', 'Rock-Hewn Churches of Lalibela', 'Rock-Hewn Churches of Lalibela', 'Rock-Hewn Churches of Lalibela', 'Rock-Hewn Churches of Lalibela', 'Rock-Hewn Churches of Lalibela', 'Rock-Hewn Churches of Lalibela', 'Rock-Hewn Churches of Lalibela', 'Rock-Hewn Churches of Lalibela', 'Rock-Hewn Churches of Lalibela', 'Rock-Hewn Churches of Lalibela', 'Rock-Hewn Churches of Lalibela', 'Rock-Hewn Churches of Lalibela', 'Rock-Hewn Churches of Lalibela', 'Rock-Hewn Churches of Lalibela']\n",
      "['Amazing and impressing', 'Amazing churches of LAlibela', \"Couldn't help but to compare to Petra!\", \"It's the one you see in the books!\", 'Magical', 'Amazing churches', 'Unique churches', 'Just like the pictures', 'A cross shaped church is just the beginning', 'Amazing', 'the strength of man', 'Great Site- Marred By Usual Ethiopian Mismanagement', 'Do not miss these churches', 'Fantastic', 'The most spectacular of the rock churches', 'Deservedly a world heritage site', 'An amazing historical sight', 'interesting- within the church cluster', 'very interesting', 'Carved Churches of Lalibela']\n",
      "['Get a good guide (and a shoe lady) to explain the history. If possible visit also one of the churches when mass going on.  For women wear a head scarf.. get blessed for seven generations.', 'I visited the churches over two days with an experienced guide who was extremely knowledgeable and passionate about his work. I would strongly advise that you make  use of a knowledgeable guide as it enriches the experience so much more and they are able to...', \"I spent a good chunk of time in the Lalibela churches (and in Tigray too) being pleasantly reminded of Petra in Jordan. I couldn't help wondering whether the Nabateans had somehow passed on their Rick-carving techniques 800 years down the line. \\n\\nRock cut monuments are...\", \"It's totally obvious that if you go to Lalibela, you'll visit St Grorge. It gives you the view and the photos that you always imagined.\\n\\nSo it's a must and deservedly so. But as an experience, I found the south eastern group of churches more...\", 'The only church which stands in its original state. Visit at sunset to see it in the last rays of the sun', 'The churches are unique and worth visiting at different times of day to see their significance in the lives of the Orthodox Christians. The UNESCO covers are clunky and spoil them in my opinion. The entrance fee is VERY overpriced, the charge has increased ten...', 'We had several wonderful tours of the churches in small groups over two days with a friendly, knowledgeable guide, Tesfaw, arranged for us by Highland Eco Trekking. Very much worth the reasonable price.', 'Much better than words or pictures can say. We had an excellent guide - Tesfau. It is probably the best of the churches but all are recommended.', 'Loved this church. Great for pictures. Wonderful to traverse the tunnels to get inside. It looks small from the outside but it is remarkable on the inside. The carving is just unbelievable for any time period but given what it must have taken to do...', 'What a wonderful experience. We had a great guide who showed us around in record time. Would definitely go again. Lives up to its name 8th wonder of the world and despite all the preservation efforts that have been put in place by UNESCO are...', 'this is a place where were faith mate strength and knowledge! or like walking in a phantasy of world.', 'One cannot fault how incredible an achievement it was to build these churches and if anyone happens to be in Ethiopia with a couple of days, it is certainly a must-do attraction. That said, like many other attractions in Ethiopia, this site is badly marred...', 'LAlibela is all about churches, and knowing their history and meaning is very important, as well as the difference between the Ethiopian Church, the Coptic Church, and the Catholic and Eastern Rite Churches is important. But try to go the church on Sunday morning, and...', 'YOu cannot miss this church carved out of the igneous rock. A beautiful two story building carved out of the rock, both inside and out, built nearly a millennium ago without any kinds of tools with mechanically advantage or explosives. BEautiful, and Amazing. The walk...', 'Bet Giorgis, this is rightly the highlight among a whole series of magnificent rock churches. You have the opportunity to view from all angles both inside and out and each is well worthwhile.', 'These are truly extraordinary churches hewn out of solid basalt. They are located in two distinct clusters. They absolutely deserve to be UNESCO world heritage sites which they are. Many have fine internal decoration.', 'I totally agree with the guide book, if the churches were in a more developed country they would be as well known as the pyramids or the taj. It was lovely to walk round the churches and seeing that they are still being used for...', 'just on the edge of 1 group of churches- but included in tours of the churches. Nothing much inside but interesting to view from above. Again- you need walking boots as a bit tricky in places but ok if you are fit', 'One of the few things I found of interest in Ethiopia. Divided into 2 sections and worth doing both- amazing feats of stonework as cut out of stone. Difficult in places to enter and exit and walking boots needed. Go with a guide and then...', 'What can one say about the removal of a huge sandstone cliff to create unique Christian Churches out of solid stone with, inside, craving and paintings hundreds of years old.\\n  And, the \"Tomb of Adam\"\" !! Well, maybe !!\\n  We spent hours there -- have...']\n",
      "['March 2015', 'March 2015', 'None', 'None', 'February 2015', 'February 2015', 'March 2015', 'March 2015', 'March 2015', 'March 2015', 'June 2014', 'March 2015', 'January 2015', 'January 2015', 'February 2015', 'February 2015', 'March 2015', 'February 2015', 'February 2015', 'November 2014']\n",
      "[5, 4, 4, 5, 5, 4, 5, 5, 5, 5, 4, 3, 5, 5, 5, 5, 5, 4, 4, 5]\n"
     ]
    }
   ],
   "source": [
    "print(rev_place_list)\n",
    "print(rev_head_list)\n",
    "print(rev_body_list)\n",
    "print(rev_date_list)\n",
    "print(rev_rating_list)"
   ]
  },
  {
   "cell_type": "code",
   "execution_count": 25,
   "metadata": {},
   "outputs": [
    {
     "name": "stdout",
     "output_type": "stream",
     "text": [
      "20\n",
      "20\n",
      "20\n",
      "20\n",
      "20\n"
     ]
    }
   ],
   "source": [
    "print(len(rev_place_list))\n",
    "print(len(rev_head_list))\n",
    "print(len(rev_body_list))\n",
    "print(len(rev_rating_list))\n",
    "print(len(rev_date_list))"
   ]
  },
  {
   "cell_type": "code",
   "execution_count": null,
   "metadata": {},
   "outputs": [],
   "source": [
    "https://www.tripadvisor.com.ph/Attraction_Review-g480193-d324957-Reviews-or720-Rock_Hewn_Churches_of_Lalibela-Lalibela_Amhara_Region.html"
   ]
  },
  {
   "cell_type": "code",
   "execution_count": 19,
   "metadata": {},
   "outputs": [
    {
     "name": "stdout",
     "output_type": "stream",
     "text": [
      "1\n",
      "<span class=\"stay_date_label\">Date of experience:</span>\n",
      "1\n",
      "<span class=\"stay_date_label\">Date of experience:</span>\n",
      "1\n",
      "None\n",
      "1\n",
      "None\n",
      "1\n",
      "<span class=\"stay_date_label\">Date of experience:</span>\n",
      "1\n",
      "<span class=\"stay_date_label\">Date of experience:</span>\n",
      "1\n",
      "<span class=\"stay_date_label\">Date of experience:</span>\n",
      "1\n",
      "<span class=\"stay_date_label\">Date of experience:</span>\n",
      "1\n",
      "<span class=\"stay_date_label\">Date of experience:</span>\n",
      "1\n",
      "<span class=\"stay_date_label\">Date of experience:</span>\n"
     ]
    }
   ],
   "source": [
    "page = requests.get('https://www.tripadvisor.com.ph/Attraction_Review-g480193-d324957-Reviews-or710-Rock_Hewn_Churches_of_Lalibela-Lalibela_Amhara_Region.html', headers = headers)\n",
    "soup = BeautifulSoup(page.content, 'html.parser')\n",
    "rev = soup.find(id = 'REVIEWS')\n",
    "for i in rev.find_all(class_ = 'prw_rup prw_reviews_stay_date_hsx'):\n",
    "    print('1')\n",
    "    print(i.find(class_ = 'stay_date_label'))\n",
    "    if i.find(class_ = 'stay_date_label') == None:\n",
    "        rev_date_list.append('None')\n",
    "    else:\n",
    "        rev_date_list.append(str(i.span.next_sibling).strip())"
   ]
  }
 ],
 "metadata": {
  "kernelspec": {
   "display_name": "Python 3",
   "language": "python",
   "name": "python3"
  },
  "language_info": {
   "codemirror_mode": {
    "name": "ipython",
    "version": 3
   },
   "file_extension": ".py",
   "mimetype": "text/x-python",
   "name": "python",
   "nbconvert_exporter": "python",
   "pygments_lexer": "ipython3",
   "version": "3.6.7"
  }
 },
 "nbformat": 4,
 "nbformat_minor": 2
}
