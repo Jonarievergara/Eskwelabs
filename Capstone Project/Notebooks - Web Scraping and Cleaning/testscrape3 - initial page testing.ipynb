{
 "cells": [
  {
   "cell_type": "code",
   "execution_count": 23,
   "metadata": {},
   "outputs": [],
   "source": [
    "# TripAdvisor Reviews\n",
    "import requests\n",
    "from bs4 import BeautifulSoup\n",
    "import time\n",
    "import random\n",
    "headers = requests.utils.default_headers()\n",
    "headers.update({\n",
    "    'User-Agent': 'Mozilla/5.0 (X11; Ubuntu; Linux x86_64; rv:52.0) Gecko/20100101 Firefox/52.0',\n",
    "})"
   ]
  },
  {
   "cell_type": "code",
   "execution_count": 24,
   "metadata": {},
   "outputs": [
    {
     "data": {
      "text/plain": [
       "['https://www.tripadvisor.com.ph/Attraction_Review-g480193-d10147730-Reviews-Church_of_St_George-Lalibela_Amhara_Region.html',\n",
       " 'https://www.tripadvisor.com.ph/Attraction_Review-g480193-d10147730-Reviews-or10-Church_of_St_George-Lalibela_Amhara_Region.html',\n",
       " 'https://www.tripadvisor.com.ph/Attraction_Review-g480193-d10147730-Reviews-or20-Church_of_St_George-Lalibela_Amhara_Region.html',\n",
       " 'https://www.tripadvisor.com.ph/Attraction_Review-g480193-d10147730-Reviews-or30-Church_of_St_George-Lalibela_Amhara_Region.html',\n",
       " 'https://www.tripadvisor.com.ph/Attraction_Review-g480193-d10147730-Reviews-or40-Church_of_St_George-Lalibela_Amhara_Region.html',\n",
       " 'https://www.tripadvisor.com.ph/Attraction_Review-g480193-d10147730-Reviews-or50-Church_of_St_George-Lalibela_Amhara_Region.html',\n",
       " 'https://www.tripadvisor.com.ph/Attraction_Review-g480193-d10147730-Reviews-or60-Church_of_St_George-Lalibela_Amhara_Region.html',\n",
       " 'https://www.tripadvisor.com.ph/Attraction_Review-g480193-d10147730-Reviews-or70-Church_of_St_George-Lalibela_Amhara_Region.html',\n",
       " 'https://www.tripadvisor.com.ph/Attraction_Review-g480193-d10147730-Reviews-or80-Church_of_St_George-Lalibela_Amhara_Region.html',\n",
       " 'https://www.tripadvisor.com.ph/Attraction_Review-g480193-d10147730-Reviews-or90-Church_of_St_George-Lalibela_Amhara_Region.html',\n",
       " 'https://www.tripadvisor.com.ph/Attraction_Review-g480193-d10147730-Reviews-or100-Church_of_St_George-Lalibela_Amhara_Region.html',\n",
       " 'https://www.tripadvisor.com.ph/Attraction_Review-g480193-d10147730-Reviews-or110-Church_of_St_George-Lalibela_Amhara_Region.html',\n",
       " 'https://www.tripadvisor.com.ph/Attraction_Review-g480193-d10147730-Reviews-or120-Church_of_St_George-Lalibela_Amhara_Region.html',\n",
       " 'https://www.tripadvisor.com.ph/Attraction_Review-g480193-d10147730-Reviews-or130-Church_of_St_George-Lalibela_Amhara_Region.html',\n",
       " 'https://www.tripadvisor.com.ph/Attraction_Review-g480193-d10147730-Reviews-or140-Church_of_St_George-Lalibela_Amhara_Region.html',\n",
       " 'https://www.tripadvisor.com.ph/Attraction_Review-g480193-d10147730-Reviews-or150-Church_of_St_George-Lalibela_Amhara_Region.html',\n",
       " 'https://www.tripadvisor.com.ph/Attraction_Review-g480193-d10147730-Reviews-or160-Church_of_St_George-Lalibela_Amhara_Region.html',\n",
       " 'https://www.tripadvisor.com.ph/Attraction_Review-g480193-d10147730-Reviews-or170-Church_of_St_George-Lalibela_Amhara_Region.html',\n",
       " 'https://www.tripadvisor.com.ph/Attraction_Review-g480193-d10147730-Reviews-or180-Church_of_St_George-Lalibela_Amhara_Region.html',\n",
       " 'https://www.tripadvisor.com.ph/Attraction_Review-g480193-d10147730-Reviews-or190-Church_of_St_George-Lalibela_Amhara_Region.html']"
      ]
     },
     "execution_count": 24,
     "metadata": {},
     "output_type": "execute_result"
    }
   ],
   "source": [
    "rev_place_list = []\n",
    "rev_head_list = []\n",
    "rev_body_list = []\n",
    "rev_rating_list = []\n",
    "rev_date_list = []\n",
    "index_pages1 = ('https://www.tripadvisor.com.ph/Attraction_Review-g480193-d10147730-Reviews-or{}-Church_of_St_George-Lalibela_Amhara_Region.html'.format(i) for i in range(10, 200, 10))\n",
    "url_list1 = ['https://www.tripadvisor.com.ph/Attraction_Review-g480193-d10147730-Reviews-Church_of_St_George-Lalibela_Amhara_Region.html']\n",
    "for i in index_pages1:\n",
    "    url_list1.append(i)\n",
    "url_list1"
   ]
  },
  {
   "cell_type": "code",
   "execution_count": 22,
   "metadata": {},
   "outputs": [],
   "source": [
    "def getPlace(x, y):\n",
    "    for i in y.find_all(class_ = 'noQuotes'):\n",
    "        rev_place_list.append(x.find(id = 'HEADING').string)\n",
    "        \n",
    "def getHead(x):\n",
    "    for i in x.find_all(class_ = 'noQuotes'):\n",
    "        rev_head_list.append(i.string)\n",
    "\n",
    "def getBody(x):\n",
    "    for i in x.find_all(class_ = 'partial_entry'):\n",
    "        rev_body_list.append(i.string)\n",
    "\n",
    "def getRating(x):\n",
    "    rev_revs = x.find_all(class_='ui_column is-9')\n",
    "    for i in range(len(rev_revs)):\n",
    "        if rev_revs[i].find(class_ = 'ui_bubble_rating bubble_50') != None:\n",
    "            rev_rating_list.append(5)\n",
    "        elif rev_revs[i].find(class_ = 'ui_bubble_rating bubble_40') != None:\n",
    "            rev_rating_list.append(4)\n",
    "        elif rev_revs[i].find(class_ = 'ui_bubble_rating bubble_30') != None:\n",
    "            rev_rating_list.append(3)\n",
    "        elif rev_revs[i].find(class_ = 'ui_bubble_rating bubble_20') != None:\n",
    "            rev_rating_list.append(2)\n",
    "        elif rev_revs[i].find(class_ = 'ui_bubble_rating bubble_10') != None:\n",
    "            rev_rating_list.append(1)\n",
    "\n",
    "def getDate(x):\n",
    "    for i in x.find_all(class_ = 'prw_rup prw_reviews_stay_date_hsx'):\n",
    "        rev_date_list.append(str(i.span.next_sibling).strip())\n",
    "\n",
    "def delay():\n",
    "    time.sleep(random.uniform(15, 30))\n",
    "    return None\n",
    "\n",
    "def getData(urls):\n",
    "    skipped_urls = []\n",
    "    count = 0\n",
    "    for i in urls:\n",
    "        print(len(rev_head_list))\n",
    "        page = requests.get(i, headers = headers)\n",
    "        soup = BeautifulSoup(page.content, 'html.parser')\n",
    "        rev = soup.find(id = 'REVIEWS')\n",
    "        getPlace(soup, rev)\n",
    "        getHead(rev)\n",
    "        getBody(rev)\n",
    "        getRating(rev)\n",
    "        getDate(rev)\n",
    "        delay()\n",
    "        "
   ]
  },
  {
   "cell_type": "code",
   "execution_count": 25,
   "metadata": {},
   "outputs": [
    {
     "name": "stdout",
     "output_type": "stream",
     "text": [
      "0\n",
      "0\n",
      "10\n",
      "20\n",
      "30\n",
      "40\n",
      "50\n",
      "60\n",
      "60\n",
      "60\n",
      "70\n",
      "80\n",
      "80\n",
      "90\n",
      "90\n",
      "100\n",
      "110\n",
      "120\n",
      "130\n",
      "134\n"
     ]
    }
   ],
   "source": [
    "getData(url_list1)"
   ]
  },
  {
   "cell_type": "code",
   "execution_count": 26,
   "metadata": {},
   "outputs": [
    {
     "name": "stdout",
     "output_type": "stream",
     "text": [
      "['Church of St. George', 'Church of St. George', 'Church of St. George', 'Church of St. George', 'Church of St. George', 'Church of St. George', 'Church of St. George', 'Church of St. George', 'Church of St. George', 'Church of St. George', 'Church of St. George', 'Church of St. George', 'Church of St. George', 'Church of St. George', 'Church of St. George', 'Church of St. George', 'Church of St. George', 'Church of St. George', 'Church of St. George', 'Church of St. George', 'Church of St. George', 'Church of St. George', 'Church of St. George', 'Church of St. George', 'Church of St. George', 'Church of St. George', 'Church of St. George', 'Church of St. George', 'Church of St. George', 'Church of St. George', 'Church of St. George', 'Church of St. George', 'Church of St. George', 'Church of St. George', 'Church of St. George', 'Church of St. George', 'Church of St. George', 'Church of St. George', 'Church of St. George', 'Church of St. George', 'Church of St. George', 'Church of St. George', 'Church of St. George', 'Church of St. George', 'Church of St. George', 'Church of St. George', 'Church of St. George', 'Church of St. George', 'Church of St. George', 'Church of St. George', 'Church of St. George', 'Church of St. George', 'Church of St. George', 'Church of St. George', 'Church of St. George', 'Church of St. George', 'Church of St. George', 'Church of St. George', 'Church of St. George', 'Church of St. George', 'Church of St. George', 'Church of St. George', 'Church of St. George', 'Church of St. George', 'Church of St. George', 'Church of St. George', 'Church of St. George', 'Church of St. George', 'Church of St. George', 'Church of St. George', 'Church of St. George', 'Church of St. George', 'Church of St. George', 'Church of St. George', 'Church of St. George', 'Church of St. George', 'Church of St. George', 'Church of St. George', 'Church of St. George', 'Church of St. George', 'Church of St. George', 'Church of St. George', 'Church of St. George', 'Church of St. George', 'Church of St. George', 'Church of St. George', 'Church of St. George', 'Church of St. George', 'Church of St. George', 'Church of St. George', 'Church of St. George', 'Church of St. George', 'Church of St. George', 'Church of St. George', 'Church of St. George', 'Church of St. George', 'Church of St. George', 'Church of St. George', 'Church of St. George', 'Church of St. George', 'Church of St. George', 'Church of St. George', 'Church of St. George', 'Church of St. George', 'Church of St. George', 'Church of St. George', 'Church of St. George', 'Church of St. George', 'Church of St. George', 'Church of St. George', 'Church of St. George', 'Church of St. George', 'Church of St. George', 'Church of St. George', 'Church of St. George', 'Church of St. George', 'Church of St. George', 'Church of St. George', 'Church of St. George', 'Church of St. George', 'Church of St. George', 'Church of St. George', 'Church of St. George', 'Church of St. George', 'Church of St. George', 'Church of St. George', 'Church of St. George', 'Church of St. George', 'Church of St. George', 'Church of St. George', 'Church of St. George', 'Church of St. George', 'Church of St. George', 'Church of St. George']\n",
      "['Wonderful Local Guide', 'Unique and breathtaking', 'interesting historical places and amazing travel agency MESAMA.', 'Most Impressive of all 11 Churches', 'Stunning ', 'Simply outstanding...hard to get my head around how they built this!', '900 old monolit church', 'The visit card of Lalibela', 'Amazing', 'Amazing', \"The most photographed of Lalibela's rock-hewn churches in Ethiopia\", 'Amazing ', 'the astonishing rock churches', 'Amazing Architect', 'Biblical!!!!  Inside of building up a church, it was built down into the volcanic rock!', 'wonderful church', 'A must visit', 'Great place with a great guide', 'Spectacular', 'the place to come for sunset', 'The best of the churches in Lalibela', 'A must visit - if any chance, go on Easter Sunday', 'One of the 11 Churches of Lalibela', 'Historical ', 'FASCINATING', 'The best example in Lalibela.', 'The icon of Lalibela, as stunning as expected!', 'A Masterpiece', 'Wonderful part of a tour of the town', 'fab', 'Amazing church', 'Very impressive!', 'Amazing place', 'Dream came true', 'Incredible', 'Just like we imagined', 'most impressive of all churches in Lalibela', 'Impressive!', 'Definitely worth a visit ', 'Breathetaking', 'Extraordinary!', 'Malcolm Gena (Happy Christmas)', 'Trip highlight', 'Incredible Near Sunset', 'amazing no word to say you!!!!!!', 'Amazing Historic Site', 'Great view', 'Such an amazing sight!', 'Great & spectactular church carved in the rock', 'The most special church in Libela', 'Blue skies and great weather - waht a place to visit', 'Just as amazing as the photos', 'The 8th man made wonder of the world', 'Bones and Art ', 'Incredible, unreal, beautiful ', 'One of the most unique and amazing churches in the world!', 'Try to avoid the crowds', 'Amazing', 'Highlight of Ethiopia', 'The iconic rock-hewn church', 'Personal assistant', 'The must see site ', 'Even better in person', 'Stunning - how did they do that?', 'One of the iconic images of Ethiopia', 'Amazing local monuments', 'one of the highlights of my trip to lalibela', 'Gobsmaking', 'Very interesting place!', 'Lalibela visit', 'You will go back few times', 'This is the one !', 'Nice place, amazing piece of work', 'the Masterpiece ', 'Worth it', 'Amazing work', 'Epic!', 'Breath taking St-George', 'Amazing place', 'indeed was made for angels', 'The highlight of Lalibela', 'Picture Postcard Perfect', 'If you only do one rock church then this is it...', 'Captivating structure', 'Wonder of the World', 'The Most Iconic, but small example of stunning churches', 'Impressive', 'The most amazing site!', 'One of famous churches', 'Amazingly beautiful ', 'Amazing ', 'out of the world', 'An ispiring attraction', 'Most famed rock church and is photogenic ', 'Amazing place', 'Small but amazing.', 'In awe....', 'Amazing Fact!', 'Must see', 'Amazing church', 'a must see', \"Wow, don't miss it\", 'Simply Amazing', 'Amazing!', 'A must-see in Lalibela!', 'Simply Amazing Archecture', 'the highlight of Lalibela', 'Breathtaking, a walk in history!', 'Amazing', 'STUNNING', 'The most famous and last church curved in the mountain', 'Wonderful', 'Incredible historic site', 'Amazing', 'Most remakable of all the rock-hewn churches in Lalibela', 'Impressive ', 'The most popular church in Lalibela but is one of 13 churches', 'A must see', 'Final destination!', 'unique architecture', 'Visit of a Lifetime.', 'a must do', 'Everything The Images Promise', 'Wonder of the World', 'The ex-libris of Lalibela', \"Don't miss this church.\", 'Just amazing', 'its just as perfect as todays achitecher', 'Amazing Lalibela Tour and Tour Guide!', 'The Most Famous of the Lalibela Churches', 'The best of the churches', 'Nice architecture!', 'One of the holiest places in Lalibela is St. George Church', 'Amazing place']\n",
      "[None, 'All the Lalibella churches are impressive and worth to visit. However, the St. George is by far the most amazing and by itself worth the trip to this city.', None, None, 'My main reason for coming to Ethiopia. Best time to visit is probably when the sun is slowly setting. A bit solitary from the groups of churches. The real deal.', \"All the rock hewn churches are spectacular and this one is probably my favorite.  I think it is wonder of the world.  Don't miss it!!\", 'Active church, impressive very nice to visit. Reminds of Petra in Jordan, but this is the real fdeal.', 'You must visit all 11 rock hewn churches, but St. George is the biggest and you will be as stunned as if you had not seen pictures yet.', 'Better than the photos you see everywhere. Church is small, but this is a highlight and well worth it.', 'No words can describe how amazing this church is and how this was built. Observe silence when inside (even chewing a gum is not allowed).', None, \"We really love this hysterical place I think visiting lalepala   \\n\\nIt's A piece of art you never imagine building a church from a stone\", 'The living rock carved out of the mother rock carefully without the use of advanced building machines is so amusing and difficult to believe it was the product of that ancient time.', None, 'Instead of building up a church, it was built down into the rock!  It cannot be seen across the landscape.  Such was the oppression and terror reigning at the time.', 'the most unique fascinating the most interesting place i ever have visited you will be amazed by the history the construction of this wonderful church', 'The church is very unique. It is carved in stone with the shape of a cross. There is no structure above it as the stone is from basalt stone. You also have great views to the church. So plenty of great photos.', 'We had a great guide in Lalibela, visiting the amazing churches. Melsie has so much knowledge about the history of those monuments. I highly recommendhim.', 'This is an absolute must for anyone visiting Lalibela, it is quite spectacular, an unforgettable experience.', None, 'This is the famous one, and justifiably so- still uncovered, and some distance from the rest of the complex of churches - essential to visit', None, 'The Church of St. George is an amazing testament to what man can do when the desire is there.  Carved from the stone this church is 82 feet deep and wide.  Getting to the bottom is an easy walk on a series of ramps.', None, None, None, None, 'Fir me the Church of St.George was one of the top highlights of my visit to Ethiopia. I believe it to be the ultimate ecclesiastical structure in Ethiopia [where there are a great many. Nothing prepares you for the staggering accomplishment of creating this chucrh.', 'This is one of the rock-hewn churches, and probably the most amazing. Definitely worth making it a focal point of your tour', 'UNBELIVIABLE, certainly you can not miss, have good walking shoe or sandles . Pay one official price to the church for 5 churches to visit over 3 days', 'It is very amazing to build such kind of this church. There are a few trick to go down to the church.', 'This church is very impressive from the outside. But you should also look at this unusual place inside. We definitely recommend a visit!', 'This place totally blows you away. It was the highlight of a long Ethiopian tour and a place I would recommend to everyone. It should be one of the new Wonders Of The World in my eyes.', None, None, None, 'we loved this one. It is the most impressive one. We waited until it was pretty much closing time to get the church without people around it (the top). Must visit on your trip to Ethiopia.', 'That this church was carved in rock is quite impressive. Was surprised of how small it is inside. Maybe not many people went to church in those days. Happy to have seen this page of Ethiopian history.', None, 'A must go place and the iconic church among all others around. One of the top places in Etiopia, specially during celebrating dates.\\nBetter visiting early in the morning or at sunset.', None, None, None, \"It's amazing to stand and gaze at this monolithic carved church from above, then find yourself within it from a fairly short hike down in the earth. At sunset, the lighting is incredibly inspiring, and walking around, you'll find headstones and other things to revere.\", 'amazing no word to say we !!!!!!\\nwe never see before like this it with amazing! \\nwe are happy to see this church in lalibela Ethiopia!', None, None, 'With this church, the outside is much more interesting than the inside. Seeing it hewn out of this rock is just amazing!', 'Really impressive, from the top, the bottom and, to a lesser extent, inside. Really something unique and spectactular.', 'Absolutely fascinating church to visit in Lalibela. Quite unique rocky church under ground level. Perhaps the most different one.', 'We arrived early in the morning and spent about 3 hours hiking and exploring the area.  This church is amazing. Best pictures were from the far right corner near a tree as you first enter the area.', None, None, None, None, 'This really is an amazing and unique church. It is one of the most important reasons why I wanted to come to Ethiopia in the first place. Out of all the churches in Lalibela, this is certainly the most interesting and beautiful.', 'Delightful rock-hewn church but gets busy with tourist groups, and it cannot cope with too many at one time.  Locals still keen to use church and pray.', None, 'You worry if it will live up to expectations after travelling from the other side of the world just to see it, but was not disappointed at all.', None, \"This church is amazingly beautiful, lilly white and is only painted every seven years. Birds don't mess on it. To enter you must wear white.\", 'This is the must see site of all of the rock hewn churches at Lalibela. Even a novice photographer on as art phone can capture stunning photos of this most rare of constructions', None, None, \"This is one of the most refined churches in the area an no surprise it's probably the most recognizable one.\", None, 'The last church (almost flawless) created by King lalibela, is also the most stunning one. Great history and photo opportunities.', 'This is quite gobsmacking.  Much bigger than you think and somewhat humbling.  Its difficult to get down to it, but worth the effort.', 'Nice history and located in a place with a beautiful view. The whole area is very photogenic. The monks were very welcoming', None, None, None, None, 'Almond the Lalibela Church’s this is the one that gave me the best sensation from outside and inside\\nIt s just out of time \\nSo beautiful! So peaceful\\nUnique and spiritual', None, None, None, None, 'The church of St George is the last one build by King Lalibela, but is the most beautiful even is nit the biggest one.', 'it really beautiful, as the legend said indeed was carving by angels, we were there in different moments of the day and every moment with different lights was magic', None, None, \"Impressive doesn't really do justice to the sheer size and complexity of this church carved from one single piece of rock. \\nIconic is the only word.\", 'St. George is a beauty to behold and great for photo ops. One can stare at it for hours and never get bored.', None, None, 'Most impressive church we have seen during our stay in Lalibela. You really need to see this one when traveling here.', 'After having seen all other churches this one was a special one-  most fascinating in its structure and view. Sunset is the best time to catch an amazing photo!', 'This is one of the most photographed churches in Lalibela because it’s truly underground and has a simple structure. The exterior is much more impressive with a sharp and unfenced cliff as an overlook. You can also wind your way down to look inside.', None, None, 'a out of the world experience. we had a brilliant tourguide, very knowlegebel perfect in english and speaks also french, his name is deacon  mekashaw temesgen, his phone is =251 911863780', None, None, 'This was a truely great experience.  We tracked all the 13 churches and our guide was really great in providing us with history of all the churches. Must do the tunnel that connects some of the churches - this was a great experience.', None, None, 'I was so impressed of this rock-hewn church (Lalibela). I heard a bout this rock-hewn churches from my family but it is more than what i heard about it. Simply its Amazing fact of Ethiopian civilization!', \"This doesn't let you down. Just stunning from the top and from the inside. Don't miss it! We went late afternoon and the place was empty.\", None, 'Biet Giyorgis is one of eleven monolithic churches and it is among the best known and last built of the eleven churches in the Lalibela area.', 'I have waited a lot of years to see this church - it is quite amazing. Go inside as it was built in the 12th century and is very interesting.', 'I already wrote my thought in TA but it is very impressive and amazing church in lalibela you must visited place in Ethiopia', 'Worth the trip to Ethiopia by itself. Very different and unique. Better visited in the late afternoon and during the dry season. Highly recommended.', \"Very impressive building from above, and I think it is also beautiful from inside, - though my favorite Church inside is St.Mary's Church. But be prepared to walk on a narrow path Down to the Church, Lots of walking to enter the Church itself!\", None, 'amazing and most famous of the rock hewn churches in Lalibela . \\nRelatively easier to walk down to compared with the other churches  in the area.', 'a gorgeous sight to visit, it was so impressive to stand and imagine that they carved through solid rocks! a beautiful church', None, 'This is not to be missed when going to Ethiopia.  This is a place of worship......lots of steps but amazing just the same', None, 'I was amazed to see such church..\\nWhen there you feel how great this civilization was!!!  It is breathtaking experience', 'Completely in awe of this and other sites of Lalibela and surrounds. We had a guided tour of the rock hewn churches and short trek with the impressive lalibelacrosstours.com Lots to do in this area of Ethiopia - 4 days. A must see destination.', 'From the moment the view is revealed as you walk towards it and as you descend in to the belly of the church especially as the sun sets can only be described as Amazing.', None, \"If you are in the town you must visit here, it might be the most visited but it's in a stunning setting.\", None, \"All the rock-hewn churches are incredible but if you can only see one (not sure why this would be but . . .) then St George's should be it.\", 'I saw the Church picture and videos for many times. And wishing to put my fingers on it. Yes, I did it finally & it’s quite attractive.', 'This is a church literally sculptured out of a mountain, both outside and inside. Difficult to say how they could possibly build it, definitely worth a visit.', 'all of the Churches in Lalibela are magnificent. Church of St George is perhaps the most camera friendly given the position and roof top decor. Very easy to traverse down into the Church and great history to be heard.', None, None, None, 'This church is particularly interesting because is has a square shape and an large under level surrounding. Worth the visit.', 'This is the most fascinating of the churches. It is the church often pictured in National Geographic when talking about Laibela. All the symbolisms of this church will fascinate anyone who knows the stories of the Bible.', 'For many people this may be one of the main reasons for visiting. Of course there is so much more, but this one carved building was amazing.', 'i was very happy and i felt like i am doing the right thing in my life .\\nthe building has its own drainage system just like modern architecture ....................................', None, None, 'This was the last church to be built and is the best. Worth at least two visits. Very good view of the church from the slight rise to the left as you walk out.', None, 'I was fortunate to attend a special celebration at daybreak. The crowd was so pious. The locals really believe that the water in the pond can cure all illnesses. It is definitely the highlight of my Lalibela visit.', None]\n",
      "['August 2019', 'August 2019', 'July 2019', 'September 2019', 'September 2019', 'August 2019', 'June 2019', 'May 2019', 'June 2019', 'June 2019', 'June 2019', 'June 2019', 'February 2019', 'June 2019', 'May 2019', 'November 2018', 'April 2019', 'January 2019', 'April 2019', 'January 2019', 'May 2019', 'April 2019', 'March 2019', 'April 2019', 'January 2019', 'March 2019', 'February 2019', 'February 2019', 'February 2019', 'February 2019', 'December 2018', 'February 2019', 'February 2019', 'January 2019', 'December 2018', 'January 2019', 'December 2018', 'January 2019', 'January 2019', 'January 2019', 'January 2019', 'January 2019', 'November 2018', 'January 2019', 'January 2019', 'December 2018', 'January 2019', 'January 2019', 'December 2018', 'December 2018', 'November 2018', 'December 2018', 'December 2018', 'December 2018', 'November 2018', 'November 2018', 'November 2018', 'December 2018', 'November 2018', 'October 2018', 'October 2017', 'June 2018', 'June 2018', 'April 2018', 'May 2018', 'May 2018', 'May 2018', 'April 2018', 'April 2018', 'April 2018', 'March 2018', 'April 2018', 'April 2018', 'April 2018', 'April 2018', 'January 2018', 'December 2017', 'March 2018', 'March 2018', 'January 2018', 'October 2017', 'December 2017', 'December 2017', 'September 2017', 'December 2017', 'December 2017', 'December 2017', 'December 2017', 'December 2017', 'December 2017', 'June 2017', 'May 2017', 'May 2017', 'April 2017', 'April 2017', 'March 2017', 'March 2017', 'March 2017', 'February 2017', 'February 2017', 'February 2017', 'September 2016', 'March 2016', 'February 2017', 'February 2017', 'January 2017', 'January 2017', 'January 2017', 'January 2017', 'November 2016', 'December 2016', 'December 2016', 'June 2016', 'November 2016', 'November 2016', 'April 2016', 'October 2016', 'October 2016', 'October 2016', 'October 2016', 'August 2016', 'August 2016', 'July 2016', 'January 2016', 'December 2015', 'July 2016', 'July 2016', 'March 2016', 'May 2016', 'May 2016', 'April 2016', 'December 2015', 'March 2016', 'April 2016']\n",
      "[5, 5, 5, 5, 5, 5, 5, 5, 5, 5, 5, 5, 5, 5, 5, 5, 5, 5, 5, 5, 5, 4, 5, 5, 5, 5, 5, 5, 5, 5, 4, 5, 5, 5, 5, 5, 5, 5, 5, 5, 5, 5, 5, 5, 5, 4, 5, 5, 5, 5, 5, 5, 5, 4, 5, 5, 5, 5, 5, 5, 5, 5, 5, 5, 5, 5, 5, 5, 5, 5, 5, 5, 5, 5, 5, 5, 5, 5, 5, 5, 5, 5, 5, 5, 5, 5, 5, 5, 4, 5, 5, 5, 5, 4, 4, 4, 5, 5, 5, 4, 5, 5, 5, 5, 4, 5, 5, 5, 5, 5, 5, 5, 5, 5, 5, 5, 5, 5, 5, 5, 5, 5, 5, 5, 4, 5, 5, 5, 5, 5, 5, 4, 5, 5]\n"
     ]
    }
   ],
   "source": [
    "print(rev_place_list)\n",
    "print(rev_head_list)\n",
    "print(rev_body_list)\n",
    "print(rev_date_list)\n",
    "print(rev_rating_list)"
   ]
  },
  {
   "cell_type": "code",
   "execution_count": 27,
   "metadata": {},
   "outputs": [
    {
     "name": "stdout",
     "output_type": "stream",
     "text": [
      "134\n",
      "134\n",
      "134\n",
      "134\n",
      "134\n"
     ]
    }
   ],
   "source": [
    "print(len(rev_place_list))\n",
    "print(len(rev_head_list))\n",
    "print(len(rev_body_list))\n",
    "print(len(rev_rating_list))\n",
    "print(len(rev_date_list))"
   ]
  }
 ],
 "metadata": {
  "kernelspec": {
   "display_name": "Python 3",
   "language": "python",
   "name": "python3"
  },
  "language_info": {
   "codemirror_mode": {
    "name": "ipython",
    "version": 3
   },
   "file_extension": ".py",
   "mimetype": "text/x-python",
   "name": "python",
   "nbconvert_exporter": "python",
   "pygments_lexer": "ipython3",
   "version": "3.6.7"
  }
 },
 "nbformat": 4,
 "nbformat_minor": 2
}
