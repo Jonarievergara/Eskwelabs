{
 "cells": [
  {
   "cell_type": "code",
   "execution_count": 5,
   "metadata": {},
   "outputs": [],
   "source": [
    "# import bs4, requests\n",
    "# index_pages = ('http://www.tripadvisor.com.ph/Hotels-g295424-oa{}-Dubai_Emirate_of_Dubai-Hotels.html#ACCOM_OVERVIEW'.format(i) for i in range(0, 540, 30))\n",
    "# urls = []\n",
    "# with requests.session() as s:\n",
    "#     for index in index_pages:\n",
    "#         r = s.get(index)\n",
    "#         soup = bs4.BeautifulSoup(r.text, 'lxml')\n",
    "#         url_list = [i.get('href') for i in soup.select('.property_title')]\n",
    "#         urls.append(url_list)"
   ]
  },
  {
   "cell_type": "code",
   "execution_count": 6,
   "metadata": {},
   "outputs": [],
   "source": [
    "# index_pages"
   ]
  },
  {
   "cell_type": "code",
   "execution_count": 7,
   "metadata": {},
   "outputs": [],
   "source": [
    "# len(urls)"
   ]
  },
  {
   "cell_type": "code",
   "execution_count": 8,
   "metadata": {},
   "outputs": [],
   "source": [
    "# count = 0\n",
    "# for i in urls:\n",
    "#     for j in i:\n",
    "# #         count += 1\n",
    "# count"
   ]
  },
  {
   "cell_type": "code",
   "execution_count": 2,
   "metadata": {},
   "outputs": [],
   "source": [
    "import requests\n",
    "from bs4 import BeautifulSoup\n",
    "headers = requests.utils.default_headers()\n",
    "headers.update({\n",
    "    'User-Agent': 'Mozilla/5.0 (X11; Ubuntu; Linux x86_64; rv:52.0) Gecko/20100101 Firefox/52.0',\n",
    "})\n",
    "page = requests.get(\"https://www.tripadvisor.com.ph/Attractions-g293790-Activities-c47-t163-Ethiopia.html\")\n",
    "# page.content\n",
    "soup = BeautifulSoup(page.content, 'html.parser')\n",
    "sites = soup.find_all(class_='listing_title')\n",
    "url_list = ['https://www.tripadvisor.com.ph' + i.a.get('href') for i in sites]"
   ]
  },
  {
   "cell_type": "code",
   "execution_count": 15,
   "metadata": {},
   "outputs": [
    {
     "data": {
      "text/plain": [
       "['https://www.tripadvisor.com.ph/Attraction_Review-g480193-d10147730-Reviews-Church_of_St_George-Lalibela_Amhara_Region.html',\n",
       " 'https://www.tripadvisor.com.ph/Attraction_Review-g480193-d5427774-Reviews-Yemrehanna_Kristos-Lalibela_Amhara_Region.html',\n",
       " 'https://www.tripadvisor.com.ph/Attraction_Review-g676757-d6620573-Reviews-Harar_Jegol_Wall-Harar_Harari_Region.html',\n",
       " 'https://www.tripadvisor.com.ph/Attraction_Review-g480192-d7249001-Reviews-Monastery_of_Debre_Mariam-Bahir_Dar_Amhara_Region.html',\n",
       " 'https://www.tripadvisor.com.ph/Attraction_Review-g1510618-d4600996-Reviews-Konso_Cultural_Centre-Konso_Southern_Nations_Nationalities_and_People_s_Region.html',\n",
       " 'https://www.tripadvisor.com.ph/Attraction_Review-g3667784-d5587721-Reviews-King_Ezana_s_inscription-Axum_Tigray_Region.html',\n",
       " 'https://www.tripadvisor.com.ph/Attraction_Review-g1237174-d4814274-Reviews-Dasenech_Village-Turmi_Southern_Nations_Nationalities_and_People_s_Region.html',\n",
       " 'https://www.tripadvisor.com.ph/Attraction_Review-g3667784-d5587720-Reviews-Tombs_of_Kings_Kaleb_and_Gebre_Meskal-Axum_Tigray_Region.html',\n",
       " 'https://www.tripadvisor.com.ph/Attraction_Review-g293791-d6413070-Reviews-The_Mausoleum_of_Menelik_II-Addis_Ababa.html',\n",
       " 'https://www.tripadvisor.com.ph/Attraction_Review-g293791-d19283853-Reviews-Unity_Park-Addis_Ababa.html',\n",
       " 'https://www.tripadvisor.com.ph/Attraction_Review-g1401789-d6475015-Reviews-Monastery_of_Debre_Damo-Adigrat_Tigray_Region.html',\n",
       " 'https://www.tripadvisor.com.ph/Attraction_Review-g1015732-d16855219-Reviews-Simion_Mountains_National_Park-Debark_Amhara_Region.html',\n",
       " 'https://www.tripadvisor.com.ph/Attraction_Review-g1392610-d7776556-Reviews-Abreha_and_Atsbeha_Church-Mek_ele_Tigray_Region.html',\n",
       " 'https://www.tripadvisor.com.ph/Attraction_Review-g480193-d12238848-Reviews-Biete_Medhane_Alem-Lalibela_Amhara_Region.html',\n",
       " 'https://www.tripadvisor.com.ph/Attraction_Review-g293791-d8041653-Reviews-Menelik_II_Square-Addis_Ababa.html',\n",
       " 'https://www.tripadvisor.com.ph/Attraction_Review-g293791-d8041628-Reviews-Yekatit_12_Martyrs_Square-Addis_Ababa.html',\n",
       " 'https://www.tripadvisor.com.ph/Attraction_Review-g293791-d8041858-Reviews-Meskel_Square-Addis_Ababa.html',\n",
       " 'https://www.tripadvisor.com.ph/Attraction_Review-g1071622-d6554834-Reviews-Aba_Jifar_Palace-Jimma_Oromiya_Region.html',\n",
       " 'https://www.tripadvisor.com.ph/Attraction_Review-g3667784-d12654582-Reviews-Ezana_Park-Axum_Tigray_Region.html',\n",
       " 'https://www.tripadvisor.com.ph/Attraction_Review-g293791-d11950752-Reviews-Karls_Square-Addis_Ababa.html',\n",
       " 'https://www.tripadvisor.com.ph/Attraction_Review-g676757-d6925351-Reviews-Juma_Mosque-Harar_Harari_Region.html',\n",
       " 'https://www.tripadvisor.com.ph/Attraction_Review-g480192-d5433711-Reviews-CHE_CHE_Ido-Bahir_Dar_Amhara_Region.html',\n",
       " 'https://www.tripadvisor.com.ph/Attraction_Review-g293791-d10106066-Reviews-Meyazia_27_Square_Monument-Addis_Ababa.html',\n",
       " 'https://www.tripadvisor.com.ph/Attraction_Review-g3667784-d12654581-Reviews-King_Bazen_s_Tomb-Axum_Tigray_Region.html',\n",
       " 'https://www.tripadvisor.com.ph/Attraction_Review-g480192-d10385234-Reviews-Amhara_People_s_Martyrs_Memorial_Monument-Bahir_Dar_Amhara_Region.html',\n",
       " 'https://www.tripadvisor.com.ph/Attraction_Review-g293791-d14064628-Reviews-Ketchene_Potter-Addis_Ababa.html',\n",
       " 'https://www.tripadvisor.com.ph/Attraction_Review-g676757-d12578975-Reviews-Tobm_of_Amir_Nur-Harar_Harari_Region.html',\n",
       " 'https://www.tripadvisor.com.ph/Attraction_Review-g293791-d13002147-Reviews-Tewodros_Square-Addis_Ababa.html',\n",
       " 'https://www.tripadvisor.com.ph/Attraction_Review-g317059-d12654578-Reviews-Falasha_Village-Gonder_Amhara_Region.html']"
      ]
     },
     "execution_count": 15,
     "metadata": {},
     "output_type": "execute_result"
    }
   ],
   "source": [
    "url_list"
   ]
  },
  {
   "cell_type": "code",
   "execution_count": 31,
   "metadata": {},
   "outputs": [
    {
     "data": {
      "text/plain": [
       "['https://www.tripadvisor.com.ph/Attraction_Review-g480193-d10147730-Reviews-Church_of_St_George-Lalibela_Amhara_Region.html',\n",
       " 'https://www.tripadvisor.com.ph/Attraction_Review-g480193-d5427774-Reviews-Yemrehanna_Kristos-Lalibela_Amhara_Region.html',\n",
       " 'https://www.tripadvisor.com.ph/Attraction_Review-g676757-d6620573-Reviews-Harar_Jegol_Wall-Harar_Harari_Region.html',\n",
       " 'https://www.tripadvisor.com.ph/Attraction_Review-g480192-d7249001-Reviews-Monastery_of_Debre_Mariam-Bahir_Dar_Amhara_Region.html',\n",
       " 'https://www.tripadvisor.com.ph/Attraction_Review-g1510618-d4600996-Reviews-Konso_Cultural_Centre-Konso_Southern_Nations_Nationalities_and_People_s_Region.html']"
      ]
     },
     "execution_count": 31,
     "metadata": {},
     "output_type": "execute_result"
    }
   ],
   "source": [
    "url_list2 = url_list[0:5]\n",
    "url_list2"
   ]
  },
  {
   "cell_type": "code",
   "execution_count": 75,
   "metadata": {},
   "outputs": [],
   "source": [
    "import time\n",
    "import random\n",
    "\n",
    "final_url_list = []\n",
    "skipped_urls = []"
   ]
  },
  {
   "cell_type": "code",
   "execution_count": 54,
   "metadata": {},
   "outputs": [],
   "source": [
    "def getFinalList(x):\n",
    "    for i in x:\n",
    "        page_nos = []\n",
    "        print('site: ', i)\n",
    "        page = requests.get(i, headers = headers)\n",
    "        soup = BeautifulSoup(page.content, 'html.parser')\n",
    "        for j in soup.find_all('a'):\n",
    "            if j.get('data-page-number') != None:\n",
    "                page_nos.append(j.get('data-page-number'))\n",
    "        page_nos = list(map(int, page_nos))\n",
    "        print(page_nos)\n",
    "        time.sleep(random.uniform(3, 5))\n",
    "        if len(page_nos) == 0 and i not in skipped_urls:\n",
    "            skipped_urls.append(i)\n",
    "        if len(page_nos) > 0 and i in skipped_urls:\n",
    "            skipped_urls.remove(i)\n",
    "        print('skipped: ', skipped_urls)\n",
    "    if len(skipped_urls) != 0:\n",
    "        print('restarting function...')\n",
    "        getFinalList(skipped_urls)"
   ]
  },
  {
   "cell_type": "code",
   "execution_count": 55,
   "metadata": {},
   "outputs": [
    {
     "name": "stdout",
     "output_type": "stream",
     "text": [
      "site:  https://www.tripadvisor.com.ph/Attraction_Review-g480193-d10147730-Reviews-Church_of_St_George-Lalibela_Amhara_Region.html\n",
      "[2, 1, 2, 3, 4, 5, 6, 19]\n",
      "skipped:  []\n",
      "site:  https://www.tripadvisor.com.ph/Attraction_Review-g480193-d5427774-Reviews-Yemrehanna_Kristos-Lalibela_Amhara_Region.html\n",
      "[2, 1, 2, 3, 4, 5, 6, 16]\n",
      "skipped:  []\n",
      "site:  https://www.tripadvisor.com.ph/Attraction_Review-g676757-d6620573-Reviews-Harar_Jegol_Wall-Harar_Harari_Region.html\n",
      "[2, 1, 2, 3, 4, 5, 6, 9]\n",
      "skipped:  []\n",
      "site:  https://www.tripadvisor.com.ph/Attraction_Review-g480192-d7249001-Reviews-Monastery_of_Debre_Mariam-Bahir_Dar_Amhara_Region.html\n",
      "[]\n",
      "skipped:  ['https://www.tripadvisor.com.ph/Attraction_Review-g480192-d7249001-Reviews-Monastery_of_Debre_Mariam-Bahir_Dar_Amhara_Region.html']\n",
      "site:  https://www.tripadvisor.com.ph/Attraction_Review-g1510618-d4600996-Reviews-Konso_Cultural_Centre-Konso_Southern_Nations_Nationalities_and_People_s_Region.html\n",
      "[2, 1, 2, 3]\n",
      "skipped:  ['https://www.tripadvisor.com.ph/Attraction_Review-g480192-d7249001-Reviews-Monastery_of_Debre_Mariam-Bahir_Dar_Amhara_Region.html']\n",
      "restarting function...\n",
      "site:  https://www.tripadvisor.com.ph/Attraction_Review-g480192-d7249001-Reviews-Monastery_of_Debre_Mariam-Bahir_Dar_Amhara_Region.html\n",
      "[2, 1, 2, 3, 4, 5]\n",
      "skipped:  []\n"
     ]
    }
   ],
   "source": [
    "getFinalList(url_list2)"
   ]
  },
  {
   "cell_type": "code",
   "execution_count": 58,
   "metadata": {},
   "outputs": [
    {
     "name": "stdout",
     "output_type": "stream",
     "text": [
      "https://www.tripadvisor.com.ph/Attraction_Review-g480193-d10147730-Reviews-Church_of_St_George-Lalibela_Amhara_Region.html\n",
      "https://www.tripadvisor.com.ph/Attraction_Review-g480193-d5427774-Reviews-Yemrehanna_Kristos-Lalibela_Amhara_Region.html\n",
      "https://www.tripadvisor.com.ph/Attraction_Review-g676757-d6620573-Reviews-Harar_Jegol_Wall-Harar_Harari_Region.html\n",
      "https://www.tripadvisor.com.ph/Attraction_Review-g480192-d7249001-Reviews-Monastery_of_Debre_Mariam-Bahir_Dar_Amhara_Region.html\n",
      "https://www.tripadvisor.com.ph/Attraction_Review-g1510618-d4600996-Reviews-Konso_Cultural_Centre-Konso_Southern_Nations_Nationalities_and_People_s_Region.html\n"
     ]
    }
   ],
   "source": [
    "# do regex\n",
    "import re\n",
    "for i in url_list2:\n",
    "    print(i)"
   ]
  },
  {
   "cell_type": "code",
   "execution_count": 59,
   "metadata": {},
   "outputs": [
    {
     "data": {
      "text/plain": [
       "'https://www.tripadvisor.com.ph/Attraction_Review-g480193-d10147730-Reviews-Church_of_St_George-Lalibela_Amhara_Region.html'"
      ]
     },
     "execution_count": 59,
     "metadata": {},
     "output_type": "execute_result"
    }
   ],
   "source": [
    "x = url_list2[0]\n",
    "x"
   ]
  },
  {
   "cell_type": "code",
   "execution_count": 72,
   "metadata": {},
   "outputs": [
    {
     "name": "stdout",
     "output_type": "stream",
     "text": [
      "https://www.tripadvisor.com.ph/Attraction_Review-g480193-d10147730-Reviews-\n",
      "-Church_of_St_George-Lalibela_Amhara_Region.html\n"
     ]
    }
   ],
   "source": [
    "pre = re.findall('https://www.tripadvisor.com.ph/Attraction_Review-\\w\\d+-\\w\\d+-Reviews-' , x)\n",
    "\n",
    "post = re.findall('Reviews-\\D+' , x)\n",
    "\n",
    "print(pre[0])\n",
    "print(post[0].replace('Reviews', ''))\n",
    "print()"
   ]
  },
  {
   "cell_type": "code",
   "execution_count": 76,
   "metadata": {},
   "outputs": [
    {
     "data": {
      "text/plain": [
       "['https://www.tripadvisor.com.ph/Attraction_Review-g480193-d10147730-Reviews-or10-Church_of_St_George-Lalibela_Amhara_Region.html',\n",
       " 'https://www.tripadvisor.com.ph/Attraction_Review-g480193-d10147730-Reviews-or20-Church_of_St_George-Lalibela_Amhara_Region.html',\n",
       " 'https://www.tripadvisor.com.ph/Attraction_Review-g480193-d10147730-Reviews-or30-Church_of_St_George-Lalibela_Amhara_Region.html',\n",
       " 'https://www.tripadvisor.com.ph/Attraction_Review-g480193-d10147730-Reviews-or40-Church_of_St_George-Lalibela_Amhara_Region.html',\n",
       " 'https://www.tripadvisor.com.ph/Attraction_Review-g480193-d10147730-Reviews-or50-Church_of_St_George-Lalibela_Amhara_Region.html',\n",
       " 'https://www.tripadvisor.com.ph/Attraction_Review-g480193-d10147730-Reviews-or60-Church_of_St_George-Lalibela_Amhara_Region.html',\n",
       " 'https://www.tripadvisor.com.ph/Attraction_Review-g480193-d10147730-Reviews-or70-Church_of_St_George-Lalibela_Amhara_Region.html',\n",
       " 'https://www.tripadvisor.com.ph/Attraction_Review-g480193-d10147730-Reviews-or80-Church_of_St_George-Lalibela_Amhara_Region.html',\n",
       " 'https://www.tripadvisor.com.ph/Attraction_Review-g480193-d10147730-Reviews-or90-Church_of_St_George-Lalibela_Amhara_Region.html',\n",
       " 'https://www.tripadvisor.com.ph/Attraction_Review-g480193-d10147730-Reviews-or100-Church_of_St_George-Lalibela_Amhara_Region.html',\n",
       " 'https://www.tripadvisor.com.ph/Attraction_Review-g480193-d10147730-Reviews-or110-Church_of_St_George-Lalibela_Amhara_Region.html',\n",
       " 'https://www.tripadvisor.com.ph/Attraction_Review-g480193-d10147730-Reviews-or120-Church_of_St_George-Lalibela_Amhara_Region.html',\n",
       " 'https://www.tripadvisor.com.ph/Attraction_Review-g480193-d10147730-Reviews-or130-Church_of_St_George-Lalibela_Amhara_Region.html',\n",
       " 'https://www.tripadvisor.com.ph/Attraction_Review-g480193-d10147730-Reviews-or140-Church_of_St_George-Lalibela_Amhara_Region.html',\n",
       " 'https://www.tripadvisor.com.ph/Attraction_Review-g480193-d10147730-Reviews-or150-Church_of_St_George-Lalibela_Amhara_Region.html',\n",
       " 'https://www.tripadvisor.com.ph/Attraction_Review-g480193-d10147730-Reviews-or160-Church_of_St_George-Lalibela_Amhara_Region.html',\n",
       " 'https://www.tripadvisor.com.ph/Attraction_Review-g480193-d10147730-Reviews-or170-Church_of_St_George-Lalibela_Amhara_Region.html',\n",
       " 'https://www.tripadvisor.com.ph/Attraction_Review-g480193-d10147730-Reviews-or180-Church_of_St_George-Lalibela_Amhara_Region.html',\n",
       " 'https://www.tripadvisor.com.ph/Attraction_Review-g480193-d5427774-Reviews-or10-Yemrehanna_Kristos-Lalibela_Amhara_Region.html',\n",
       " 'https://www.tripadvisor.com.ph/Attraction_Review-g480193-d5427774-Reviews-or20-Yemrehanna_Kristos-Lalibela_Amhara_Region.html',\n",
       " 'https://www.tripadvisor.com.ph/Attraction_Review-g480193-d5427774-Reviews-or30-Yemrehanna_Kristos-Lalibela_Amhara_Region.html',\n",
       " 'https://www.tripadvisor.com.ph/Attraction_Review-g480193-d5427774-Reviews-or40-Yemrehanna_Kristos-Lalibela_Amhara_Region.html',\n",
       " 'https://www.tripadvisor.com.ph/Attraction_Review-g480193-d5427774-Reviews-or50-Yemrehanna_Kristos-Lalibela_Amhara_Region.html',\n",
       " 'https://www.tripadvisor.com.ph/Attraction_Review-g480193-d5427774-Reviews-or60-Yemrehanna_Kristos-Lalibela_Amhara_Region.html',\n",
       " 'https://www.tripadvisor.com.ph/Attraction_Review-g480193-d5427774-Reviews-or70-Yemrehanna_Kristos-Lalibela_Amhara_Region.html',\n",
       " 'https://www.tripadvisor.com.ph/Attraction_Review-g480193-d5427774-Reviews-or80-Yemrehanna_Kristos-Lalibela_Amhara_Region.html',\n",
       " 'https://www.tripadvisor.com.ph/Attraction_Review-g480193-d5427774-Reviews-or90-Yemrehanna_Kristos-Lalibela_Amhara_Region.html',\n",
       " 'https://www.tripadvisor.com.ph/Attraction_Review-g480193-d5427774-Reviews-or100-Yemrehanna_Kristos-Lalibela_Amhara_Region.html',\n",
       " 'https://www.tripadvisor.com.ph/Attraction_Review-g480193-d5427774-Reviews-or110-Yemrehanna_Kristos-Lalibela_Amhara_Region.html',\n",
       " 'https://www.tripadvisor.com.ph/Attraction_Review-g480193-d5427774-Reviews-or120-Yemrehanna_Kristos-Lalibela_Amhara_Region.html',\n",
       " 'https://www.tripadvisor.com.ph/Attraction_Review-g480193-d5427774-Reviews-or130-Yemrehanna_Kristos-Lalibela_Amhara_Region.html',\n",
       " 'https://www.tripadvisor.com.ph/Attraction_Review-g480193-d5427774-Reviews-or140-Yemrehanna_Kristos-Lalibela_Amhara_Region.html',\n",
       " 'https://www.tripadvisor.com.ph/Attraction_Review-g480193-d5427774-Reviews-or150-Yemrehanna_Kristos-Lalibela_Amhara_Region.html',\n",
       " 'https://www.tripadvisor.com.ph/Attraction_Review-g480193-d5427774-Reviews-or160-Yemrehanna_Kristos-Lalibela_Amhara_Region.html',\n",
       " 'https://www.tripadvisor.com.ph/Attraction_Review-g480193-d5427774-Reviews-or170-Yemrehanna_Kristos-Lalibela_Amhara_Region.html',\n",
       " 'https://www.tripadvisor.com.ph/Attraction_Review-g480193-d5427774-Reviews-or180-Yemrehanna_Kristos-Lalibela_Amhara_Region.html',\n",
       " 'https://www.tripadvisor.com.ph/Attraction_Review-g676757-d6620573-Reviews-or10-Harar_Jegol_Wall-Harar_Harari_Region.html',\n",
       " 'https://www.tripadvisor.com.ph/Attraction_Review-g676757-d6620573-Reviews-or20-Harar_Jegol_Wall-Harar_Harari_Region.html',\n",
       " 'https://www.tripadvisor.com.ph/Attraction_Review-g676757-d6620573-Reviews-or30-Harar_Jegol_Wall-Harar_Harari_Region.html',\n",
       " 'https://www.tripadvisor.com.ph/Attraction_Review-g676757-d6620573-Reviews-or40-Harar_Jegol_Wall-Harar_Harari_Region.html',\n",
       " 'https://www.tripadvisor.com.ph/Attraction_Review-g676757-d6620573-Reviews-or50-Harar_Jegol_Wall-Harar_Harari_Region.html',\n",
       " 'https://www.tripadvisor.com.ph/Attraction_Review-g676757-d6620573-Reviews-or60-Harar_Jegol_Wall-Harar_Harari_Region.html',\n",
       " 'https://www.tripadvisor.com.ph/Attraction_Review-g676757-d6620573-Reviews-or70-Harar_Jegol_Wall-Harar_Harari_Region.html',\n",
       " 'https://www.tripadvisor.com.ph/Attraction_Review-g676757-d6620573-Reviews-or80-Harar_Jegol_Wall-Harar_Harari_Region.html',\n",
       " 'https://www.tripadvisor.com.ph/Attraction_Review-g676757-d6620573-Reviews-or90-Harar_Jegol_Wall-Harar_Harari_Region.html',\n",
       " 'https://www.tripadvisor.com.ph/Attraction_Review-g676757-d6620573-Reviews-or100-Harar_Jegol_Wall-Harar_Harari_Region.html',\n",
       " 'https://www.tripadvisor.com.ph/Attraction_Review-g676757-d6620573-Reviews-or110-Harar_Jegol_Wall-Harar_Harari_Region.html',\n",
       " 'https://www.tripadvisor.com.ph/Attraction_Review-g676757-d6620573-Reviews-or120-Harar_Jegol_Wall-Harar_Harari_Region.html',\n",
       " 'https://www.tripadvisor.com.ph/Attraction_Review-g676757-d6620573-Reviews-or130-Harar_Jegol_Wall-Harar_Harari_Region.html',\n",
       " 'https://www.tripadvisor.com.ph/Attraction_Review-g676757-d6620573-Reviews-or140-Harar_Jegol_Wall-Harar_Harari_Region.html',\n",
       " 'https://www.tripadvisor.com.ph/Attraction_Review-g676757-d6620573-Reviews-or150-Harar_Jegol_Wall-Harar_Harari_Region.html',\n",
       " 'https://www.tripadvisor.com.ph/Attraction_Review-g676757-d6620573-Reviews-or160-Harar_Jegol_Wall-Harar_Harari_Region.html',\n",
       " 'https://www.tripadvisor.com.ph/Attraction_Review-g676757-d6620573-Reviews-or170-Harar_Jegol_Wall-Harar_Harari_Region.html',\n",
       " 'https://www.tripadvisor.com.ph/Attraction_Review-g676757-d6620573-Reviews-or180-Harar_Jegol_Wall-Harar_Harari_Region.html',\n",
       " 'https://www.tripadvisor.com.ph/Attraction_Review-g480192-d7249001-Reviews-or10-Monastery_of_Debre_Mariam-Bahir_Dar_Amhara_Region.html',\n",
       " 'https://www.tripadvisor.com.ph/Attraction_Review-g480192-d7249001-Reviews-or20-Monastery_of_Debre_Mariam-Bahir_Dar_Amhara_Region.html',\n",
       " 'https://www.tripadvisor.com.ph/Attraction_Review-g480192-d7249001-Reviews-or30-Monastery_of_Debre_Mariam-Bahir_Dar_Amhara_Region.html',\n",
       " 'https://www.tripadvisor.com.ph/Attraction_Review-g480192-d7249001-Reviews-or40-Monastery_of_Debre_Mariam-Bahir_Dar_Amhara_Region.html',\n",
       " 'https://www.tripadvisor.com.ph/Attraction_Review-g480192-d7249001-Reviews-or50-Monastery_of_Debre_Mariam-Bahir_Dar_Amhara_Region.html',\n",
       " 'https://www.tripadvisor.com.ph/Attraction_Review-g480192-d7249001-Reviews-or60-Monastery_of_Debre_Mariam-Bahir_Dar_Amhara_Region.html',\n",
       " 'https://www.tripadvisor.com.ph/Attraction_Review-g480192-d7249001-Reviews-or70-Monastery_of_Debre_Mariam-Bahir_Dar_Amhara_Region.html',\n",
       " 'https://www.tripadvisor.com.ph/Attraction_Review-g480192-d7249001-Reviews-or80-Monastery_of_Debre_Mariam-Bahir_Dar_Amhara_Region.html',\n",
       " 'https://www.tripadvisor.com.ph/Attraction_Review-g480192-d7249001-Reviews-or90-Monastery_of_Debre_Mariam-Bahir_Dar_Amhara_Region.html',\n",
       " 'https://www.tripadvisor.com.ph/Attraction_Review-g480192-d7249001-Reviews-or100-Monastery_of_Debre_Mariam-Bahir_Dar_Amhara_Region.html',\n",
       " 'https://www.tripadvisor.com.ph/Attraction_Review-g480192-d7249001-Reviews-or110-Monastery_of_Debre_Mariam-Bahir_Dar_Amhara_Region.html',\n",
       " 'https://www.tripadvisor.com.ph/Attraction_Review-g480192-d7249001-Reviews-or120-Monastery_of_Debre_Mariam-Bahir_Dar_Amhara_Region.html',\n",
       " 'https://www.tripadvisor.com.ph/Attraction_Review-g480192-d7249001-Reviews-or130-Monastery_of_Debre_Mariam-Bahir_Dar_Amhara_Region.html',\n",
       " 'https://www.tripadvisor.com.ph/Attraction_Review-g480192-d7249001-Reviews-or140-Monastery_of_Debre_Mariam-Bahir_Dar_Amhara_Region.html',\n",
       " 'https://www.tripadvisor.com.ph/Attraction_Review-g480192-d7249001-Reviews-or150-Monastery_of_Debre_Mariam-Bahir_Dar_Amhara_Region.html',\n",
       " 'https://www.tripadvisor.com.ph/Attraction_Review-g480192-d7249001-Reviews-or160-Monastery_of_Debre_Mariam-Bahir_Dar_Amhara_Region.html',\n",
       " 'https://www.tripadvisor.com.ph/Attraction_Review-g480192-d7249001-Reviews-or170-Monastery_of_Debre_Mariam-Bahir_Dar_Amhara_Region.html',\n",
       " 'https://www.tripadvisor.com.ph/Attraction_Review-g480192-d7249001-Reviews-or180-Monastery_of_Debre_Mariam-Bahir_Dar_Amhara_Region.html',\n",
       " 'https://www.tripadvisor.com.ph/Attraction_Review-g1510618-d4600996-Reviews-or10-Konso_Cultural_Centre-Konso_Southern_Nations_Nationalities_and_People_s_Region.html',\n",
       " 'https://www.tripadvisor.com.ph/Attraction_Review-g1510618-d4600996-Reviews-or20-Konso_Cultural_Centre-Konso_Southern_Nations_Nationalities_and_People_s_Region.html',\n",
       " 'https://www.tripadvisor.com.ph/Attraction_Review-g1510618-d4600996-Reviews-or30-Konso_Cultural_Centre-Konso_Southern_Nations_Nationalities_and_People_s_Region.html',\n",
       " 'https://www.tripadvisor.com.ph/Attraction_Review-g1510618-d4600996-Reviews-or40-Konso_Cultural_Centre-Konso_Southern_Nations_Nationalities_and_People_s_Region.html',\n",
       " 'https://www.tripadvisor.com.ph/Attraction_Review-g1510618-d4600996-Reviews-or50-Konso_Cultural_Centre-Konso_Southern_Nations_Nationalities_and_People_s_Region.html',\n",
       " 'https://www.tripadvisor.com.ph/Attraction_Review-g1510618-d4600996-Reviews-or60-Konso_Cultural_Centre-Konso_Southern_Nations_Nationalities_and_People_s_Region.html',\n",
       " 'https://www.tripadvisor.com.ph/Attraction_Review-g1510618-d4600996-Reviews-or70-Konso_Cultural_Centre-Konso_Southern_Nations_Nationalities_and_People_s_Region.html',\n",
       " 'https://www.tripadvisor.com.ph/Attraction_Review-g1510618-d4600996-Reviews-or80-Konso_Cultural_Centre-Konso_Southern_Nations_Nationalities_and_People_s_Region.html',\n",
       " 'https://www.tripadvisor.com.ph/Attraction_Review-g1510618-d4600996-Reviews-or90-Konso_Cultural_Centre-Konso_Southern_Nations_Nationalities_and_People_s_Region.html',\n",
       " 'https://www.tripadvisor.com.ph/Attraction_Review-g1510618-d4600996-Reviews-or100-Konso_Cultural_Centre-Konso_Southern_Nations_Nationalities_and_People_s_Region.html',\n",
       " 'https://www.tripadvisor.com.ph/Attraction_Review-g1510618-d4600996-Reviews-or110-Konso_Cultural_Centre-Konso_Southern_Nations_Nationalities_and_People_s_Region.html',\n",
       " 'https://www.tripadvisor.com.ph/Attraction_Review-g1510618-d4600996-Reviews-or120-Konso_Cultural_Centre-Konso_Southern_Nations_Nationalities_and_People_s_Region.html',\n",
       " 'https://www.tripadvisor.com.ph/Attraction_Review-g1510618-d4600996-Reviews-or130-Konso_Cultural_Centre-Konso_Southern_Nations_Nationalities_and_People_s_Region.html',\n",
       " 'https://www.tripadvisor.com.ph/Attraction_Review-g1510618-d4600996-Reviews-or140-Konso_Cultural_Centre-Konso_Southern_Nations_Nationalities_and_People_s_Region.html',\n",
       " 'https://www.tripadvisor.com.ph/Attraction_Review-g1510618-d4600996-Reviews-or150-Konso_Cultural_Centre-Konso_Southern_Nations_Nationalities_and_People_s_Region.html',\n",
       " 'https://www.tripadvisor.com.ph/Attraction_Review-g1510618-d4600996-Reviews-or160-Konso_Cultural_Centre-Konso_Southern_Nations_Nationalities_and_People_s_Region.html',\n",
       " 'https://www.tripadvisor.com.ph/Attraction_Review-g1510618-d4600996-Reviews-or170-Konso_Cultural_Centre-Konso_Southern_Nations_Nationalities_and_People_s_Region.html',\n",
       " 'https://www.tripadvisor.com.ph/Attraction_Review-g1510618-d4600996-Reviews-or180-Konso_Cultural_Centre-Konso_Southern_Nations_Nationalities_and_People_s_Region.html']"
      ]
     },
     "execution_count": 76,
     "metadata": {},
     "output_type": "execute_result"
    }
   ],
   "source": [
    "for i in url_list2:\n",
    "    pre = re.findall('https://www.tripadvisor.com.ph/Attraction_Review-\\w\\d+-\\w\\d+-Reviews-' , i)\n",
    "    post = re.findall('Reviews-\\D+' , i)\n",
    "    review_pages = ((pre[0] + 'or{}' + post[0].replace('Reviews', '')).format(i) for i in range(10, 190, 10))\n",
    "    final_url_list.extend(review_pages)\n",
    "final_url_list"
   ]
  },
  {
   "cell_type": "code",
   "execution_count": 29,
   "metadata": {},
   "outputs": [
    {
     "name": "stdout",
     "output_type": "stream",
     "text": [
      "readcheck:  17\n",
      "243\n",
      "readcheck:  17\n",
      "243\n",
      "readcheck:  17\n",
      "243\n",
      "readcheck:  17\n",
      "243\n",
      "readcheck:  0\n",
      "0\n",
      "readcheck:  17\n",
      "232\n",
      "readcheck:  0\n",
      "0\n",
      "readcheck:  17\n",
      "232\n",
      "readcheck:  17\n",
      "232\n",
      "readcheck:  17\n",
      "232\n",
      "readcheck:  17\n",
      "232\n",
      "readcheck:  17\n",
      "243\n",
      "readcheck:  17\n",
      "232\n",
      "readcheck:  0\n",
      "0\n",
      "readcheck:  17\n",
      "231\n",
      "readcheck:  0\n",
      "0\n",
      "readcheck:  17\n",
      "232\n",
      "readcheck:  0\n",
      "0\n",
      "readcheck:  17\n",
      "232\n",
      "readcheck:  17\n",
      "232\n"
     ]
    }
   ],
   "source": [
    "for i in range(0, 20):\n",
    "    page_nos = []\n",
    "    page = requests.get('https://www.tripadvisor.com.ph/Attraction_Review-g480193-d5427774-Reviews-Yemrehanna_Kristos-Lalibela_Amhara_Region.html', headers = headers)\n",
    "    soup = BeautifulSoup(page.content, 'html.parser')\n",
    "    readcheck = soup.find_all(class_ = 'count')\n",
    "    print('readcheck: ', len(readcheck))\n",
    "    for j in soup.find_all('a'):\n",
    "        if j.get('data-page-number') != None and readcheck != 0:\n",
    "            page_nos.append(j.get('data-page-number'))\n",
    "        elif j.get('data-page-number') == None and readcheck != 0:\n",
    "            page_nos.append(0)\n",
    "    if len(readcheck) == 0:\n",
    "        page_nos = []\n",
    "    print(len(page_nos))"
   ]
  },
  {
   "cell_type": "code",
   "execution_count": 28,
   "metadata": {},
   "outputs": [
    {
     "name": "stdout",
     "output_type": "stream",
     "text": [
      "readcheck:  2\n",
      "99\n",
      "readcheck:  2\n",
      "99\n",
      "readcheck:  2\n",
      "99\n",
      "readcheck:  2\n",
      "99\n",
      "readcheck:  0\n",
      "0\n",
      "readcheck:  2\n",
      "99\n",
      "readcheck:  2\n",
      "99\n",
      "readcheck:  2\n",
      "99\n",
      "readcheck:  0\n",
      "0\n",
      "readcheck:  2\n",
      "99\n",
      "readcheck:  0\n",
      "0\n",
      "readcheck:  2\n",
      "99\n",
      "readcheck:  2\n",
      "98\n",
      "readcheck:  2\n",
      "99\n",
      "readcheck:  2\n",
      "99\n",
      "readcheck:  2\n",
      "99\n",
      "readcheck:  2\n",
      "99\n",
      "readcheck:  0\n",
      "0\n",
      "readcheck:  2\n",
      "99\n",
      "readcheck:  2\n",
      "99\n"
     ]
    }
   ],
   "source": [
    "for i in range(0, 20):\n",
    "    page_nos = []\n",
    "    page = requests.get('https://www.tripadvisor.com.ph/Attraction_Review-g293791-d13002147-Reviews-Tewodros_Square-Addis_Ababa.html', headers = headers)\n",
    "    soup = BeautifulSoup(page.content, 'html.parser')\n",
    "    readcheck = soup.find_all(class_ = 'count')\n",
    "    print('readcheck: ', len(readcheck))\n",
    "    for j in soup.find_all('a'):\n",
    "        if j.get('data-page-number') != None and readcheck != 0:\n",
    "            page_nos.append(j.get('data-page-number'))\n",
    "        elif j.get('data-page-number') == None and readcheck != 0:\n",
    "            page_nos.append(0)\n",
    "    if len(readcheck) == 0:\n",
    "        page_nos = []\n",
    "    print(len(page_nos))"
   ]
  }
 ],
 "metadata": {
  "kernelspec": {
   "display_name": "Python 3",
   "language": "python",
   "name": "python3"
  },
  "language_info": {
   "codemirror_mode": {
    "name": "ipython",
    "version": 3
   },
   "file_extension": ".py",
   "mimetype": "text/x-python",
   "name": "python",
   "nbconvert_exporter": "python",
   "pygments_lexer": "ipython3",
   "version": "3.6.7"
  }
 },
 "nbformat": 4,
 "nbformat_minor": 2
}
